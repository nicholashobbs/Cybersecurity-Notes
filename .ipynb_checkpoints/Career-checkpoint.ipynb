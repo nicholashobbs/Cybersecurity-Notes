{
 "cells": [
  {
   "cell_type": "markdown",
   "metadata": {},
   "source": [
    "# My Resume"
   ]
  },
  {
   "cell_type": "markdown",
   "metadata": {},
   "source": [
    "## CV Project\n",
    "\n",
    "### Background\n",
    "\n",
    "* This project involves trying to make sense of a dataset from ILRI in Kenya which has 120,000 geotagged cell phone pictures which are associated with survey data.\n",
    "* The survey asked pastoralists to rate the carrying capacity of the land by asking how many cows could be fed by the available forage within 20 steps in every direction for one day.\n",
    "* The survey then asked participants whether there were grass, shrubs or trees in the area and whether they had green, brown or no leaves. It also asked whether there were animals grazing, and how far away the nearest source of water was.\n",
    "\n",
    "### Issues\n",
    "\n",
    "* There are a number of issues with the data collected and the survey design. The images are poor quality and seem to have been processed somehow, although it's not clear how. Colors seem to be blended together in a strange way, as if the images have been compressed.\n",
    "* Some of the pictures are of people, villages, or people holding up printed pictures. Some pictures are clearly geotagged wrong, indicating that they may have been uploaded from a different place than where they were taken.\n",
    "* The way that herders were asked about carrying capacity is problematic. Participants were asked about an area within a 20 step radius, but the pictures only show one direction which may or may not be consistent with the carrying capacity rating.\n",
    "* Some of the survey data is unintelligible. For example, there are certain rows which have a value 3 3 1 1 2 2 in a column where the possible values are 1 2 and 3. The survey app is based on OpenDataKit Collect, and it seems like these responses mean that someone checked and unchecked an option, resulting in 2 clicks. For now, I have just discarded these rows for the few experiments I have run, because there are not very many instances.\n",
    "\n",
    "\n",
    "### Methodology\n",
    "\n",
    "The goals for the outcome of this project are: \n",
    "\n",
    "1. Find the highest quality data and identify the indicators of what high quality data is like in this context.\n",
    "2. Use computer vision models and other forms of analysis to identify the best ways to infer carrying capacity from survey data and images\n",
    "3. Use what I have learned from the process to come up with suggestions as to how future experiments might be designed more effectively.\n",
    "\n",
    "\n",
    "* To start I created an efficient way to preview a few random images from whatever subset of the data I select without downloading all 120,000.\n",
    "* These images can be previewed on a map, along with their carrying capacity score and the corresponding NDVI from MODIS data on Google Earth Engine. I have to use my brother's account to access this since I haven't been accepted into Google Earth Engine yet. This is something I will go back to once I have more meaningful results from the dataset.\n",
    "* I will ultimately use this survey data along with MODIS satellite data to try to find techniques which get close to the results of the NDVI (Normalized Difference Vegetation Index).\n",
    "* The NDVI works by measuring the ratio of visible light(0.4-0.7 $\\mu$m), which is strongly absorbed by chlorophyl for photosynthesis, vs near infrared light (0.7-1.1 $\\mu$m), which is strongly reflected by the cell structure of leaves. \n",
    "\n",
    "$$NDVI = \\frac{NIR - Red}{NIR + Red}$$\n",
    "\n",
    "* When researchers first noticed the data quality issues, they hired mechanical turks to re-rate the carrying capacity of the land based on images. I don't know much about the details of this, but I haven't used any of this data because it doesn't seem to have helped clarify anything.\n",
    "\n",
    "### Experiments\n",
    "\n",
    "* Initially, I tried just running tensorflow with imagenet-v3 to see what would happen if we attempted to predict the column CarryingCapacity directly. Unsuprisingly, this didn't work at all. We then tried something slightly more realistic, recognizing trees using inception, which worked just as badly. \n",
    "* To improve the performance of models, the data needs to be cleaned and organized more and the model needs to be designed to solve this specific problem rather than attempting to solve it with a massive pretrained network.\n",
    "* At first, I attempted to get these same tensorflow models to work on smaller, processed versions of the dataset. I tried sobel edge detection and color quantization using k-means to create simplified versions of 10,000 of the images, and then tried the same thing on tensorflow. The results were a bit better, but still not very meaningful.\n",
    "* In addition, I experimented with measuring the red, green and blue levels of each image, the ratios between these, and simplifying the image by making the dominant colors more prominent. This method didn't work at all, because much of the vegetation in the images is in the shade and much more blue than green. In addition, brown or dead vegetation tends to blend into the plants, and green vegetation tends to blend into the sky due to blue shadows.\n",
    "\n",
    "* I created subsets of the data based on seemingly consistent and inconsistent answers to survey questions. I created a 'score' for answers which suggest higher carrying capacity, and another score which is for variables which suggest lower carrying capacity. for example green grass and dense grass, high carrying capacity and lots of animals, etc. Images with inconsistent tags do turn out to be more likely junk data, but most images have some \"negative\" and some \"positive\" indicators, meaning that this is only good for identifying some certain bad images. I created a 3d visualization to show that there is no clear pattern to these scores, except that very few images score high on positive and negative indicators simultaneously.\n",
    "* Most recently, I've started trying with these cleaned up subsets of the data to run randomforest classifiers and then inspect which variables most impact carryingcapacity. This has given me more information than any of the other experiments so far, so I'm looking forward to go down this path by trying different algorithms and other ways to use the survey data to infer what is in the pictures or what the satellite says."
   ]
  },
  {
   "cell_type": "markdown",
   "metadata": {},
   "source": [
    "## Cyber Insurance Presentation\n",
    "\n",
    "1. People need to do the cheapest and easiest thing first because many attorneys and small business owners have limited time or desire to learn about cybersecurity. The simplest step to greater security is awareness of policies, data, threats, devices, and consequences.\n",
    "2. GDPR and the California Consumer Privacy Act are coming, and what this means\n",
    "3. Cyberinsurance and how to shop for it\n",
    "4. Further resources, checklists and where to go if you need more help.\n",
    "\n",
    "### Cheapest and Easiest ways to Increase Cybersecurity\n",
    "\n",
    "#### Social Engineering Awareness\n",
    "Its very difficult to be effective at teaching people not to fall for it - social engineering can be very good\n",
    "\n",
    "#### Audit Your Data\n",
    "* What personal data do you have? (include paper and digital)   \n",
    "* Where is it sent and shared?    \n",
    "* Where is it stored?    \n",
    "* How is it processed? \n",
    "* Who knows how it is processed?\n",
    "* How is it collected?\n",
    "\n",
    "#### Get/Configure a Firewall\n",
    "\n",
    "Ensure it is not using default credentials or it is useless. \n",
    "Block pings unless you have a reason not to.\n",
    "Assign specific IPs to specific MAC addresses on your internal network so you it is easier to read and interpret logs\n",
    "\n",
    "#### Keep Firmware and Software Updated\n",
    "\n",
    "On all network devices - if it is not important enough to be updated it should not be connected to the network.\n",
    "\n",
    "#### Check your open ports\n",
    "\n",
    "This is typically an attacker's first step - enumerate IP addresses and run scans on them with nmap, masscan, nessus, nikto, etc.\n",
    "\n",
    "#### Use VLANS to segment your internal network\n",
    "\n",
    "This is an effective and simple way to implement the principle that all network users should have access only to the resources which they need.\n",
    "\n",
    "#### Use an IPS or IDS\n",
    "\n",
    "Sometimes included in UTM (Unified Threat Management) devices, an IPS will look for anomalies and attempt to identify malicious activities. \n",
    "\n",
    "#### Use a WAF\n",
    "\n",
    "A Web Application Firewall is a tool which can help you protect yourself if you host applications. \n",
    "\n",
    "#### Use a VPN\n",
    "\n",
    "Workers can log into a VPN to protect against threats of connecting from risky mobile environments and to allow remote workers access to the network from a distance.\n",
    "\n",
    "\n",
    "### GDPR and California Consumer Privacy Act of 2018\n",
    "\n",
    "#### GDPR Summary\n",
    "\n",
    "Infingements related to obligations of controller and processor are subject to fines of up to 10M Euros or 2% of worldwide annual turnover, whichever is higher.\n",
    "\n",
    "Infringements regarding basic principles for processing, data-subject rights, transfers of personal data, or noncompliance are subject to fines of up to 20M Euros or 4% of worldwide annual turnover, whichever is higher.\n",
    "\n",
    "For the consumer, businesses must:\n",
    "* Demonstrate Compliance with GDPR\n",
    "* Get parental consent for processing personal data of children under the age of 16\n",
    "* Have defined data controllers and data processors\n",
    "* Implement Privacy by Design\n",
    "* Processors are only allowed to apply predetermined, written instructions to data\n",
    "* Processors and Controllers must have clear arrangements as to who is responsible for what\n",
    "* Controllers must keep records of all data processing\n",
    "* Controllers and processors are responsible for security, and if there is a breach, data subject must be notified\n",
    "* Data subject has right to information about processings\n",
    "* Data subject has the right to be forgotten (business must delete personal data)\n",
    "* Data subject has the right to export data in such a way that it can be brought to a different organization\n",
    "* Data subject can request postponement or stopping of data being processed, unless controller demonstrates 'compelling legitimate grounds' for processing - however if the data is processed for direct-marketing, data subjects can object at any time.\n",
    "* Data subject can object to automated decision making. For example, they can choose to opt out of a decision if it involves the data subject being profiled automatically. \n",
    "* Controllers and processors shall designate a data protection officer whose core activities consist of regular and systematic monitoring of personal data - DPO shall act indepndently of controllers and processors and report directly to the highest level of management. \n",
    "* Communicate data breach to data subject without undue delay if the data breach is likely to result in high risk to rights and freedoms of individuals\n",
    "\n",
    "For the supervisory authority, businesses must:\n",
    "* Notify of data breaches\n",
    "* Complete data protection impact assessments\n",
    "* Consult supervisory authority prior to processing\n",
    "* Assign a data protection officer\n",
    "\n",
    "Supervisory authority may:\n",
    "* Monitor and enforce compliance\n",
    "* Require information for investigations\n",
    "* Issue warnings and reprimands\n",
    "* Order compliance with data subject requests\n",
    "* Impose limiations or bans on processings\n",
    "\n",
    "#### California Consumer Privacy Act Summary\n",
    "\n",
    "1798.100 - Consumer has the right to request what personal information a business has collected about them - a business that has collected this information is required to disclose it to the consumer.\n",
    "\n",
    "1798.101 - Consumer has the right to request information on what data has been sold to third parties for business purposes. This includes information about what type of personal information and to whom it has been sold\n",
    "\n",
    "1798.102 - Consumer has the right to say that a company is not allowed to sell their personal information. The business must provide notice to customers that their information will be sold and that consumers have the right to opt out.\n",
    "\n",
    "1798.103 - A business may not discriminate against consumers because they have requested information or directed the business not to sell their information. Discrimination includes denying goods or services, charging different prices, providing lower quality goods or services, or suggesting that the consumer will receive different prices or lower quality goods.\n",
    "\n",
    "1798.104 - There must be two or more designated methods for submitting requests for information required to be disclosed - minimum includes a web address and toll-free phone number. Information must be provided to the consumer within 45 days of a verifiable request.\n",
    "\n",
    "1798.105 - There must be a \"Do Not Sell My Personal Information\" Link on the business's homepage - the company can not require consumer to set up an account to direct them not to sell their personal information. (and some more details)\n",
    "\n",
    "1798.106 - Defines Biometric Data, Business, Business purpose, clear and conspicuous, commercial purposes, consumer, de-identified, designated methods for submitting requests. homepage, infer, inference, person, personal information, probabilistic identifier, psychometric information, publicly available, sell, selling, sale, sold, service, services, third party, unique identifier, verifiable request\n",
    "\n",
    "1798.107 - Exemptions: obligations shall not restrict a business's ability to comply with federal, state, or local laws. Obligations shall not apply where compliance violates evidentiary privelege under california law. The act does not apply to protected health information which is collected by a covered entity governed by medical privacy and security rules issued by Federal Department of Health and Human Services, Parts 160 and 164 of title 45 established pursuant to HIPAA (1996). The act does not apply to sale of personal information if it is to be reported in or used to generate a consumer report as defined by Fair Credit Reporting Act (subdivision d of Section 1681(a) of Title 15 of the US Code.\n",
    "\n",
    "1798.108 - Consumers who have suffered a violation of the act can bring statuatory damaged. Consumers get at least \\$1000 and up to \\$3000, or actual damages - whichever is more.\n",
    "\n",
    "1798.109 - A person who intentionally violates the act may be liable of civil penalty up to \\$7500 for each violation.\n",
    "\n",
    "1798.110 - A special account called the Consumer Privacy fund is continuously appropriated to offset costs incurred by state courts in connection with actions brought to enforce the act.\n",
    "\n",
    "1798.111 - Whistleblowers can disclose that a person or business has violated the act and ask the Attorney General to commence civil action. If AG doesnt file suit within 90 days, the person may proceed to file a civil action. (does the whistleblower get 15$\\%$ of the civil penalties??)\n",
    "\n",
    "1798.112 - A business that suffers a security breach is liable for violations of the act.\n",
    "\n",
    "1798.113 - Act is intended to futher constitutional right of privacy, including California Internet Privacy Act, California Shine the Light Act, etc. provisions apply to all types of data, and law should be construed to harmonize and afford greatest protection for the right of privacy.\n",
    "\n",
    "1798.114 - Cities, counties, municipalities, etc are allowed to put whatever restrictions and requirements they want on businesses which collect and sell consumers' personal information.\n",
    "\n",
    "1798.115 - details....\n",
    "\n",
    "### Shopping for Cyber Insurance\n",
    "\n",
    "### More Resources"
   ]
  },
  {
   "cell_type": "markdown",
   "metadata": {},
   "source": [
    "## Evolve/UCAN Chicago\n",
    "\n"
   ]
  },
  {
   "cell_type": "markdown",
   "metadata": {},
   "source": [
    "## Additional Freelance Work\n",
    "\n",
    "## SIC\n",
    "\n",
    "## Evolve\n",
    "\n",
    "## College"
   ]
  },
  {
   "cell_type": "markdown",
   "metadata": {},
   "source": [
    "# Questions for CyberCube\n",
    "\n",
    "1. What type of role exactly would this be? Cyber, Data, Risk, or a combination?\n",
    "\n",
    "2. What should I study for the next interview?\n",
    "\n",
    "3. Can I ask you some questions I had for this upcoming presentation? Would you prefer to do that a different time?\n",
    "\n",
    "4. Where does an organization's security posture come in to making Insurance decisions about the client?"
   ]
  },
  {
   "cell_type": "markdown",
   "metadata": {},
   "source": [
    "Questions from the At-Bay Calculator\n",
    "\n",
    "Customer & Employee Records or just Employee\n",
    "* How many people were affected?\n",
    "* What types of records? PII? Credit Card? Health?\n",
    "* How were records breached? Error, Leak, Device Theft, Hack\n",
    "* Do you store the mailing addresses for breached records?\n",
    "* Have you publicly disclosed another breach in the last 24 months?\n",
    "* How would you estimate the level of complexity of your network?\n",
    "* How big of a news story would this breach be? no news, regional news, national news\n",
    "* How would you estimate your security controls compared to industry best practices? Average, above, or below\n",
    "* Are you based out of California?\n",
    "\n",
    "Costs:\n",
    "* Breach Coach\n",
    "* Forensics\n",
    "* Crisis Management\n",
    "* Notification\n",
    "* Call Center\n",
    "* Credit Monitoring\n",
    "* PCI Fines and Assessments\n",
    "* Regulatory Fines and Defense\n",
    "* Class Action Settlements and Defense"
   ]
  },
  {
   "cell_type": "code",
   "execution_count": 31,
   "metadata": {},
   "outputs": [
    {
     "data": {
      "application/vnd.vegalite.v2+json": {
       "$schema": "https://vega.github.io/schema/vega-lite/v2.6.0.json",
       "config": {
        "background": "white",
        "view": {
         "height": 300,
         "width": 400
        }
       },
       "datasets": {
        "data-95a5464e00e3b88a180ff1504d7f749c": [
         {
          "end": "1945",
          "event": "Nazi Rule",
          "start": "1933"
         },
         {
          "end": "1989",
          "event": "GDR (East Germany)",
          "start": "1948"
         }
        ],
        "data-9f1c723e148dc5f8ab3e2998d9b93c04": [
         {
          "difficulty": "1875",
          "efficacy": -1309
         },
         {
          "difficulty": "1890",
          "efficacy": -1558
         },
         {
          "difficulty": "1910",
          "efficacy": -4512
         },
         {
          "difficulty": "1925",
          "efficacy": -8180
         },
         {
          "difficulty": "1933",
          "efficacy": -15915
         },
         {
          "difficulty": "1939",
          "efficacy": 24824
         },
         {
          "difficulty": "1946",
          "efficacy": 28275
         },
         {
          "difficulty": "1950",
          "efficacy": 29189
         },
         {
          "difficulty": "1964",
          "efficacy": 29881
         }
        ]
       },
       "layer": [
        {
         "data": {
          "name": "data-95a5464e00e3b88a180ff1504d7f749c"
         },
         "encoding": {
          "color": {
           "field": "event",
           "type": "nominal"
          },
          "x": {
           "field": "start",
           "type": "temporal"
          },
          "x2": {
           "field": "end",
           "type": "temporal"
          }
         },
         "mark": "rect"
        },
        {
         "data": {
          "name": "data-9f1c723e148dc5f8ab3e2998d9b93c04"
         },
         "encoding": {
          "x": {
           "axis": {},
           "field": "difficulty",
           "type": "temporal"
          },
          "y": {
           "field": "efficacy",
           "type": "quantitative"
          }
         },
         "height": 400,
         "mark": {
          "baseline": "middle",
          "color": "#333",
          "type": "area"
         },
         "width": 600
        },
        {
         "data": {
          "name": "data-9f1c723e148dc5f8ab3e2998d9b93c04"
         },
         "encoding": {
          "x": {
           "axis": {},
           "field": "difficulty",
           "type": "temporal"
          },
          "y": {
           "field": "efficacy",
           "type": "quantitative"
          }
         },
         "height": 400,
         "mark": {
          "color": "#333",
          "type": "point"
         },
         "width": 600
        }
       ]
      },
      "image/png": "[encoded data removed]",
      "text/plain": [
       "<VegaLite 2 object>\n",
       "\n",
       "If you see this message, it means the renderer has not been properly enabled\n",
       "for the frontend that you are using. For more information, see\n",
       "https://altair-viz.github.io/user_guide/troubleshooting.html\n"
      ]
     },
     "execution_count": 31,
     "metadata": {},
     "output_type": "execute_result"
    }
   ],
   "source": [
    "import altair as alt\n",
    "\n",
    "source = [\n",
    "      {\"difficulty\": \"1875\", \"efficacy\": -1309},\n",
    "      {\"difficulty\": \"1890\", \"efficacy\": -1558},\n",
    "      {\"difficulty\": \"1910\", \"efficacy\": -4512},\n",
    "      {\"difficulty\": \"1925\", \"efficacy\": -8180},\n",
    "      {\"difficulty\": \"1933\", \"efficacy\": -15915},\n",
    "      {\"difficulty\": \"1939\", \"efficacy\": 24824},\n",
    "      {\"difficulty\": \"1946\", \"efficacy\": 28275},\n",
    "      {\"difficulty\": \"1950\", \"efficacy\": 29189},\n",
    "      {\"difficulty\": \"1964\", \"efficacy\": 29881}\n",
    "    ]\n",
    "\n",
    "source2 = [{\n",
    "            \"start\": \"1933\",\n",
    "            \"end\": \"1945\",\n",
    "            \"event\": \"Nazi Rule\"\n",
    "          },\n",
    "          {\n",
    "            \"start\": \"1948\",\n",
    "            \"end\": \"1989\",\n",
    "            \"event\": \"GDR (East Germany)\"\n",
    "          }]\n",
    "\n",
    "\n",
    "source = alt.pd.DataFrame(source)\n",
    "source2 = alt.pd.DataFrame(source2)\n",
    "\n",
    "\n",
    "line = alt.Chart(source).mark_area(color='#333', baseline=\"middle\").encode(\n",
    "    alt.X('difficulty:T', axis=alt.Axis()),\n",
    "    y='efficacy'\n",
    ").properties(\n",
    "    width=600,\n",
    "    height=400\n",
    ")\n",
    "\n",
    "point = line.mark_point(color='#333')\n",
    "\n",
    "rect = alt.Chart(source2).mark_rect().encode(\n",
    "    x='start:T',\n",
    "    x2='end:T',\n",
    "    color='event:N'\n",
    ")\n",
    "\n",
    "chart = rect + line + point\n",
    "\n",
    "chart.configure(background = \"white\")\n"
   ]
  },
  {
   "cell_type": "code",
   "execution_count": null,
   "metadata": {},
   "outputs": [],
   "source": []
  },
  {
   "cell_type": "code",
   "execution_count": null,
   "metadata": {},
   "outputs": [],
   "source": []
  }
 ],
 "metadata": {
  "kernelspec": {
   "display_name": "Python 3",
   "language": "python",
   "name": "python3"
  },
  "language_info": {
   "codemirror_mode": {
    "name": "ipython",
    "version": 3
   },
   "file_extension": ".py",
   "mimetype": "text/x-python",
   "name": "python",
   "nbconvert_exporter": "python",
   "pygments_lexer": "ipython3",
   "version": "3.6.5"
  }
 },
 "nbformat": 4,
 "nbformat_minor": 2
}
