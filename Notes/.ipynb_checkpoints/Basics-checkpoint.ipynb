{
 "cells": [
  {
   "cell_type": "markdown",
   "metadata": {},
   "source": [
    "CREATE A GAME WHERE YOU MOVE IN DIRECTIONS TOWARD GOALS AND HAVE TO MAKE PROGRESS EACH DAY ON IT.\n",
    "\n",
    "CHOOSE WORK INSTEAD OF LAZE ON A REGULAR BASIS\n",
    "\n",
    "TIME EVERYTHING?\n",
    "\n",
    "# IPython/Conda\n",
    "\n",
    "- 'Shift + Enter' to run\n",
    "- 'Alt + Enter' to run and add a cell below\n",
    "- A/B add cell above/below\n",
    "- SHIFT + TAB gives you quick access to signature and docstrings\n",
    "- TAB itself will list possible methods for an item once you've defined it\n",
    "- CTRL SHIFT MINUS to split cell at cursor\n",
    "- ESC to go from command to edit, enter to go from edit to command\n",
    "\n",
    "Restart or interrupt kernel if something goes wrong (infinite while loop, divide by 0)\n",
    "\n",
    "Virtual Environments - virtual installation of python, libraries. Maybe you want to explore new features of a newer version without breaking old code\n",
    "\n",
    "conda create -- name newenvironment packages\n",
    "\n",
    "conda activate/deactivate newenvironment\n",
    "\n",
    "conda install package (once in virtual environment if you want to use one)\n",
    "\n",
    "# Python\n",
    "\n",
    "integer 1, float 1.0\n",
    "\n",
    "+, - , * , / , ** , %\n",
    "\n",
    "python_variables have underscore\n",
    "\n",
    "comments denoted by #\n",
    "\n",
    "\"strings\" or 'strings' - for literal ' or \", wrap it in the opposite set\n",
    "\n",
    "'a string with {} will replace in {}'.format(brackets, order)\n",
    "\n"
   ]
  },
  {
   "cell_type": "code",
   "execution_count": 2,
   "metadata": {},
   "outputs": [
    {
     "name": "stdout",
     "output_type": "stream",
     "text": [
      "a string with brackets will replace words in order\n",
      "a string with brackets will replace words in order\n"
     ]
    }
   ],
   "source": [
    "one = 'brackets'\n",
    "two = 'order'\n",
    "print('a string with {} will replace words in {}'.format(one, two))\n",
    "\n",
    "print('a string with {bra} will replace words in {orde}'.format(bra='brackets', orde='order'))"
   ]
  },
  {
   "cell_type": "markdown",
   "metadata": {},
   "source": [
    "Indexing starts at 0 in python. Strings are considered arrays.\n",
    "## Arrays and Lists\n",
    "\n",
    "use \"up to and including (as if indexing starts from 1)"
   ]
  },
  {
   "cell_type": "code",
   "execution_count": 3,
   "metadata": {},
   "outputs": [
    {
     "name": "stdout",
     "output_type": "stream",
     "text": [
      "j defghijklmnop abcdefghij fg\n"
     ]
    }
   ],
   "source": [
    "s = 'abcdefghijklmnop'\n",
    "print(s[9],s[3:],s[:10], s[5:7])"
   ]
  },
  {
   "cell_type": "markdown",
   "metadata": {},
   "source": [
    "Lists are arrays of strings"
   ]
  },
  {
   "cell_type": "code",
   "execution_count": 5,
   "metadata": {},
   "outputs": [
    {
     "name": "stdout",
     "output_type": "stream",
     "text": [
      "6 2\n"
     ]
    }
   ],
   "source": [
    "a_list = ['this', 'is', 'a', 'list']\n",
    "a_list.append('i can add to it')\n",
    "a_list\n",
    "\n",
    "nested = ['you', 'can', ['create', 'lists', 'in', 'lists']]\n",
    "nested[2][0]\n",
    "\n",
    "thist = [2,4,6,4,3,2,5,6,6]\n",
    "last_one = thist.pop()\n",
    "first_one = thist.pop(0)\n",
    "print(last_one,first_one)"
   ]
  },
  {
   "cell_type": "markdown",
   "metadata": {},
   "source": [
    "**tuple unpacking** alows you to print all the items"
   ]
  },
  {
   "cell_type": "code",
   "execution_count": 7,
   "metadata": {},
   "outputs": [
    {
     "name": "stdout",
     "output_type": "stream",
     "text": [
      "1\n",
      "2\n",
      "3\n",
      "4\n",
      "5\n",
      "6\n"
     ]
    }
   ],
   "source": [
    "x = [(1,2),(3,4),(5,6)]\n",
    "for a,b in x:\n",
    "    print(a)\n",
    "    print(b)"
   ]
  },
  {
   "cell_type": "markdown",
   "metadata": {},
   "source": [
    "**dictionaries** -are just key-value mappings, not ordered in any way"
   ]
  },
  {
   "cell_type": "code",
   "execution_count": 8,
   "metadata": {},
   "outputs": [
    {
     "name": "stdout",
     "output_type": "stream",
     "text": [
      "1 dict_keys(['key1', 'key2']) dict_items([('key1', 'value1'), ('key2', [1, 2, 3])]) dict_values(['value1', [1, 2, 3]])\n"
     ]
    },
    {
     "data": {
      "text/plain": [
       "'hello'"
      ]
     },
     "execution_count": 8,
     "metadata": {},
     "output_type": "execute_result"
    }
   ],
   "source": [
    "d={'key1':'value1','key2':[1,2,3]}\n",
    "dk = d['key2'][0]\n",
    "keyz = d.keys()\n",
    "itemz = d.items()\n",
    "valuez = d.values()\n",
    "print(dk, keyz,itemz,valuez)\n",
    "\n",
    "d = {'k1':[1,2,3,{'tricky':['oh','man','inception',{'target':[1,2,3,'hello']}]}]}\n",
    "d['k1'][3]['tricky'][3]['target'][3]"
   ]
  },
  {
   "cell_type": "markdown",
   "metadata": {},
   "source": [
    "**Tuple** - similar to lists, except that they are immutable - use when you want to make sure a user cant change the items inside the list\n",
    "**Set** - is a collection of unique items - if you have multiples of the same, it will reduce it down to only unique ones"
   ]
  },
  {
   "cell_type": "code",
   "execution_count": 9,
   "metadata": {},
   "outputs": [
    {
     "data": {
      "text/plain": [
       "{1, 2, 3, 5}"
      ]
     },
     "execution_count": 9,
     "metadata": {},
     "output_type": "execute_result"
    }
   ],
   "source": [
    "s = set([1,1,1,1,2,3,3,3,3,3])\n",
    "s.add(5)\n",
    "s"
   ]
  },
  {
   "cell_type": "markdown",
   "metadata": {},
   "source": [
    "Booleans <,>,==,!=,<=,>=\n",
    "\n",
    "Logical and, or"
   ]
  },
  {
   "cell_type": "markdown",
   "metadata": {},
   "source": [
    "if (condition):\n",
    "    do this\n",
    "elif (condition):\n",
    "    do this\n",
    "else:\n",
    "    do this\n",
    "    "
   ]
  },
  {
   "cell_type": "code",
   "execution_count": 11,
   "metadata": {},
   "outputs": [
    {
     "name": "stdout",
     "output_type": "stream",
     "text": [
      "1\n",
      "2\n",
      "3\n",
      "4\n",
      "5\n",
      "i is: 1\n",
      "i is: 2\n",
      "i is: 3\n",
      "i is: 4\n",
      "range(0, 5)\n",
      "[0, 1, 2, 3, 4]\n",
      "0\n",
      "1\n",
      "2\n",
      "[1, 4, 9, 16]\n"
     ]
    }
   ],
   "source": [
    "seq = [1,2,3,4,5]\n",
    "for num in seq:\n",
    "    print(num)\n",
    "\n",
    "i = 1\n",
    "while i < 5:\n",
    "    print('i is: {}'.format(i))\n",
    "    i = i+1\n",
    "\n",
    "r = range(5) #generates a range\n",
    "l =list(range(0,5))\n",
    "print(r)\n",
    "print(l)\n",
    "\n",
    "for x in range(3):\n",
    "    print(x)\n",
    "\n",
    "x = [1,2,3,4]\n",
    "out = []\n",
    "\n",
    "for num in x:\n",
    "    out.append(num**2)\n",
    "    \n",
    "print(out)"
   ]
  },
  {
   "cell_type": "markdown",
   "metadata": {},
   "source": [
    "**list comprehension** is a condensed version of this"
   ]
  },
  {
   "cell_type": "code",
   "execution_count": 12,
   "metadata": {},
   "outputs": [
    {
     "name": "stdout",
     "output_type": "stream",
     "text": [
      "Hello here\n"
     ]
    }
   ],
   "source": [
    "out = [num**2 for num in x]\n",
    "out\n",
    "\n",
    "def my_func(name):\n",
    "    print('Hello ' + name)\n",
    "    \n",
    "my_func('here')"
   ]
  },
  {
   "cell_type": "markdown",
   "metadata": {},
   "source": [
    "Printing just puts the value onto the screen, whereas storing it allows you to manipulate the value in other ways."
   ]
  },
  {
   "cell_type": "code",
   "execution_count": 13,
   "metadata": {},
   "outputs": [
    {
     "data": {
      "text/plain": [
       "[1, 4, 9, 16, 25]"
      ]
     },
     "execution_count": 13,
     "metadata": {},
     "output_type": "execute_result"
    }
   ],
   "source": [
    "def square(num):\n",
    "    \"\"\"\n",
    "    DOCUMENTATION STRINGS ARE MULTILINE COMMENTS FOR FUNCTIONS\n",
    "    \"\"\"\n",
    "    return num**2\n",
    "output=square(2)\n",
    "output\n",
    "\n",
    "seq = [1,2,3,4,5]\n",
    "list(map(square,seq))"
   ]
  },
  {
   "cell_type": "markdown",
   "metadata": {},
   "source": [
    "**lambda expressions** aka anonymous functions"
   ]
  },
  {
   "cell_type": "code",
   "execution_count": 14,
   "metadata": {},
   "outputs": [
    {
     "data": {
      "text/plain": [
       "[2, 4]"
      ]
     },
     "execution_count": 14,
     "metadata": {},
     "output_type": "execute_result"
    }
   ],
   "source": [
    "list(map(lambda num:num *3, seq))\n",
    "\n",
    "list(filter(lambda num: num%2 == 0,seq))"
   ]
  },
  {
   "cell_type": "markdown",
   "metadata": {},
   "source": [
    "**methods** are functions you can call on data structures"
   ]
  },
  {
   "cell_type": "code",
   "execution_count": 18,
   "metadata": {},
   "outputs": [
    {
     "name": "stdout",
     "output_type": "stream",
     "text": [
      "HELLO MY NAME IS SAM hello my name is Sam ['hello', 'my', 'name', 'is', 'Sam']\n"
     ]
    }
   ],
   "source": [
    "s = 'hello my name is Sam'\n",
    "\n",
    "S = s.upper()\n",
    "s_low = s.lower()\n",
    "s_plit = s.split()\n",
    "print(S,s, s_plit)"
   ]
  },
  {
   "cell_type": "code",
   "execution_count": 19,
   "metadata": {},
   "outputs": [
    {
     "data": {
      "text/plain": [
       "'thisdomain.com'"
      ]
     },
     "execution_count": 19,
     "metadata": {},
     "output_type": "execute_result"
    }
   ],
   "source": [
    "def domainGet(email):\n",
    "    return email.split('@')[-1]\n",
    "domainGet('email@thisdomain.com')"
   ]
  },
  {
   "cell_type": "code",
   "execution_count": 20,
   "metadata": {},
   "outputs": [
    {
     "data": {
      "text/plain": [
       "True"
      ]
     },
     "execution_count": 20,
     "metadata": {},
     "output_type": "execute_result"
    }
   ],
   "source": [
    "def findDog(string):\n",
    "    return 'dog' in string.lower().split()\n",
    "findDog('Is there a dog here?')"
   ]
  },
  {
   "cell_type": "code",
   "execution_count": 21,
   "metadata": {},
   "outputs": [
    {
     "data": {
      "text/plain": [
       "3"
      ]
     },
     "execution_count": 21,
     "metadata": {},
     "output_type": "execute_result"
    }
   ],
   "source": [
    "def countDog(string):\n",
    "    i=0\n",
    "    for x in string.lower().split():\n",
    "        if x == 'dog':\n",
    "            i += 1\n",
    "    return i\n",
    "countDog('how many dog in this dog thing dog')"
   ]
  },
  {
   "cell_type": "code",
   "execution_count": 22,
   "metadata": {},
   "outputs": [
    {
     "data": {
      "text/plain": [
       "['series', 'some', 'start', 's']"
      ]
     },
     "execution_count": 22,
     "metadata": {},
     "output_type": "execute_result"
    }
   ],
   "source": [
    "seq = ['series', 'of', 'words', 'some', 'start', 'with', 's']\n",
    "list(filter(lambda word: word[0] == 's',seq))"
   ]
  },
  {
   "cell_type": "code",
   "execution_count": 25,
   "metadata": {},
   "outputs": [
    {
     "data": {
      "text/plain": [
       "'No Ticket'"
      ]
     },
     "execution_count": 25,
     "metadata": {},
     "output_type": "execute_result"
    }
   ],
   "source": [
    "def caught_speeding(speed, is_birthday):\n",
    "    if is_birthday == True:\n",
    "        speed -= 5\n",
    "    else:\n",
    "        speed == speed\n",
    "        \n",
    "    if (speed <= 60):\n",
    "        return 'No Ticket'\n",
    "    elif (61 <= speed <= 80):\n",
    "        return 'Small Ticket'\n",
    "    else:\n",
    "        return 'Big Ticket'\n",
    "caught_speeding(64,True)"
   ]
  },
  {
   "cell_type": "code",
   "execution_count": 26,
   "metadata": {},
   "outputs": [
    {
     "data": {
      "text/plain": [
       "'Small Ticket'"
      ]
     },
     "execution_count": 26,
     "metadata": {},
     "output_type": "execute_result"
    }
   ],
   "source": [
    "caught_speeding(81, True)"
   ]
  },
  {
   "cell_type": "code",
   "execution_count": null,
   "metadata": {},
   "outputs": [],
   "source": []
  }
 ],
 "metadata": {
  "kernelspec": {
   "display_name": "Python 3",
   "language": "python",
   "name": "python3"
  },
  "language_info": {
   "codemirror_mode": {
    "name": "ipython",
    "version": 3
   },
   "file_extension": ".py",
   "mimetype": "text/x-python",
   "name": "python",
   "nbconvert_exporter": "python",
   "pygments_lexer": "ipython3",
   "version": "3.6.5"
  }
 },
 "nbformat": 4,
 "nbformat_minor": 2
}
