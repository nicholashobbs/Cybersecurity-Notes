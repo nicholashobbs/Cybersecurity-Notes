{
 "cells": [
  {
   "cell_type": "markdown",
   "metadata": {},
   "source": [
    "# Prepare Dataframes\n",
    "\n",
    "Import pandas for manipulating data and numpy for some basic utilities. Use `pd.read_excel` to read the xlsx and `sheet_name=None` option to make different sheets accessible with their original names using `dfs['sheet']` syntax"
   ]
  },
  {
   "cell_type": "code",
   "execution_count": 1,
   "metadata": {},
   "outputs": [],
   "source": [
    "import pandas as pd\n",
    "import numpy as np\n",
    "dfs = pd.read_excel(\"2017_microdata.xlsx\", sheet_name=None)"
   ]
  },
  {
   "cell_type": "markdown",
   "metadata": {},
   "source": [
    "First, set `df` to be the whole relevant dataframe, which is the sheet `2017_microdata`. I will derive other dataframes to work with from here."
   ]
  },
  {
   "cell_type": "code",
   "execution_count": 2,
   "metadata": {},
   "outputs": [],
   "source": [
    "df = dfs['2017_microdata']"
   ]
  },
  {
   "cell_type": "markdown",
   "metadata": {},
   "source": [
    "Define `breach_data` to be the whole dataframe  with rows removed where `salesa` is `\"Don't know\" or -1`. "
   ]
  },
  {
   "cell_type": "code",
   "execution_count": 3,
   "metadata": {},
   "outputs": [],
   "source": [
    "breach_data = df.loc[df['salesa'].isin([\"Don't know\", -1]) == False]"
   ]
  },
  {
   "cell_type": "markdown",
   "metadata": {},
   "source": [
    "# Calculate Imputed Values for Categorical Data\n",
    "\n",
    "Create a new dataframe called `newdf` which is a copy of the column `salesa` from `breach_data`. Then run `np.select` to map each revenue band to an integer which I will use to group and find the average by band to use as an imputed value. (Maybe there is a way to do this all at once?)"
   ]
  },
  {
   "cell_type": "code",
   "execution_count": 4,
   "metadata": {},
   "outputs": [],
   "source": [
    "impute_df = breach_data[['salesa']].copy()\n",
    "conditions = [\n",
    "    (breach_data['salesa'] >= 0) & (breach_data['salesa'] < 50000),\n",
    "    (breach_data['salesa'] >= 50000) & (breach_data['salesa'] < 100000),\n",
    "    (breach_data['salesa'] >= 100000) & (breach_data['salesa'] < 500000),\n",
    "    (breach_data['salesa'] >= 500000) & (breach_data['salesa'] < 2000000),\n",
    "    (breach_data['salesa'] >= 2000000) & (breach_data['salesa'] < 10000000),\n",
    "    (breach_data['salesa'] >= 10000000) & (breach_data['salesa'] < 500000000),\n",
    "    (breach_data['salesa'] >= 50000000)]\n",
    "choices = ['1', '2', '3', '4', '5', '6','7']\n",
    "impute_df['revenue_band'] = np.select(conditions, choices, default='0')"
   ]
  },
  {
   "cell_type": "markdown",
   "metadata": {},
   "source": [
    "Convert `salesa` to float type to avoid pandas giving me a numeric error, then create a new df `imputed_revenue` by grouping by `revenue_band` and taking the mean."
   ]
  },
  {
   "cell_type": "code",
   "execution_count": 5,
   "metadata": {},
   "outputs": [],
   "source": [
    "impute_df['salesa'] = impute_df['salesa'].astype(float)\n",
    "imputed_revenue = impute_df.groupby(impute_df['revenue_band']).mean()"
   ]
  },
  {
   "cell_type": "markdown",
   "metadata": {},
   "source": [
    "# Dealing with categorical data points\n",
    "\n",
    "Create a new dataframe, `categorical_breach_data` which contains the rows we ignored because there was not an answer in `salesa`. \n",
    "\n",
    "This should be a subset of `df` with all the rows which: 1. Are `Don't know` or `-1` in `salesa` (meaning they are NOT in `breach_data`), 2. Are NOT `Don't know` or `-1` in `salesb`"
   ]
  },
  {
   "cell_type": "code",
   "execution_count": 6,
   "metadata": {},
   "outputs": [],
   "source": [
    "categorical_breach_data = df.loc[df['salesa'].isin([\"Don't know\", -1])]   \n",
    "categorical_breach_data = categorical_breach_data.loc[categorical_breach_data['salesb'].isin([\"Don't know\", -1])== False]"
   ]
  },
  {
   "cell_type": "markdown",
   "metadata": {},
   "source": [
    "Convert unused (`Don't know` or `-1`) values in `salesa` to imputed revenue values from previous section."
   ]
  },
  {
   "cell_type": "code",
   "execution_count": 7,
   "metadata": {},
   "outputs": [],
   "source": [
    "conditions = [\n",
    "    (categorical_breach_data['salesb'] == 'Less than £50,000'),\n",
    "    (categorical_breach_data['salesb'] == '£50,000 to less than £100,000'),\n",
    "    (categorical_breach_data['salesb'] == '£100,000 to less than £500,000'),\n",
    "    (categorical_breach_data['salesb'] == '£500,000 to less than £2 million'),\n",
    "    (categorical_breach_data['salesb'] == '£2 million to less than £10 million'),\n",
    "    (categorical_breach_data['salesb'] == '£10 million to less than £50 million'),\n",
    "    (categorical_breach_data['salesb'] == '£50 million or more')\n",
    "]\n",
    "choices = list(imputed_revenue['salesa'])\n",
    "categorical_breach_data['salesa'] = np.select(conditions, choices, default='0')"
   ]
  },
  {
   "cell_type": "markdown",
   "metadata": {},
   "source": [
    "Create a new dataframe which merges original data with new categorical data with imputed `salesa` values"
   ]
  },
  {
   "cell_type": "code",
   "execution_count": 8,
   "metadata": {},
   "outputs": [],
   "source": [
    "frames = [breach_data,categorical_breach_data]\n",
    "combined_df = pd.concat(frames)"
   ]
  },
  {
   "cell_type": "markdown",
   "metadata": {},
   "source": [
    "Make a new copy of `combined_df` called `usd_combined_df`, make `salesa` column float, and convert `salesa` from GBP to USD by multiplying by 1.3"
   ]
  },
  {
   "cell_type": "code",
   "execution_count": 9,
   "metadata": {},
   "outputs": [],
   "source": [
    "usd_combined_df = combined_df.copy()\n",
    "usd_combined_df['salesa'] = usd_combined_df['salesa'].astype(float)\n",
    "usd_combined_df['salesa'] = usd_combined_df['salesa'].apply(lambda x: x*1.3)"
   ]
  },
  {
   "cell_type": "markdown",
   "metadata": {},
   "source": [
    "Create a new column as before which puts the row into a category based on the converted `salesa`. Split into the following revenue bands: Micro: <\\$10M, Small: \\$10 to \\$250M (not included), Medium: \\$250M to \\$1B (not included), Large: ≥ \\$1B"
   ]
  },
  {
   "cell_type": "code",
   "execution_count": 10,
   "metadata": {},
   "outputs": [],
   "source": [
    "conditions = [\n",
    "    (usd_combined_df['salesa'] >= 0) & (usd_combined_df['salesa'] < 10000000),\n",
    "    (usd_combined_df['salesa'] >= 10000000) & (usd_combined_df['salesa'] < 250000000),\n",
    "    (usd_combined_df['salesa'] >= 250000000) & (usd_combined_df['salesa'] < 1000000000),\n",
    "    (usd_combined_df['salesa'] >= 1000000000)]\n",
    "choices = ['Micro', 'Small', 'Medium', 'Large']\n",
    "usd_combined_df['revband'] = np.select(conditions, choices, default='0')"
   ]
  },
  {
   "cell_type": "markdown",
   "metadata": {},
   "source": [
    "Remove rows where `numb` is `-1` to create new df `numb_df` for creating tables and charts about `numb` values by `revband`."
   ]
  },
  {
   "cell_type": "code",
   "execution_count": 11,
   "metadata": {},
   "outputs": [],
   "source": [
    "numb_df = usd_combined_df.loc[usd_combined_df['numb'] != -1]"
   ]
  },
  {
   "cell_type": "markdown",
   "metadata": {},
   "source": [
    "Create new df `investrevenue_df` which is a copy of `usd_combined_df` with `investn` values of `-1` removed and a new column `investrevenue` which is $\\frac{investn}{salesa}$"
   ]
  },
  {
   "cell_type": "code",
   "execution_count": 12,
   "metadata": {},
   "outputs": [],
   "source": [
    "investrevenue_df = usd_combined_df.copy()\n",
    "investrevenue_df = investrevenue_df.loc[investrevenue_df['investn'] != -1]\n",
    "investrevenue_df['investrevenue'] = investrevenue_df['investn'].div(investrevenue_df['salesa'].replace(0, np.nan)).fillna(0)"
   ]
  },
  {
   "cell_type": "markdown",
   "metadata": {},
   "source": [
    "Create new and show summary dfs `numb_summary_by_revenue` and `investrevenue_summary_by_revenue`"
   ]
  },
  {
   "cell_type": "code",
   "execution_count": 13,
   "metadata": {},
   "outputs": [
    {
     "data": {
      "text/plain": [
       "(              serial        salesa   weight0        investn          numb\n",
       " revband                                                                  \n",
       " Large    1877.000000  1.183000e+09  0.000010   13755.055000    106.000000\n",
       " Medium   2138.777778  8.548222e+08  0.000027  881284.291852  38345.925926\n",
       " Micro    2222.527072  1.848875e+06  0.000813    6329.811105    421.351094\n",
       " Small    2250.595455  4.920130e+07  0.000178   61012.387364   1260.730864,\n",
       "               serial        salesa   weight0       investn          numb  \\\n",
       " revband                                                                    \n",
       " Large    3152.000000  1.066000e+09  0.000000  2.751111e+04     12.000000   \n",
       " Medium   1852.263158  7.825795e+08  0.000029  1.515510e+06  54487.263158   \n",
       " Micro    2194.662195  1.802420e+06  0.000825  7.543785e+03    457.955293   \n",
       " Small    2223.027778  4.793549e+07  0.000189  1.050154e+05    142.157111   \n",
       " \n",
       "          investrevenue  \n",
       " revband                 \n",
       " Large         0.000026  \n",
       " Medium        0.005107  \n",
       " Micro         0.355326  \n",
       " Small         0.003341  )"
      ]
     },
     "execution_count": 13,
     "metadata": {},
     "output_type": "execute_result"
    }
   ],
   "source": [
    "numb_summary_by_revenue = numb_df.groupby(numb_df['revband']).mean()\n",
    "investrevenue_summary_by_revenue = investrevenue_df.groupby(investrevenue_df['revband']).mean()\n",
    "numb_summary_by_revenue, investrevenue_summary_by_revenue"
   ]
  },
  {
   "cell_type": "markdown",
   "metadata": {},
   "source": [
    "A hack to get around the fact that I cannot use revband in altair since it is the index."
   ]
  },
  {
   "cell_type": "code",
   "execution_count": 14,
   "metadata": {},
   "outputs": [],
   "source": [
    "investrevenue_summary_by_revenue['revband'] = investrevenue_summary_by_revenue.index\n",
    "numb_summary_by_revenue['revband'] = numb_summary_by_revenue.index"
   ]
  },
  {
   "cell_type": "markdown",
   "metadata": {},
   "source": [
    "# Summary Tables"
   ]
  },
  {
   "cell_type": "code",
   "execution_count": 15,
   "metadata": {},
   "outputs": [
    {
     "data": {
      "application/vnd.vegalite.v2+json": {
       "$schema": "https://vega.github.io/schema/vega-lite/v2.6.0.json",
       "config": {
        "view": {
         "height": 300,
         "width": 400
        }
       },
       "datasets": {
        "data-e1a1a14cf6c5fd6203bda0f0a1e31e18": [
         {
          "investn": 13755.055,
          "numb": 106,
          "revband": "Large",
          "salesa": 1183000000,
          "serial": 1877,
          "weight0": 9.857590673404901e-06
         },
         {
          "investn": 881284.291851852,
          "numb": 38345.92592592593,
          "revband": "Medium",
          "salesa": 854822222.2222222,
          "serial": 2138.777777777778,
          "weight0": 2.7017100364146755e-05
         },
         {
          "investn": 6329.811104972374,
          "numb": 421.3510939226519,
          "revband": "Micro",
          "salesa": 1848875.2274322533,
          "serial": 2222.5270718232046,
          "weight0": 0.0008131659070270449
         },
         {
          "investn": 61012.38736363636,
          "numb": 1260.7308636363632,
          "revband": "Small",
          "salesa": 49201300.16606218,
          "serial": 2250.5954545454547,
          "weight0": 0.0001775859895557336
         }
        ],
        "data-ffd97e3f08188848885c6f7c49bf4580": [
         {
          "investn": 27511.11,
          "investrevenue": 2.580779549718574e-05,
          "numb": 12,
          "revband": "Large",
          "salesa": 1066000000,
          "serial": 3152,
          "weight0": 0
         },
         {
          "investn": 1515509.7831578949,
          "investrevenue": 0.005107258699979871,
          "numb": 54487.26315789474,
          "revband": "Medium",
          "salesa": 782579473.6842105,
          "serial": 1852.2631578947369,
          "weight0": 2.9399831832961976e-05
         },
         {
          "investn": 7543.785487804873,
          "investrevenue": 0.3553261672398678,
          "numb": 457.95529268292677,
          "revband": "Micro",
          "salesa": 1802420.3874851416,
          "serial": 2194.6621951219513,
          "weight0": 0.000825344811308877
         },
         {
          "investn": 105015.39011111112,
          "investrevenue": 0.003340818557288385,
          "numb": 142.15711111111108,
          "revband": "Small",
          "salesa": 47935492.938496694,
          "serial": 2223.027777777778,
          "weight0": 0.00018853554902764017
         }
        ]
       },
       "hconcat": [
        {
         "data": {
          "name": "data-ffd97e3f08188848885c6f7c49bf4580"
         },
         "encoding": {
          "x": {
           "field": "revband",
           "type": "nominal"
          },
          "y": {
           "field": "investrevenue",
           "type": "quantitative"
          }
         },
         "mark": "bar"
        },
        {
         "data": {
          "name": "data-e1a1a14cf6c5fd6203bda0f0a1e31e18"
         },
         "encoding": {
          "x": {
           "field": "revband",
           "type": "nominal"
          },
          "y": {
           "field": "numb",
           "type": "quantitative"
          }
         },
         "mark": "bar"
        }
       ]
      },
      "image/png": "[encoded data removed]",
      "text/plain": [
       "<VegaLite 2 object>\n",
       "\n",
       "If you see this message, it means the renderer has not been properly enabled\n",
       "for the frontend that you are using. For more information, see\n",
       "https://altair-viz.github.io/user_guide/troubleshooting.html\n"
      ]
     },
     "execution_count": 15,
     "metadata": {},
     "output_type": "execute_result"
    }
   ],
   "source": [
    "import altair as alt\n",
    "\n",
    "bars = alt.Chart(investrevenue_summary_by_revenue).mark_bar().encode(\n",
    "    y = 'investrevenue:Q',\n",
    "    x = 'revband:N')\n",
    "\n",
    "numbbars = alt.Chart(numb_summary_by_revenue).mark_bar().encode(\n",
    "    y = 'numb:Q',\n",
    "    x = 'revband:N')\n",
    "\n",
    "bars | numbbars"
   ]
  },
  {
   "cell_type": "markdown",
   "metadata": {},
   "source": [
    "# Evaluate the statement: *Medium sized companies spend less on cyber security because they have fewer breaches.*\n",
    "\n",
    "This statement does not match what we observe in the data for several reasons. First of all, it appears that medium sized\n",
    "companies spend relatively more on cybersecurity investment than all other categories, except for Micro. It seems reasonable\n",
    "that Micro companies in this data would spend a lot more on cybersecurity, because many of them likely spend nothing\n",
    "and we have eliminated all the companies which didn’t have a response to this question. Those Micro companies which\n",
    "do spend on cybersecurity will have much higher fixed costs than a larger company, because hiring security employees or\n",
    "paying for security tools are significant expenses for a company with under $10M in revenue.\n",
    "\n",
    "Some potential challenges in evaluating this claim are:\n",
    "\n",
    "* What counts as security spending? Some companies may consider various parts of their IT\n",
    "budget to count toward security, whereas others might only include employees and tools who are strictly working on\n",
    "security.\n",
    "* What counts as a security breach? This seems like it could be open to many different interpretations depending on who is answering, and the pdf does not go into much detail on this question.\n",
    "* Companies which spend nothing on cybersecurity - while some companies replied that they spend nothing, it could give some insight to examine what proportion of each tier answered -1 to investn, as many of these companies might spend nothing. In addition, some companies might report that they spend nothing because of differences in accounting for it"
   ]
  },
  {
   "cell_type": "markdown",
   "metadata": {},
   "source": [
    "# Outliers\n",
    "\n",
    "Considering the lack of clarity over what is considered a security breach first, look for extreme values in `numb_df`, sorting by `numb`. "
   ]
  },
  {
   "cell_type": "markdown",
   "metadata": {},
   "source": [
    "Using the line `numb_df.sort_values(by=['numb'], ascending=False).head(20)`, we can see that there are 12 companies (serials 2091, 1862, 2502, 949, 3913, 2381, 1949, 344, 1010, 198, 690, 1176) which report over 10,000 security breaches per year. Over the 1154 rows in `numb_df`, these top 12 add an average of $(1000000+250000+125000+100000+33600+24516.67+24516.67+24516.67+20000+20000+13500+10000) \\approx 1,645,650/1124 \\approx 1464$ security breaches per company in the dataframe. \n",
    "\n",
    "On the other hand, the number of companies which report having 0 security breaches per year is `len(numb_df.loc[numb_df['numb'] == 0])` = 531.\n",
    "\n",
    "Create a new df `ol_numb_df` which removes these 12 rows."
   ]
  },
  {
   "cell_type": "code",
   "execution_count": 16,
   "metadata": {},
   "outputs": [],
   "source": [
    "ol_numb_df = numb_df.loc[numb_df['serial'].isin((2091, 1862, 2502, 949, 3913, 1949, 344, 1010, 198, 690, 1176)) == False]"
   ]
  },
  {
   "cell_type": "markdown",
   "metadata": {},
   "source": [
    "Next, look for outliers in `investrevenue_df`, sorting by `investrevenue`. With the line `investrevenue_df.sort_values(by=['investrevenue'], ascending=False).head(10)`, we find 5 rows (serials 387, 3826, 2876, 2085, 4082) which have an `investrevenue` value close to or above one. \n",
    "\n",
    "One company, serial 387, has only \\$91 in sales but spends \\$25,000 on cyber defense. Although such a value is technically possible if these companies are early stage startups, these ratios still skew the results and outweigh the other results.\n",
    "\n",
    "Create a new df `ol_ir_df` which removes these 5 rows."
   ]
  },
  {
   "cell_type": "code",
   "execution_count": 17,
   "metadata": {},
   "outputs": [],
   "source": [
    "ol_ir_df = investrevenue_df.loc[investrevenue_df['serial'].isin((387, 3826, 2876, 2085, 4082)) == False]"
   ]
  },
  {
   "cell_type": "markdown",
   "metadata": {},
   "source": [
    "Create and display new summary dfs `sum_ol_numb_df` and `sum_ol_ir_df`"
   ]
  },
  {
   "cell_type": "code",
   "execution_count": 18,
   "metadata": {},
   "outputs": [
    {
     "data": {
      "text/plain": [
       "(              serial        salesa   weight0        investn        numb\n",
       " revband                                                                \n",
       " Large    1877.000000  1.183000e+09  0.000010   13755.055000  106.000000\n",
       " Medium   2069.720000  8.479120e+08  0.000028  945687.035200   69.600000\n",
       " Micro    2230.252784  1.838113e+06  0.000811    6334.572071   71.034967\n",
       " Small    2261.793578  4.843021e+07  0.000179   61342.780826   33.765092,\n",
       "               serial        salesa   weight0       investn          numb  \\\n",
       " revband                                                                    \n",
       " Large    3152.000000  1.066000e+09  0.000000  2.751111e+04     12.000000   \n",
       " Medium   1852.263158  7.825795e+08  0.000029  1.515510e+06  54487.263158   \n",
       " Micro    2191.861350  1.813141e+06  0.000828  7.007244e+03    460.747656   \n",
       " Small    2223.027778  4.793549e+07  0.000189  1.050154e+05    142.157111   \n",
       " \n",
       "          investrevenue  \n",
       " revband                 \n",
       " Large         0.000026  \n",
       " Medium        0.005107  \n",
       " Micro         0.004678  \n",
       " Small         0.003341  )"
      ]
     },
     "execution_count": 18,
     "metadata": {},
     "output_type": "execute_result"
    }
   ],
   "source": [
    "sum_ol_numb_df = ol_numb_df.groupby(ol_numb_df['revband']).mean()\n",
    "sum_ol_ir_df = ol_ir_df.groupby(ol_ir_df['revband']).mean()\n",
    "sum_ol_numb_df,sum_ol_ir_df"
   ]
  },
  {
   "cell_type": "markdown",
   "metadata": {},
   "source": [
    "Create a new column `revband` as before since altair cannot use the index."
   ]
  },
  {
   "cell_type": "code",
   "execution_count": 19,
   "metadata": {},
   "outputs": [],
   "source": [
    "sum_ol_ir_df['revband'] = sum_ol_ir_df.index\n",
    "sum_ol_numb_df['revband'] = sum_ol_numb_df.index"
   ]
  },
  {
   "cell_type": "code",
   "execution_count": 20,
   "metadata": {},
   "outputs": [
    {
     "data": {
      "application/vnd.vegalite.v2+json": {
       "$schema": "https://vega.github.io/schema/vega-lite/v2.6.0.json",
       "config": {
        "view": {
         "height": 300,
         "width": 400
        }
       },
       "datasets": {
        "data-2335794b09fc10ac4984f96cae72fd28": [
         {
          "investn": 27511.11,
          "investrevenue": 2.580779549718574e-05,
          "numb": 12,
          "revband": "Large",
          "salesa": 1066000000,
          "serial": 3152,
          "weight0": 0
         },
         {
          "investn": 1515509.7831578949,
          "investrevenue": 0.005107258699979871,
          "numb": 54487.26315789474,
          "revband": "Medium",
          "salesa": 782579473.6842105,
          "serial": 1852.2631578947369,
          "weight0": 2.9399831832961976e-05
         },
         {
          "investn": 7007.244294478525,
          "investrevenue": 0.004677832401393218,
          "numb": 460.74765644171777,
          "revband": "Micro",
          "salesa": 1813141.4533246078,
          "serial": 2191.8613496932517,
          "weight0": 0.0008281908224742189
         },
         {
          "investn": 105015.39011111112,
          "investrevenue": 0.003340818557288385,
          "numb": 142.15711111111108,
          "revband": "Small",
          "salesa": 47935492.938496694,
          "serial": 2223.027777777778,
          "weight0": 0.00018853554902764017
         }
        ],
        "data-d88e8463962791c0ee283ea096421896": [
         {
          "investn": 13755.055,
          "numb": 106,
          "revband": "Large",
          "salesa": 1183000000,
          "serial": 1877,
          "weight0": 9.857590673404901e-06
         },
         {
          "investn": 945687.0352000002,
          "numb": 69.6,
          "revband": "Medium",
          "salesa": 847912000,
          "serial": 2069.72,
          "weight0": 2.8126992054781976e-05
         },
         {
          "investn": 6334.572071269486,
          "numb": 71.03496659242761,
          "revband": "Micro",
          "salesa": 1838112.7811756867,
          "serial": 2230.2527839643653,
          "weight0": 0.0008106422988000895
         },
         {
          "investn": 61342.78082568807,
          "numb": 33.76509174311927,
          "revband": "Small",
          "salesa": 48430211.17676,
          "serial": 2261.793577981651,
          "weight0": 0.0001788534723709823
         }
        ]
       },
       "hconcat": [
        {
         "data": {
          "name": "data-2335794b09fc10ac4984f96cae72fd28"
         },
         "encoding": {
          "x": {
           "field": "revband",
           "type": "nominal"
          },
          "y": {
           "field": "investrevenue",
           "type": "quantitative"
          }
         },
         "mark": "bar"
        },
        {
         "data": {
          "name": "data-d88e8463962791c0ee283ea096421896"
         },
         "encoding": {
          "x": {
           "field": "revband",
           "type": "nominal"
          },
          "y": {
           "field": "numb",
           "type": "quantitative"
          }
         },
         "mark": "bar"
        }
       ]
      },
      "image/png": "[encoded data removed]",
      "text/plain": [
       "<VegaLite 2 object>\n",
       "\n",
       "If you see this message, it means the renderer has not been properly enabled\n",
       "for the frontend that you are using. For more information, see\n",
       "https://altair-viz.github.io/user_guide/troubleshooting.html\n"
      ]
     },
     "execution_count": 20,
     "metadata": {},
     "output_type": "execute_result"
    }
   ],
   "source": [
    "bars = alt.Chart(sum_ol_ir_df).mark_bar().encode(\n",
    "    y = 'investrevenue:Q',\n",
    "    x = 'revband:N')\n",
    "\n",
    "numbbars = alt.Chart(sum_ol_numb_df).mark_bar().encode(\n",
    "    y = 'numb:Q',\n",
    "    x = 'revband:N')\n",
    "\n",
    "bars | numbbars"
   ]
  },
  {
   "cell_type": "markdown",
   "metadata": {},
   "source": [
    "As expected, the results look completely different by removing a relatively small proportion of the rows. The definitions of a security breach and security spending need to be very clear to survey participants in order for data like this have more meaning."
   ]
  },
  {
   "cell_type": "markdown",
   "metadata": {},
   "source": [
    "Just out of curiosity, how many `-1` values in `investn` per `revband` in `usd_combined_df`?"
   ]
  },
  {
   "cell_type": "code",
   "execution_count": 21,
   "metadata": {},
   "outputs": [
    {
     "data": {
      "text/plain": [
       "revband\n",
       "Large     0.500000\n",
       "Medium    0.366667\n",
       "Micro     0.114471\n",
       "Small     0.224138\n",
       "Name: serial, dtype: float64"
      ]
     },
     "execution_count": 21,
     "metadata": {},
     "output_type": "execute_result"
    }
   ],
   "source": [
    "count_revband = usd_combined_df['serial'].groupby(usd_combined_df['revband']).count()\n",
    "investn_minusone = usd_combined_df.loc[usd_combined_df['investn']==-1]\n",
    "count_minusone_revband = investn_minusone['serial'].groupby(investn_minusone['revband']).count()\n",
    "count_minusone_revband/count_revband"
   ]
  },
  {
   "cell_type": "code",
   "execution_count": null,
   "metadata": {},
   "outputs": [],
   "source": []
  }
 ],
 "metadata": {
  "kernelspec": {
   "display_name": "Python 3",
   "language": "python",
   "name": "python3"
  },
  "language_info": {
   "codemirror_mode": {
    "name": "ipython",
    "version": 3
   },
   "file_extension": ".py",
   "mimetype": "text/x-python",
   "name": "python",
   "nbconvert_exporter": "python",
   "pygments_lexer": "ipython3",
   "version": "3.6.5"
  }
 },
 "nbformat": 4,
 "nbformat_minor": 2
}
