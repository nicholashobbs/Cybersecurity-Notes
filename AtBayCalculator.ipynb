{
 "cells": [
  {
   "cell_type": "code",
   "execution_count": 156,
   "metadata": {},
   "outputs": [],
   "source": [
    "import urllib3\n",
    "from bs4 import BeautifulSoup\n",
    "\n",
    "\n",
    "rolist = ['employee_only', 'customer_and_employee']\n",
    "nrlist = [1, 10000, 100000000]\n",
    "rtlist = ['PII', 'PHI', 'PCI', 'PHI-PCI']\n",
    "btlist = ['error', 'theft', 'hack']\n",
    "paslist = [1, 50, 100]\n",
    "rblist = ['true', 'false']\n",
    "nclist = ['low', 'medium', 'high']\n",
    "pplist = ['small', 'medium', 'large']\n",
    "sqlist = ['below', 'average', 'above']\n",
    "calist = ['true', 'false']"
   ]
  },
  {
   "cell_type": "code",
   "execution_count": 157,
   "metadata": {},
   "outputs": [
    {
     "name": "stderr",
     "output_type": "stream",
     "text": [
      "/anaconda3/lib/python3.6/site-packages/urllib3/connectionpool.py:858: InsecureRequestWarning: Unverified HTTPS request is being made. Adding certificate verification is strongly advised. See: https://urllib3.readthedocs.io/en/latest/advanced-usage.html#ssl-warnings\n",
      "  InsecureRequestWarning)\n",
      "/anaconda3/lib/python3.6/site-packages/urllib3/connectionpool.py:858: InsecureRequestWarning: Unverified HTTPS request is being made. Adding certificate verification is strongly advised. See: https://urllib3.readthedocs.io/en/latest/advanced-usage.html#ssl-warnings\n",
      "  InsecureRequestWarning)\n",
      "/anaconda3/lib/python3.6/site-packages/urllib3/connectionpool.py:858: InsecureRequestWarning: Unverified HTTPS request is being made. Adding certificate verification is strongly advised. See: https://urllib3.readthedocs.io/en/latest/advanced-usage.html#ssl-warnings\n",
      "  InsecureRequestWarning)\n",
      "/anaconda3/lib/python3.6/site-packages/urllib3/connectionpool.py:858: InsecureRequestWarning: Unverified HTTPS request is being made. Adding certificate verification is strongly advised. See: https://urllib3.readthedocs.io/en/latest/advanced-usage.html#ssl-warnings\n",
      "  InsecureRequestWarning)\n",
      "/anaconda3/lib/python3.6/site-packages/urllib3/connectionpool.py:858: InsecureRequestWarning: Unverified HTTPS request is being made. Adding certificate verification is strongly advised. See: https://urllib3.readthedocs.io/en/latest/advanced-usage.html#ssl-warnings\n",
      "  InsecureRequestWarning)\n",
      "/anaconda3/lib/python3.6/site-packages/urllib3/connectionpool.py:858: InsecureRequestWarning: Unverified HTTPS request is being made. Adding certificate verification is strongly advised. See: https://urllib3.readthedocs.io/en/latest/advanced-usage.html#ssl-warnings\n",
      "  InsecureRequestWarning)\n",
      "/anaconda3/lib/python3.6/site-packages/urllib3/connectionpool.py:858: InsecureRequestWarning: Unverified HTTPS request is being made. Adding certificate verification is strongly advised. See: https://urllib3.readthedocs.io/en/latest/advanced-usage.html#ssl-warnings\n",
      "  InsecureRequestWarning)\n",
      "/anaconda3/lib/python3.6/site-packages/urllib3/connectionpool.py:858: InsecureRequestWarning: Unverified HTTPS request is being made. Adding certificate verification is strongly advised. See: https://urllib3.readthedocs.io/en/latest/advanced-usage.html#ssl-warnings\n",
      "  InsecureRequestWarning)\n",
      "/anaconda3/lib/python3.6/site-packages/urllib3/connectionpool.py:858: InsecureRequestWarning: Unverified HTTPS request is being made. Adding certificate verification is strongly advised. See: https://urllib3.readthedocs.io/en/latest/advanced-usage.html#ssl-warnings\n",
      "  InsecureRequestWarning)\n",
      "/anaconda3/lib/python3.6/site-packages/urllib3/connectionpool.py:858: InsecureRequestWarning: Unverified HTTPS request is being made. Adding certificate verification is strongly advised. See: https://urllib3.readthedocs.io/en/latest/advanced-usage.html#ssl-warnings\n",
      "  InsecureRequestWarning)\n",
      "/anaconda3/lib/python3.6/site-packages/urllib3/connectionpool.py:858: InsecureRequestWarning: Unverified HTTPS request is being made. Adding certificate verification is strongly advised. See: https://urllib3.readthedocs.io/en/latest/advanced-usage.html#ssl-warnings\n",
      "  InsecureRequestWarning)\n",
      "/anaconda3/lib/python3.6/site-packages/urllib3/connectionpool.py:858: InsecureRequestWarning: Unverified HTTPS request is being made. Adding certificate verification is strongly advised. See: https://urllib3.readthedocs.io/en/latest/advanced-usage.html#ssl-warnings\n",
      "  InsecureRequestWarning)\n",
      "/anaconda3/lib/python3.6/site-packages/urllib3/connectionpool.py:858: InsecureRequestWarning: Unverified HTTPS request is being made. Adding certificate verification is strongly advised. See: https://urllib3.readthedocs.io/en/latest/advanced-usage.html#ssl-warnings\n",
      "  InsecureRequestWarning)\n",
      "/anaconda3/lib/python3.6/site-packages/urllib3/connectionpool.py:858: InsecureRequestWarning: Unverified HTTPS request is being made. Adding certificate verification is strongly advised. See: https://urllib3.readthedocs.io/en/latest/advanced-usage.html#ssl-warnings\n",
      "  InsecureRequestWarning)\n",
      "/anaconda3/lib/python3.6/site-packages/urllib3/connectionpool.py:858: InsecureRequestWarning: Unverified HTTPS request is being made. Adding certificate verification is strongly advised. See: https://urllib3.readthedocs.io/en/latest/advanced-usage.html#ssl-warnings\n",
      "  InsecureRequestWarning)\n",
      "/anaconda3/lib/python3.6/site-packages/urllib3/connectionpool.py:858: InsecureRequestWarning: Unverified HTTPS request is being made. Adding certificate verification is strongly advised. See: https://urllib3.readthedocs.io/en/latest/advanced-usage.html#ssl-warnings\n",
      "  InsecureRequestWarning)\n",
      "/anaconda3/lib/python3.6/site-packages/urllib3/connectionpool.py:858: InsecureRequestWarning: Unverified HTTPS request is being made. Adding certificate verification is strongly advised. See: https://urllib3.readthedocs.io/en/latest/advanced-usage.html#ssl-warnings\n",
      "  InsecureRequestWarning)\n",
      "/anaconda3/lib/python3.6/site-packages/urllib3/connectionpool.py:858: InsecureRequestWarning: Unverified HTTPS request is being made. Adding certificate verification is strongly advised. See: https://urllib3.readthedocs.io/en/latest/advanced-usage.html#ssl-warnings\n",
      "  InsecureRequestWarning)\n",
      "/anaconda3/lib/python3.6/site-packages/urllib3/connectionpool.py:858: InsecureRequestWarning: Unverified HTTPS request is being made. Adding certificate verification is strongly advised. See: https://urllib3.readthedocs.io/en/latest/advanced-usage.html#ssl-warnings\n",
      "  InsecureRequestWarning)\n",
      "/anaconda3/lib/python3.6/site-packages/urllib3/connectionpool.py:858: InsecureRequestWarning: Unverified HTTPS request is being made. Adding certificate verification is strongly advised. See: https://urllib3.readthedocs.io/en/latest/advanced-usage.html#ssl-warnings\n",
      "  InsecureRequestWarning)\n",
      "/anaconda3/lib/python3.6/site-packages/urllib3/connectionpool.py:858: InsecureRequestWarning: Unverified HTTPS request is being made. Adding certificate verification is strongly advised. See: https://urllib3.readthedocs.io/en/latest/advanced-usage.html#ssl-warnings\n",
      "  InsecureRequestWarning)\n",
      "/anaconda3/lib/python3.6/site-packages/urllib3/connectionpool.py:858: InsecureRequestWarning: Unverified HTTPS request is being made. Adding certificate verification is strongly advised. See: https://urllib3.readthedocs.io/en/latest/advanced-usage.html#ssl-warnings\n",
      "  InsecureRequestWarning)\n",
      "/anaconda3/lib/python3.6/site-packages/urllib3/connectionpool.py:858: InsecureRequestWarning: Unverified HTTPS request is being made. Adding certificate verification is strongly advised. See: https://urllib3.readthedocs.io/en/latest/advanced-usage.html#ssl-warnings\n",
      "  InsecureRequestWarning)\n",
      "/anaconda3/lib/python3.6/site-packages/urllib3/connectionpool.py:858: InsecureRequestWarning: Unverified HTTPS request is being made. Adding certificate verification is strongly advised. See: https://urllib3.readthedocs.io/en/latest/advanced-usage.html#ssl-warnings\n",
      "  InsecureRequestWarning)\n"
     ]
    }
   ],
   "source": [
    "for ro in rolist:\n",
    "    for nr in nrlist:\n",
    "        for rt in rtlist:\n",
    "            url = 'https://www.at-bay.com/bp/api/gui/v1/financial_exposure/calculate?record_owner='+ro+'&num_records='+str(nr)+'&record_type='+rt\n",
    "            http = urllib3.PoolManager()\n",
    "            response = http.request('GET', url)\n",
    "            soup = BeautifulSoup(response.data, \"lxml\")\n",
    "            f = open('test.csv', \"a\")\n",
    "            soupstr = str(soup)\n",
    "            pfixsoupstr = soupstr.replace('<html><body><p>{\"result\": {','').replace(' \"call_center\": ','').replace('\"breach_coach\": ','').replace(' \"class_action_fines_and_defense\": ','').replace(' \"credit_monitoring\": ','').replace(' \"crisis_management\": ','').replace(' \"forensics\": ','').replace(' \"notification\": ','').replace(' \"pci_fines\": ','').replace(' \"regulatory_fines_and_defense\": ','').replace('}, \"total\": ',',').replace(' \"cost_per_record\": ', '').replace('}','').replace('\\n','').replace('</p></body></html>','')\n",
    "            f.write(ro+','+str(nr)+','+rt+','+pfixsoupstr+\"\\n\")\n",
    "            f.close() "
   ]
  },
  {
   "cell_type": "code",
   "execution_count": 158,
   "metadata": {},
   "outputs": [
    {
     "data": {
      "text/html": [
       "<div>\n",
       "<style scoped>\n",
       "    .dataframe tbody tr th:only-of-type {\n",
       "        vertical-align: middle;\n",
       "    }\n",
       "\n",
       "    .dataframe tbody tr th {\n",
       "        vertical-align: top;\n",
       "    }\n",
       "\n",
       "    .dataframe thead th {\n",
       "        text-align: right;\n",
       "    }\n",
       "</style>\n",
       "<table border=\"1\" class=\"dataframe\">\n",
       "  <thead>\n",
       "    <tr style=\"text-align: right;\">\n",
       "      <th></th>\n",
       "      <th>ro</th>\n",
       "      <th>nr</th>\n",
       "      <th>rt</th>\n",
       "      <th>bc</th>\n",
       "      <th>cc</th>\n",
       "      <th>cafd</th>\n",
       "      <th>crem</th>\n",
       "      <th>crim</th>\n",
       "      <th>for</th>\n",
       "      <th>not</th>\n",
       "      <th>pcif</th>\n",
       "      <th>reg</th>\n",
       "      <th>total</th>\n",
       "      <th>cpr</th>\n",
       "    </tr>\n",
       "  </thead>\n",
       "  <tbody>\n",
       "    <tr>\n",
       "      <th>0</th>\n",
       "      <td>employee_only</td>\n",
       "      <td>1</td>\n",
       "      <td>PII</td>\n",
       "      <td>25000</td>\n",
       "      <td>1300</td>\n",
       "      <td>0</td>\n",
       "      <td>10</td>\n",
       "      <td>30000</td>\n",
       "      <td>60000</td>\n",
       "      <td>2800</td>\n",
       "      <td>0</td>\n",
       "      <td>280000</td>\n",
       "      <td>399110</td>\n",
       "      <td>399110.0000</td>\n",
       "    </tr>\n",
       "    <tr>\n",
       "      <th>1</th>\n",
       "      <td>employee_only</td>\n",
       "      <td>1</td>\n",
       "      <td>PHI</td>\n",
       "      <td>25000</td>\n",
       "      <td>1300</td>\n",
       "      <td>0</td>\n",
       "      <td>10</td>\n",
       "      <td>40000</td>\n",
       "      <td>60000</td>\n",
       "      <td>2800</td>\n",
       "      <td>0</td>\n",
       "      <td>530000</td>\n",
       "      <td>659110</td>\n",
       "      <td>659110.0000</td>\n",
       "    </tr>\n",
       "    <tr>\n",
       "      <th>2</th>\n",
       "      <td>employee_only</td>\n",
       "      <td>1</td>\n",
       "      <td>PCI</td>\n",
       "      <td>25000</td>\n",
       "      <td>1300</td>\n",
       "      <td>0</td>\n",
       "      <td>10</td>\n",
       "      <td>20000</td>\n",
       "      <td>120000</td>\n",
       "      <td>2800</td>\n",
       "      <td>75000</td>\n",
       "      <td>280000</td>\n",
       "      <td>524110</td>\n",
       "      <td>524110.0000</td>\n",
       "    </tr>\n",
       "    <tr>\n",
       "      <th>3</th>\n",
       "      <td>employee_only</td>\n",
       "      <td>1</td>\n",
       "      <td>PHI-PCI</td>\n",
       "      <td>25000</td>\n",
       "      <td>1300</td>\n",
       "      <td>0</td>\n",
       "      <td>10</td>\n",
       "      <td>40000</td>\n",
       "      <td>120000</td>\n",
       "      <td>2800</td>\n",
       "      <td>75000</td>\n",
       "      <td>530000</td>\n",
       "      <td>794110</td>\n",
       "      <td>794110.0000</td>\n",
       "    </tr>\n",
       "    <tr>\n",
       "      <th>4</th>\n",
       "      <td>employee_only</td>\n",
       "      <td>10000</td>\n",
       "      <td>PII</td>\n",
       "      <td>50000</td>\n",
       "      <td>6100</td>\n",
       "      <td>650000</td>\n",
       "      <td>74000</td>\n",
       "      <td>53000</td>\n",
       "      <td>60000</td>\n",
       "      <td>15000</td>\n",
       "      <td>0</td>\n",
       "      <td>280000</td>\n",
       "      <td>1188100</td>\n",
       "      <td>118.8100</td>\n",
       "    </tr>\n",
       "    <tr>\n",
       "      <th>5</th>\n",
       "      <td>employee_only</td>\n",
       "      <td>10000</td>\n",
       "      <td>PHI</td>\n",
       "      <td>50000</td>\n",
       "      <td>6100</td>\n",
       "      <td>880000</td>\n",
       "      <td>89000</td>\n",
       "      <td>70000</td>\n",
       "      <td>60000</td>\n",
       "      <td>15000</td>\n",
       "      <td>0</td>\n",
       "      <td>530000</td>\n",
       "      <td>1700100</td>\n",
       "      <td>170.0100</td>\n",
       "    </tr>\n",
       "    <tr>\n",
       "      <th>6</th>\n",
       "      <td>employee_only</td>\n",
       "      <td>10000</td>\n",
       "      <td>PCI</td>\n",
       "      <td>50000</td>\n",
       "      <td>6100</td>\n",
       "      <td>650000</td>\n",
       "      <td>59000</td>\n",
       "      <td>35000</td>\n",
       "      <td>120000</td>\n",
       "      <td>15000</td>\n",
       "      <td>380000</td>\n",
       "      <td>280000</td>\n",
       "      <td>1595100</td>\n",
       "      <td>159.5100</td>\n",
       "    </tr>\n",
       "    <tr>\n",
       "      <th>7</th>\n",
       "      <td>employee_only</td>\n",
       "      <td>10000</td>\n",
       "      <td>PHI-PCI</td>\n",
       "      <td>50000</td>\n",
       "      <td>6100</td>\n",
       "      <td>880000</td>\n",
       "      <td>89000</td>\n",
       "      <td>70000</td>\n",
       "      <td>120000</td>\n",
       "      <td>15000</td>\n",
       "      <td>380000</td>\n",
       "      <td>530000</td>\n",
       "      <td>2140100</td>\n",
       "      <td>214.0100</td>\n",
       "    </tr>\n",
       "    <tr>\n",
       "      <th>8</th>\n",
       "      <td>employee_only</td>\n",
       "      <td>100000000</td>\n",
       "      <td>PII</td>\n",
       "      <td>750000</td>\n",
       "      <td>88000000</td>\n",
       "      <td>18000000</td>\n",
       "      <td>490000000</td>\n",
       "      <td>300000</td>\n",
       "      <td>750000</td>\n",
       "      <td>56000000</td>\n",
       "      <td>0</td>\n",
       "      <td>20000000</td>\n",
       "      <td>673800000</td>\n",
       "      <td>6.7380</td>\n",
       "    </tr>\n",
       "    <tr>\n",
       "      <th>9</th>\n",
       "      <td>employee_only</td>\n",
       "      <td>100000000</td>\n",
       "      <td>PHI</td>\n",
       "      <td>750000</td>\n",
       "      <td>88000000</td>\n",
       "      <td>18000000</td>\n",
       "      <td>490000000</td>\n",
       "      <td>400000</td>\n",
       "      <td>750000</td>\n",
       "      <td>56000000</td>\n",
       "      <td>0</td>\n",
       "      <td>41000000</td>\n",
       "      <td>694900000</td>\n",
       "      <td>6.9490</td>\n",
       "    </tr>\n",
       "    <tr>\n",
       "      <th>10</th>\n",
       "      <td>employee_only</td>\n",
       "      <td>100000000</td>\n",
       "      <td>PCI</td>\n",
       "      <td>750000</td>\n",
       "      <td>88000000</td>\n",
       "      <td>13000000</td>\n",
       "      <td>490000000</td>\n",
       "      <td>200000</td>\n",
       "      <td>1500000</td>\n",
       "      <td>56000000</td>\n",
       "      <td>400000000</td>\n",
       "      <td>20000000</td>\n",
       "      <td>1069450000</td>\n",
       "      <td>10.6945</td>\n",
       "    </tr>\n",
       "    <tr>\n",
       "      <th>11</th>\n",
       "      <td>employee_only</td>\n",
       "      <td>100000000</td>\n",
       "      <td>PHI-PCI</td>\n",
       "      <td>750000</td>\n",
       "      <td>88000000</td>\n",
       "      <td>18000000</td>\n",
       "      <td>490000000</td>\n",
       "      <td>400000</td>\n",
       "      <td>1500000</td>\n",
       "      <td>56000000</td>\n",
       "      <td>400000000</td>\n",
       "      <td>41000000</td>\n",
       "      <td>1095650000</td>\n",
       "      <td>10.9565</td>\n",
       "    </tr>\n",
       "    <tr>\n",
       "      <th>12</th>\n",
       "      <td>customer_and_employee</td>\n",
       "      <td>1</td>\n",
       "      <td>PII</td>\n",
       "      <td>25000</td>\n",
       "      <td>1300</td>\n",
       "      <td>0</td>\n",
       "      <td>0</td>\n",
       "      <td>30000</td>\n",
       "      <td>60000</td>\n",
       "      <td>2800</td>\n",
       "      <td>0</td>\n",
       "      <td>280000</td>\n",
       "      <td>399100</td>\n",
       "      <td>399100.0000</td>\n",
       "    </tr>\n",
       "    <tr>\n",
       "      <th>13</th>\n",
       "      <td>customer_and_employee</td>\n",
       "      <td>1</td>\n",
       "      <td>PHI</td>\n",
       "      <td>25000</td>\n",
       "      <td>1300</td>\n",
       "      <td>0</td>\n",
       "      <td>0</td>\n",
       "      <td>40000</td>\n",
       "      <td>60000</td>\n",
       "      <td>2800</td>\n",
       "      <td>0</td>\n",
       "      <td>530000</td>\n",
       "      <td>659100</td>\n",
       "      <td>659100.0000</td>\n",
       "    </tr>\n",
       "    <tr>\n",
       "      <th>14</th>\n",
       "      <td>customer_and_employee</td>\n",
       "      <td>1</td>\n",
       "      <td>PCI</td>\n",
       "      <td>25000</td>\n",
       "      <td>1300</td>\n",
       "      <td>0</td>\n",
       "      <td>0</td>\n",
       "      <td>20000</td>\n",
       "      <td>120000</td>\n",
       "      <td>2800</td>\n",
       "      <td>75000</td>\n",
       "      <td>280000</td>\n",
       "      <td>524100</td>\n",
       "      <td>524100.0000</td>\n",
       "    </tr>\n",
       "    <tr>\n",
       "      <th>15</th>\n",
       "      <td>customer_and_employee</td>\n",
       "      <td>1</td>\n",
       "      <td>PHI-PCI</td>\n",
       "      <td>25000</td>\n",
       "      <td>1300</td>\n",
       "      <td>0</td>\n",
       "      <td>0</td>\n",
       "      <td>40000</td>\n",
       "      <td>120000</td>\n",
       "      <td>2800</td>\n",
       "      <td>75000</td>\n",
       "      <td>530000</td>\n",
       "      <td>794100</td>\n",
       "      <td>794100.0000</td>\n",
       "    </tr>\n",
       "    <tr>\n",
       "      <th>16</th>\n",
       "      <td>customer_and_employee</td>\n",
       "      <td>10000</td>\n",
       "      <td>PII</td>\n",
       "      <td>50000</td>\n",
       "      <td>6100</td>\n",
       "      <td>650000</td>\n",
       "      <td>8200</td>\n",
       "      <td>53000</td>\n",
       "      <td>60000</td>\n",
       "      <td>15000</td>\n",
       "      <td>0</td>\n",
       "      <td>280000</td>\n",
       "      <td>1122300</td>\n",
       "      <td>112.2300</td>\n",
       "    </tr>\n",
       "    <tr>\n",
       "      <th>17</th>\n",
       "      <td>customer_and_employee</td>\n",
       "      <td>10000</td>\n",
       "      <td>PHI</td>\n",
       "      <td>50000</td>\n",
       "      <td>6100</td>\n",
       "      <td>880000</td>\n",
       "      <td>11000</td>\n",
       "      <td>70000</td>\n",
       "      <td>60000</td>\n",
       "      <td>15000</td>\n",
       "      <td>0</td>\n",
       "      <td>530000</td>\n",
       "      <td>1622100</td>\n",
       "      <td>162.2100</td>\n",
       "    </tr>\n",
       "    <tr>\n",
       "      <th>18</th>\n",
       "      <td>customer_and_employee</td>\n",
       "      <td>10000</td>\n",
       "      <td>PCI</td>\n",
       "      <td>50000</td>\n",
       "      <td>6100</td>\n",
       "      <td>650000</td>\n",
       "      <td>5200</td>\n",
       "      <td>35000</td>\n",
       "      <td>120000</td>\n",
       "      <td>15000</td>\n",
       "      <td>380000</td>\n",
       "      <td>280000</td>\n",
       "      <td>1541300</td>\n",
       "      <td>154.1300</td>\n",
       "    </tr>\n",
       "    <tr>\n",
       "      <th>19</th>\n",
       "      <td>customer_and_employee</td>\n",
       "      <td>10000</td>\n",
       "      <td>PHI-PCI</td>\n",
       "      <td>50000</td>\n",
       "      <td>6100</td>\n",
       "      <td>880000</td>\n",
       "      <td>11000</td>\n",
       "      <td>70000</td>\n",
       "      <td>120000</td>\n",
       "      <td>15000</td>\n",
       "      <td>380000</td>\n",
       "      <td>530000</td>\n",
       "      <td>2062100</td>\n",
       "      <td>206.2100</td>\n",
       "    </tr>\n",
       "    <tr>\n",
       "      <th>20</th>\n",
       "      <td>customer_and_employee</td>\n",
       "      <td>100000000</td>\n",
       "      <td>PII</td>\n",
       "      <td>750000</td>\n",
       "      <td>88000000</td>\n",
       "      <td>18000000</td>\n",
       "      <td>98000000</td>\n",
       "      <td>300000</td>\n",
       "      <td>750000</td>\n",
       "      <td>56000000</td>\n",
       "      <td>0</td>\n",
       "      <td>20000000</td>\n",
       "      <td>281800000</td>\n",
       "      <td>2.8180</td>\n",
       "    </tr>\n",
       "    <tr>\n",
       "      <th>21</th>\n",
       "      <td>customer_and_employee</td>\n",
       "      <td>100000000</td>\n",
       "      <td>PHI</td>\n",
       "      <td>750000</td>\n",
       "      <td>88000000</td>\n",
       "      <td>18000000</td>\n",
       "      <td>98000000</td>\n",
       "      <td>400000</td>\n",
       "      <td>750000</td>\n",
       "      <td>56000000</td>\n",
       "      <td>0</td>\n",
       "      <td>41000000</td>\n",
       "      <td>302900000</td>\n",
       "      <td>3.0290</td>\n",
       "    </tr>\n",
       "    <tr>\n",
       "      <th>22</th>\n",
       "      <td>customer_and_employee</td>\n",
       "      <td>100000000</td>\n",
       "      <td>PCI</td>\n",
       "      <td>750000</td>\n",
       "      <td>88000000</td>\n",
       "      <td>13000000</td>\n",
       "      <td>98000000</td>\n",
       "      <td>200000</td>\n",
       "      <td>1500000</td>\n",
       "      <td>56000000</td>\n",
       "      <td>400000000</td>\n",
       "      <td>20000000</td>\n",
       "      <td>677450000</td>\n",
       "      <td>6.7745</td>\n",
       "    </tr>\n",
       "    <tr>\n",
       "      <th>23</th>\n",
       "      <td>customer_and_employee</td>\n",
       "      <td>100000000</td>\n",
       "      <td>PHI-PCI</td>\n",
       "      <td>750000</td>\n",
       "      <td>88000000</td>\n",
       "      <td>18000000</td>\n",
       "      <td>98000000</td>\n",
       "      <td>400000</td>\n",
       "      <td>1500000</td>\n",
       "      <td>56000000</td>\n",
       "      <td>400000000</td>\n",
       "      <td>41000000</td>\n",
       "      <td>703650000</td>\n",
       "      <td>7.0365</td>\n",
       "    </tr>\n",
       "  </tbody>\n",
       "</table>\n",
       "</div>"
      ],
      "text/plain": [
       "                       ro         nr       rt      bc        cc      cafd  \\\n",
       "0           employee_only          1      PII   25000      1300         0   \n",
       "1           employee_only          1      PHI   25000      1300         0   \n",
       "2           employee_only          1      PCI   25000      1300         0   \n",
       "3           employee_only          1  PHI-PCI   25000      1300         0   \n",
       "4           employee_only      10000      PII   50000      6100    650000   \n",
       "5           employee_only      10000      PHI   50000      6100    880000   \n",
       "6           employee_only      10000      PCI   50000      6100    650000   \n",
       "7           employee_only      10000  PHI-PCI   50000      6100    880000   \n",
       "8           employee_only  100000000      PII  750000  88000000  18000000   \n",
       "9           employee_only  100000000      PHI  750000  88000000  18000000   \n",
       "10          employee_only  100000000      PCI  750000  88000000  13000000   \n",
       "11          employee_only  100000000  PHI-PCI  750000  88000000  18000000   \n",
       "12  customer_and_employee          1      PII   25000      1300         0   \n",
       "13  customer_and_employee          1      PHI   25000      1300         0   \n",
       "14  customer_and_employee          1      PCI   25000      1300         0   \n",
       "15  customer_and_employee          1  PHI-PCI   25000      1300         0   \n",
       "16  customer_and_employee      10000      PII   50000      6100    650000   \n",
       "17  customer_and_employee      10000      PHI   50000      6100    880000   \n",
       "18  customer_and_employee      10000      PCI   50000      6100    650000   \n",
       "19  customer_and_employee      10000  PHI-PCI   50000      6100    880000   \n",
       "20  customer_and_employee  100000000      PII  750000  88000000  18000000   \n",
       "21  customer_and_employee  100000000      PHI  750000  88000000  18000000   \n",
       "22  customer_and_employee  100000000      PCI  750000  88000000  13000000   \n",
       "23  customer_and_employee  100000000  PHI-PCI  750000  88000000  18000000   \n",
       "\n",
       "         crem    crim      for       not       pcif       reg       total  \\\n",
       "0          10   30000    60000      2800          0    280000      399110   \n",
       "1          10   40000    60000      2800          0    530000      659110   \n",
       "2          10   20000   120000      2800      75000    280000      524110   \n",
       "3          10   40000   120000      2800      75000    530000      794110   \n",
       "4       74000   53000    60000     15000          0    280000     1188100   \n",
       "5       89000   70000    60000     15000          0    530000     1700100   \n",
       "6       59000   35000   120000     15000     380000    280000     1595100   \n",
       "7       89000   70000   120000     15000     380000    530000     2140100   \n",
       "8   490000000  300000   750000  56000000          0  20000000   673800000   \n",
       "9   490000000  400000   750000  56000000          0  41000000   694900000   \n",
       "10  490000000  200000  1500000  56000000  400000000  20000000  1069450000   \n",
       "11  490000000  400000  1500000  56000000  400000000  41000000  1095650000   \n",
       "12          0   30000    60000      2800          0    280000      399100   \n",
       "13          0   40000    60000      2800          0    530000      659100   \n",
       "14          0   20000   120000      2800      75000    280000      524100   \n",
       "15          0   40000   120000      2800      75000    530000      794100   \n",
       "16       8200   53000    60000     15000          0    280000     1122300   \n",
       "17      11000   70000    60000     15000          0    530000     1622100   \n",
       "18       5200   35000   120000     15000     380000    280000     1541300   \n",
       "19      11000   70000   120000     15000     380000    530000     2062100   \n",
       "20   98000000  300000   750000  56000000          0  20000000   281800000   \n",
       "21   98000000  400000   750000  56000000          0  41000000   302900000   \n",
       "22   98000000  200000  1500000  56000000  400000000  20000000   677450000   \n",
       "23   98000000  400000  1500000  56000000  400000000  41000000   703650000   \n",
       "\n",
       "            cpr  \n",
       "0   399110.0000  \n",
       "1   659110.0000  \n",
       "2   524110.0000  \n",
       "3   794110.0000  \n",
       "4      118.8100  \n",
       "5      170.0100  \n",
       "6      159.5100  \n",
       "7      214.0100  \n",
       "8        6.7380  \n",
       "9        6.9490  \n",
       "10      10.6945  \n",
       "11      10.9565  \n",
       "12  399100.0000  \n",
       "13  659100.0000  \n",
       "14  524100.0000  \n",
       "15  794100.0000  \n",
       "16     112.2300  \n",
       "17     162.2100  \n",
       "18     154.1300  \n",
       "19     206.2100  \n",
       "20       2.8180  \n",
       "21       3.0290  \n",
       "22       6.7745  \n",
       "23       7.0365  "
      ]
     },
     "execution_count": 158,
     "metadata": {},
     "output_type": "execute_result"
    }
   ],
   "source": [
    "import pandas as pd\n",
    "\n",
    "df = pd.read_csv('test.csv',names=['ro','nr','rt','bc', 'cc', 'cafd', 'crem', 'crim','for','not','pcif','reg','total','cpr'])\n",
    "\n",
    "df"
   ]
  },
  {
   "cell_type": "markdown",
   "metadata": {},
   "source": [
    "`get_dict_for_query` takes a dataframe, value in the `ro` (recordowner) column, value in the `rt` (recordtype) column, and a column for which to return a value\n",
    "`sub_df` creates a dataframe which just contains rows matching recordowner and recordtypes\n",
    "keys for the dictionary are set to `nr` (numberrecords) value, how matplotlib wants it\n",
    "values are from other columns corresponding from rows in `sub_df` - depends on input of `column_name`\n",
    "\n",
    "\n",
    "returns keys (nr values) and values (ro and rt values)"
   ]
  },
  {
   "cell_type": "code",
   "execution_count": 159,
   "metadata": {},
   "outputs": [
    {
     "data": {
      "text/html": [
       "<div>\n",
       "<style scoped>\n",
       "    .dataframe tbody tr th:only-of-type {\n",
       "        vertical-align: middle;\n",
       "    }\n",
       "\n",
       "    .dataframe tbody tr th {\n",
       "        vertical-align: top;\n",
       "    }\n",
       "\n",
       "    .dataframe thead th {\n",
       "        text-align: right;\n",
       "    }\n",
       "</style>\n",
       "<table border=\"1\" class=\"dataframe\">\n",
       "  <thead>\n",
       "    <tr style=\"text-align: right;\">\n",
       "      <th></th>\n",
       "      <th>ro</th>\n",
       "      <th>nr</th>\n",
       "      <th>rt</th>\n",
       "      <th>bc</th>\n",
       "      <th>cc</th>\n",
       "      <th>cafd</th>\n",
       "      <th>crem</th>\n",
       "      <th>crim</th>\n",
       "      <th>for</th>\n",
       "      <th>not</th>\n",
       "      <th>pcif</th>\n",
       "      <th>reg</th>\n",
       "      <th>total</th>\n",
       "      <th>cpr</th>\n",
       "    </tr>\n",
       "  </thead>\n",
       "  <tbody>\n",
       "    <tr>\n",
       "      <th>0</th>\n",
       "      <td>employee_only</td>\n",
       "      <td>1</td>\n",
       "      <td>PII</td>\n",
       "      <td>25000</td>\n",
       "      <td>1300</td>\n",
       "      <td>0</td>\n",
       "      <td>10</td>\n",
       "      <td>30000</td>\n",
       "      <td>60000</td>\n",
       "      <td>2800</td>\n",
       "      <td>0</td>\n",
       "      <td>280000</td>\n",
       "      <td>399110</td>\n",
       "      <td>399110.0000</td>\n",
       "    </tr>\n",
       "    <tr>\n",
       "      <th>1</th>\n",
       "      <td>employee_only</td>\n",
       "      <td>1</td>\n",
       "      <td>PHI</td>\n",
       "      <td>25000</td>\n",
       "      <td>1300</td>\n",
       "      <td>0</td>\n",
       "      <td>10</td>\n",
       "      <td>40000</td>\n",
       "      <td>60000</td>\n",
       "      <td>2800</td>\n",
       "      <td>0</td>\n",
       "      <td>530000</td>\n",
       "      <td>659110</td>\n",
       "      <td>659110.0000</td>\n",
       "    </tr>\n",
       "    <tr>\n",
       "      <th>2</th>\n",
       "      <td>employee_only</td>\n",
       "      <td>1</td>\n",
       "      <td>PCI</td>\n",
       "      <td>25000</td>\n",
       "      <td>1300</td>\n",
       "      <td>0</td>\n",
       "      <td>10</td>\n",
       "      <td>20000</td>\n",
       "      <td>120000</td>\n",
       "      <td>2800</td>\n",
       "      <td>75000</td>\n",
       "      <td>280000</td>\n",
       "      <td>524110</td>\n",
       "      <td>524110.0000</td>\n",
       "    </tr>\n",
       "    <tr>\n",
       "      <th>3</th>\n",
       "      <td>employee_only</td>\n",
       "      <td>1</td>\n",
       "      <td>PHI-PCI</td>\n",
       "      <td>25000</td>\n",
       "      <td>1300</td>\n",
       "      <td>0</td>\n",
       "      <td>10</td>\n",
       "      <td>40000</td>\n",
       "      <td>120000</td>\n",
       "      <td>2800</td>\n",
       "      <td>75000</td>\n",
       "      <td>530000</td>\n",
       "      <td>794110</td>\n",
       "      <td>794110.0000</td>\n",
       "    </tr>\n",
       "    <tr>\n",
       "      <th>4</th>\n",
       "      <td>employee_only</td>\n",
       "      <td>10000</td>\n",
       "      <td>PII</td>\n",
       "      <td>50000</td>\n",
       "      <td>6100</td>\n",
       "      <td>650000</td>\n",
       "      <td>74000</td>\n",
       "      <td>53000</td>\n",
       "      <td>60000</td>\n",
       "      <td>15000</td>\n",
       "      <td>0</td>\n",
       "      <td>280000</td>\n",
       "      <td>1188100</td>\n",
       "      <td>118.8100</td>\n",
       "    </tr>\n",
       "    <tr>\n",
       "      <th>5</th>\n",
       "      <td>employee_only</td>\n",
       "      <td>10000</td>\n",
       "      <td>PHI</td>\n",
       "      <td>50000</td>\n",
       "      <td>6100</td>\n",
       "      <td>880000</td>\n",
       "      <td>89000</td>\n",
       "      <td>70000</td>\n",
       "      <td>60000</td>\n",
       "      <td>15000</td>\n",
       "      <td>0</td>\n",
       "      <td>530000</td>\n",
       "      <td>1700100</td>\n",
       "      <td>170.0100</td>\n",
       "    </tr>\n",
       "    <tr>\n",
       "      <th>6</th>\n",
       "      <td>employee_only</td>\n",
       "      <td>10000</td>\n",
       "      <td>PCI</td>\n",
       "      <td>50000</td>\n",
       "      <td>6100</td>\n",
       "      <td>650000</td>\n",
       "      <td>59000</td>\n",
       "      <td>35000</td>\n",
       "      <td>120000</td>\n",
       "      <td>15000</td>\n",
       "      <td>380000</td>\n",
       "      <td>280000</td>\n",
       "      <td>1595100</td>\n",
       "      <td>159.5100</td>\n",
       "    </tr>\n",
       "    <tr>\n",
       "      <th>7</th>\n",
       "      <td>employee_only</td>\n",
       "      <td>10000</td>\n",
       "      <td>PHI-PCI</td>\n",
       "      <td>50000</td>\n",
       "      <td>6100</td>\n",
       "      <td>880000</td>\n",
       "      <td>89000</td>\n",
       "      <td>70000</td>\n",
       "      <td>120000</td>\n",
       "      <td>15000</td>\n",
       "      <td>380000</td>\n",
       "      <td>530000</td>\n",
       "      <td>2140100</td>\n",
       "      <td>214.0100</td>\n",
       "    </tr>\n",
       "    <tr>\n",
       "      <th>8</th>\n",
       "      <td>employee_only</td>\n",
       "      <td>100000000</td>\n",
       "      <td>PII</td>\n",
       "      <td>750000</td>\n",
       "      <td>88000000</td>\n",
       "      <td>18000000</td>\n",
       "      <td>490000000</td>\n",
       "      <td>300000</td>\n",
       "      <td>750000</td>\n",
       "      <td>56000000</td>\n",
       "      <td>0</td>\n",
       "      <td>20000000</td>\n",
       "      <td>673800000</td>\n",
       "      <td>6.7380</td>\n",
       "    </tr>\n",
       "    <tr>\n",
       "      <th>9</th>\n",
       "      <td>employee_only</td>\n",
       "      <td>100000000</td>\n",
       "      <td>PHI</td>\n",
       "      <td>750000</td>\n",
       "      <td>88000000</td>\n",
       "      <td>18000000</td>\n",
       "      <td>490000000</td>\n",
       "      <td>400000</td>\n",
       "      <td>750000</td>\n",
       "      <td>56000000</td>\n",
       "      <td>0</td>\n",
       "      <td>41000000</td>\n",
       "      <td>694900000</td>\n",
       "      <td>6.9490</td>\n",
       "    </tr>\n",
       "    <tr>\n",
       "      <th>10</th>\n",
       "      <td>employee_only</td>\n",
       "      <td>100000000</td>\n",
       "      <td>PCI</td>\n",
       "      <td>750000</td>\n",
       "      <td>88000000</td>\n",
       "      <td>13000000</td>\n",
       "      <td>490000000</td>\n",
       "      <td>200000</td>\n",
       "      <td>1500000</td>\n",
       "      <td>56000000</td>\n",
       "      <td>400000000</td>\n",
       "      <td>20000000</td>\n",
       "      <td>1069450000</td>\n",
       "      <td>10.6945</td>\n",
       "    </tr>\n",
       "    <tr>\n",
       "      <th>11</th>\n",
       "      <td>employee_only</td>\n",
       "      <td>100000000</td>\n",
       "      <td>PHI-PCI</td>\n",
       "      <td>750000</td>\n",
       "      <td>88000000</td>\n",
       "      <td>18000000</td>\n",
       "      <td>490000000</td>\n",
       "      <td>400000</td>\n",
       "      <td>1500000</td>\n",
       "      <td>56000000</td>\n",
       "      <td>400000000</td>\n",
       "      <td>41000000</td>\n",
       "      <td>1095650000</td>\n",
       "      <td>10.9565</td>\n",
       "    </tr>\n",
       "    <tr>\n",
       "      <th>12</th>\n",
       "      <td>customer_and_employee</td>\n",
       "      <td>1</td>\n",
       "      <td>PII</td>\n",
       "      <td>25000</td>\n",
       "      <td>1300</td>\n",
       "      <td>0</td>\n",
       "      <td>0</td>\n",
       "      <td>30000</td>\n",
       "      <td>60000</td>\n",
       "      <td>2800</td>\n",
       "      <td>0</td>\n",
       "      <td>280000</td>\n",
       "      <td>399100</td>\n",
       "      <td>399100.0000</td>\n",
       "    </tr>\n",
       "    <tr>\n",
       "      <th>13</th>\n",
       "      <td>customer_and_employee</td>\n",
       "      <td>1</td>\n",
       "      <td>PHI</td>\n",
       "      <td>25000</td>\n",
       "      <td>1300</td>\n",
       "      <td>0</td>\n",
       "      <td>0</td>\n",
       "      <td>40000</td>\n",
       "      <td>60000</td>\n",
       "      <td>2800</td>\n",
       "      <td>0</td>\n",
       "      <td>530000</td>\n",
       "      <td>659100</td>\n",
       "      <td>659100.0000</td>\n",
       "    </tr>\n",
       "    <tr>\n",
       "      <th>14</th>\n",
       "      <td>customer_and_employee</td>\n",
       "      <td>1</td>\n",
       "      <td>PCI</td>\n",
       "      <td>25000</td>\n",
       "      <td>1300</td>\n",
       "      <td>0</td>\n",
       "      <td>0</td>\n",
       "      <td>20000</td>\n",
       "      <td>120000</td>\n",
       "      <td>2800</td>\n",
       "      <td>75000</td>\n",
       "      <td>280000</td>\n",
       "      <td>524100</td>\n",
       "      <td>524100.0000</td>\n",
       "    </tr>\n",
       "    <tr>\n",
       "      <th>15</th>\n",
       "      <td>customer_and_employee</td>\n",
       "      <td>1</td>\n",
       "      <td>PHI-PCI</td>\n",
       "      <td>25000</td>\n",
       "      <td>1300</td>\n",
       "      <td>0</td>\n",
       "      <td>0</td>\n",
       "      <td>40000</td>\n",
       "      <td>120000</td>\n",
       "      <td>2800</td>\n",
       "      <td>75000</td>\n",
       "      <td>530000</td>\n",
       "      <td>794100</td>\n",
       "      <td>794100.0000</td>\n",
       "    </tr>\n",
       "    <tr>\n",
       "      <th>16</th>\n",
       "      <td>customer_and_employee</td>\n",
       "      <td>10000</td>\n",
       "      <td>PII</td>\n",
       "      <td>50000</td>\n",
       "      <td>6100</td>\n",
       "      <td>650000</td>\n",
       "      <td>8200</td>\n",
       "      <td>53000</td>\n",
       "      <td>60000</td>\n",
       "      <td>15000</td>\n",
       "      <td>0</td>\n",
       "      <td>280000</td>\n",
       "      <td>1122300</td>\n",
       "      <td>112.2300</td>\n",
       "    </tr>\n",
       "    <tr>\n",
       "      <th>17</th>\n",
       "      <td>customer_and_employee</td>\n",
       "      <td>10000</td>\n",
       "      <td>PHI</td>\n",
       "      <td>50000</td>\n",
       "      <td>6100</td>\n",
       "      <td>880000</td>\n",
       "      <td>11000</td>\n",
       "      <td>70000</td>\n",
       "      <td>60000</td>\n",
       "      <td>15000</td>\n",
       "      <td>0</td>\n",
       "      <td>530000</td>\n",
       "      <td>1622100</td>\n",
       "      <td>162.2100</td>\n",
       "    </tr>\n",
       "    <tr>\n",
       "      <th>18</th>\n",
       "      <td>customer_and_employee</td>\n",
       "      <td>10000</td>\n",
       "      <td>PCI</td>\n",
       "      <td>50000</td>\n",
       "      <td>6100</td>\n",
       "      <td>650000</td>\n",
       "      <td>5200</td>\n",
       "      <td>35000</td>\n",
       "      <td>120000</td>\n",
       "      <td>15000</td>\n",
       "      <td>380000</td>\n",
       "      <td>280000</td>\n",
       "      <td>1541300</td>\n",
       "      <td>154.1300</td>\n",
       "    </tr>\n",
       "    <tr>\n",
       "      <th>19</th>\n",
       "      <td>customer_and_employee</td>\n",
       "      <td>10000</td>\n",
       "      <td>PHI-PCI</td>\n",
       "      <td>50000</td>\n",
       "      <td>6100</td>\n",
       "      <td>880000</td>\n",
       "      <td>11000</td>\n",
       "      <td>70000</td>\n",
       "      <td>120000</td>\n",
       "      <td>15000</td>\n",
       "      <td>380000</td>\n",
       "      <td>530000</td>\n",
       "      <td>2062100</td>\n",
       "      <td>206.2100</td>\n",
       "    </tr>\n",
       "    <tr>\n",
       "      <th>20</th>\n",
       "      <td>customer_and_employee</td>\n",
       "      <td>100000000</td>\n",
       "      <td>PII</td>\n",
       "      <td>750000</td>\n",
       "      <td>88000000</td>\n",
       "      <td>18000000</td>\n",
       "      <td>98000000</td>\n",
       "      <td>300000</td>\n",
       "      <td>750000</td>\n",
       "      <td>56000000</td>\n",
       "      <td>0</td>\n",
       "      <td>20000000</td>\n",
       "      <td>281800000</td>\n",
       "      <td>2.8180</td>\n",
       "    </tr>\n",
       "    <tr>\n",
       "      <th>21</th>\n",
       "      <td>customer_and_employee</td>\n",
       "      <td>100000000</td>\n",
       "      <td>PHI</td>\n",
       "      <td>750000</td>\n",
       "      <td>88000000</td>\n",
       "      <td>18000000</td>\n",
       "      <td>98000000</td>\n",
       "      <td>400000</td>\n",
       "      <td>750000</td>\n",
       "      <td>56000000</td>\n",
       "      <td>0</td>\n",
       "      <td>41000000</td>\n",
       "      <td>302900000</td>\n",
       "      <td>3.0290</td>\n",
       "    </tr>\n",
       "    <tr>\n",
       "      <th>22</th>\n",
       "      <td>customer_and_employee</td>\n",
       "      <td>100000000</td>\n",
       "      <td>PCI</td>\n",
       "      <td>750000</td>\n",
       "      <td>88000000</td>\n",
       "      <td>13000000</td>\n",
       "      <td>98000000</td>\n",
       "      <td>200000</td>\n",
       "      <td>1500000</td>\n",
       "      <td>56000000</td>\n",
       "      <td>400000000</td>\n",
       "      <td>20000000</td>\n",
       "      <td>677450000</td>\n",
       "      <td>6.7745</td>\n",
       "    </tr>\n",
       "    <tr>\n",
       "      <th>23</th>\n",
       "      <td>customer_and_employee</td>\n",
       "      <td>100000000</td>\n",
       "      <td>PHI-PCI</td>\n",
       "      <td>750000</td>\n",
       "      <td>88000000</td>\n",
       "      <td>18000000</td>\n",
       "      <td>98000000</td>\n",
       "      <td>400000</td>\n",
       "      <td>1500000</td>\n",
       "      <td>56000000</td>\n",
       "      <td>400000000</td>\n",
       "      <td>41000000</td>\n",
       "      <td>703650000</td>\n",
       "      <td>7.0365</td>\n",
       "    </tr>\n",
       "  </tbody>\n",
       "</table>\n",
       "</div>"
      ],
      "text/plain": [
       "                       ro         nr       rt      bc        cc      cafd  \\\n",
       "0           employee_only          1      PII   25000      1300         0   \n",
       "1           employee_only          1      PHI   25000      1300         0   \n",
       "2           employee_only          1      PCI   25000      1300         0   \n",
       "3           employee_only          1  PHI-PCI   25000      1300         0   \n",
       "4           employee_only      10000      PII   50000      6100    650000   \n",
       "5           employee_only      10000      PHI   50000      6100    880000   \n",
       "6           employee_only      10000      PCI   50000      6100    650000   \n",
       "7           employee_only      10000  PHI-PCI   50000      6100    880000   \n",
       "8           employee_only  100000000      PII  750000  88000000  18000000   \n",
       "9           employee_only  100000000      PHI  750000  88000000  18000000   \n",
       "10          employee_only  100000000      PCI  750000  88000000  13000000   \n",
       "11          employee_only  100000000  PHI-PCI  750000  88000000  18000000   \n",
       "12  customer_and_employee          1      PII   25000      1300         0   \n",
       "13  customer_and_employee          1      PHI   25000      1300         0   \n",
       "14  customer_and_employee          1      PCI   25000      1300         0   \n",
       "15  customer_and_employee          1  PHI-PCI   25000      1300         0   \n",
       "16  customer_and_employee      10000      PII   50000      6100    650000   \n",
       "17  customer_and_employee      10000      PHI   50000      6100    880000   \n",
       "18  customer_and_employee      10000      PCI   50000      6100    650000   \n",
       "19  customer_and_employee      10000  PHI-PCI   50000      6100    880000   \n",
       "20  customer_and_employee  100000000      PII  750000  88000000  18000000   \n",
       "21  customer_and_employee  100000000      PHI  750000  88000000  18000000   \n",
       "22  customer_and_employee  100000000      PCI  750000  88000000  13000000   \n",
       "23  customer_and_employee  100000000  PHI-PCI  750000  88000000  18000000   \n",
       "\n",
       "         crem    crim      for       not       pcif       reg       total  \\\n",
       "0          10   30000    60000      2800          0    280000      399110   \n",
       "1          10   40000    60000      2800          0    530000      659110   \n",
       "2          10   20000   120000      2800      75000    280000      524110   \n",
       "3          10   40000   120000      2800      75000    530000      794110   \n",
       "4       74000   53000    60000     15000          0    280000     1188100   \n",
       "5       89000   70000    60000     15000          0    530000     1700100   \n",
       "6       59000   35000   120000     15000     380000    280000     1595100   \n",
       "7       89000   70000   120000     15000     380000    530000     2140100   \n",
       "8   490000000  300000   750000  56000000          0  20000000   673800000   \n",
       "9   490000000  400000   750000  56000000          0  41000000   694900000   \n",
       "10  490000000  200000  1500000  56000000  400000000  20000000  1069450000   \n",
       "11  490000000  400000  1500000  56000000  400000000  41000000  1095650000   \n",
       "12          0   30000    60000      2800          0    280000      399100   \n",
       "13          0   40000    60000      2800          0    530000      659100   \n",
       "14          0   20000   120000      2800      75000    280000      524100   \n",
       "15          0   40000   120000      2800      75000    530000      794100   \n",
       "16       8200   53000    60000     15000          0    280000     1122300   \n",
       "17      11000   70000    60000     15000          0    530000     1622100   \n",
       "18       5200   35000   120000     15000     380000    280000     1541300   \n",
       "19      11000   70000   120000     15000     380000    530000     2062100   \n",
       "20   98000000  300000   750000  56000000          0  20000000   281800000   \n",
       "21   98000000  400000   750000  56000000          0  41000000   302900000   \n",
       "22   98000000  200000  1500000  56000000  400000000  20000000   677450000   \n",
       "23   98000000  400000  1500000  56000000  400000000  41000000   703650000   \n",
       "\n",
       "            cpr  \n",
       "0   399110.0000  \n",
       "1   659110.0000  \n",
       "2   524110.0000  \n",
       "3   794110.0000  \n",
       "4      118.8100  \n",
       "5      170.0100  \n",
       "6      159.5100  \n",
       "7      214.0100  \n",
       "8        6.7380  \n",
       "9        6.9490  \n",
       "10      10.6945  \n",
       "11      10.9565  \n",
       "12  399100.0000  \n",
       "13  659100.0000  \n",
       "14  524100.0000  \n",
       "15  794100.0000  \n",
       "16     112.2300  \n",
       "17     162.2100  \n",
       "18     154.1300  \n",
       "19     206.2100  \n",
       "20       2.8180  \n",
       "21       3.0290  \n",
       "22       6.7745  \n",
       "23       7.0365  "
      ]
     },
     "execution_count": 159,
     "metadata": {},
     "output_type": "execute_result"
    }
   ],
   "source": [
    "df"
   ]
  },
  {
   "cell_type": "code",
   "execution_count": 160,
   "metadata": {},
   "outputs": [],
   "source": [
    "import numpy as np \n",
    "def get_arrays_by_owner_type_column(df, roval, rtval, column_name):\n",
    "    sub_df = df.loc[(df[\"ro\"] == roval) & (df[\"rt\"] == rtval)]\n",
    "    keys = sub_df['nr'].values\n",
    "    values = sub_df[column_name].values\n",
    "    results = np.vstack([keys,values]).transpose()\n",
    "    return results"
   ]
  },
  {
   "cell_type": "code",
   "execution_count": 161,
   "metadata": {},
   "outputs": [
    {
     "data": {
      "text/plain": [
       "array([[        1,      2800],\n",
       "       [    10000,     15000],\n",
       "       [100000000,  56000000]])"
      ]
     },
     "execution_count": 161,
     "metadata": {},
     "output_type": "execute_result"
    }
   ],
   "source": [
    "get_arrays_by_owner_type_column(df, 'employee_only', 'PII', 'not')"
   ]
  },
  {
   "cell_type": "markdown",
   "metadata": {},
   "source": [
    "`plot_by_column_name` will take `dataframe, recordowner, recordtype, and columnname` and return 8 plots. The top row of plots `axs[0,*]` are `employee_only`, the bottom row are `customer_and_employee`, and the columns are PII, PCI, PHI, PHI-PCI in that order. Different colors on the chart correspond to different variables, which are identified in the legend"
   ]
  },
  {
   "cell_type": "code",
   "execution_count": 162,
   "metadata": {},
   "outputs": [
    {
     "data": {
      "text/plain": [
       "Index(['ro', 'nr', 'rt', 'bc', 'cc', 'cafd', 'crem', 'crim', 'for', 'not',\n",
       "       'pcif', 'reg', 'total', 'cpr'],\n",
       "      dtype='object')"
      ]
     },
     "execution_count": 162,
     "metadata": {},
     "output_type": "execute_result"
    }
   ],
   "source": [
    "df.columns"
   ]
  },
  {
   "cell_type": "code",
   "execution_count": 180,
   "metadata": {},
   "outputs": [],
   "source": []
  },
  {
   "cell_type": "code",
   "execution_count": 182,
   "metadata": {},
   "outputs": [
    {
     "name": "stderr",
     "output_type": "stream",
     "text": [
      "/anaconda3/lib/python3.6/site-packages/matplotlib/ticker.py:2198: UserWarning: Data has no positive values, and therefore cannot be log-scaled.\n",
      "  \"Data has no positive values, and therefore cannot be \"\n"
     ]
    },
    {
     "data": {
      "image/png": "[encoded data removed]",
      "text/plain": [
       "<Figure size 1080x576 with 8 Axes>"
      ]
     },
     "metadata": {},
     "output_type": "display_data"
    }
   ],
   "source": [
    "import matplotlib.pyplot as plt\n",
    "import matplotlib.patches as mpatches\n",
    "import matplotlib.ticker as ticker\n",
    "\n",
    "dfc = df.columns\n",
    "rodict = {'employee_only': 0, 'customer_and_employee': 1}\n",
    "rtdict = {'PII': 0, 'PCI': 1, 'PHI': 2, 'PHI-PCI': 3}\n",
    "\n",
    "rolabel = {'employee_only': 'Employee', 'customer_and_employee': 'Customer & Employee'}\n",
    "\n",
    "fig, axs = plt.subplots(2,4, figsize=(15, 8), sharey=True)\n",
    "\n",
    "for o in rolist:\n",
    "    for t in rtlist:\n",
    "        ax = axs[rodict[o],rtdict[t]]\n",
    "        ax.set_title(''+rolabel[o]+', '+t+'')\n",
    "        for c in df.columns:\n",
    "            data = get_arrays_by_owner_type_column(df, o, t, c)\n",
    "            dk = data.transpose()[0]\n",
    "            dv = data.transpose()[1]\n",
    "            ax.plot(dk,dv)\n",
    "            ax.set_yscale('log')\n",
    "            # Rewrite the y labels\n",
    "            y_labels = ax.get_yticks()\n",
    "            ax.yaxis.set_major_formatter(ticker.FormatStrFormatter('%0.0e'))\n",
    "            "
   ]
  },
  {
   "cell_type": "code",
   "execution_count": 218,
   "metadata": {},
   "outputs": [],
   "source": [
    "import altair as alt\n",
    "\n",
    "for c in df.columns:\n",
    "    owner_type_column_array = get_arrays_by_owner_type_column(df, 'customer_and_employee', 'PCI', c)\n",
    "    altdf = pd.DataFrame(data = owner_type_column_array)\n",
    "    altdf.columns = ['nr', 'val']\n",
    "    alt.Chart(altdf).mark_line().encode(\n",
    "        x = 'nr',\n",
    "        y = 'val'\n",
    "    )"
   ]
  },
  {
   "cell_type": "code",
   "execution_count": 222,
   "metadata": {},
   "outputs": [],
   "source": [
    "def get_\n",
    "owner_type_column_array = get_arrays_by_owner_type_column(df, 'customer_and_employee', 'PCI', c)\n",
    "altdf = pd.DataFrame(data = owner_type_column_array)\n"
   ]
  },
  {
   "cell_type": "code",
   "execution_count": 224,
   "metadata": {},
   "outputs": [
    {
     "data": {
      "text/html": [
       "<div>\n",
       "<style scoped>\n",
       "    .dataframe tbody tr th:only-of-type {\n",
       "        vertical-align: middle;\n",
       "    }\n",
       "\n",
       "    .dataframe tbody tr th {\n",
       "        vertical-align: top;\n",
       "    }\n",
       "\n",
       "    .dataframe thead th {\n",
       "        text-align: right;\n",
       "    }\n",
       "</style>\n",
       "<table border=\"1\" class=\"dataframe\">\n",
       "  <thead>\n",
       "    <tr style=\"text-align: right;\">\n",
       "      <th></th>\n",
       "      <th>petalLength</th>\n",
       "      <th>petalWidth</th>\n",
       "      <th>sepalLength</th>\n",
       "      <th>sepalWidth</th>\n",
       "      <th>species</th>\n",
       "    </tr>\n",
       "  </thead>\n",
       "  <tbody>\n",
       "    <tr>\n",
       "      <th>0</th>\n",
       "      <td>1.4</td>\n",
       "      <td>0.2</td>\n",
       "      <td>5.1</td>\n",
       "      <td>3.5</td>\n",
       "      <td>setosa</td>\n",
       "    </tr>\n",
       "    <tr>\n",
       "      <th>1</th>\n",
       "      <td>1.4</td>\n",
       "      <td>0.2</td>\n",
       "      <td>4.9</td>\n",
       "      <td>3.0</td>\n",
       "      <td>setosa</td>\n",
       "    </tr>\n",
       "    <tr>\n",
       "      <th>2</th>\n",
       "      <td>1.3</td>\n",
       "      <td>0.2</td>\n",
       "      <td>4.7</td>\n",
       "      <td>3.2</td>\n",
       "      <td>setosa</td>\n",
       "    </tr>\n",
       "    <tr>\n",
       "      <th>3</th>\n",
       "      <td>1.5</td>\n",
       "      <td>0.2</td>\n",
       "      <td>4.6</td>\n",
       "      <td>3.1</td>\n",
       "      <td>setosa</td>\n",
       "    </tr>\n",
       "    <tr>\n",
       "      <th>4</th>\n",
       "      <td>1.4</td>\n",
       "      <td>0.2</td>\n",
       "      <td>5.0</td>\n",
       "      <td>3.6</td>\n",
       "      <td>setosa</td>\n",
       "    </tr>\n",
       "  </tbody>\n",
       "</table>\n",
       "</div>"
      ],
      "text/plain": [
       "   petalLength  petalWidth  sepalLength  sepalWidth species\n",
       "0          1.4         0.2          5.1         3.5  setosa\n",
       "1          1.4         0.2          4.9         3.0  setosa\n",
       "2          1.3         0.2          4.7         3.2  setosa\n",
       "3          1.5         0.2          4.6         3.1  setosa\n",
       "4          1.4         0.2          5.0         3.6  setosa"
      ]
     },
     "execution_count": 224,
     "metadata": {},
     "output_type": "execute_result"
    }
   ],
   "source": [
    "data.iris().head()"
   ]
  },
  {
   "cell_type": "code",
   "execution_count": 232,
   "metadata": {},
   "outputs": [
    {
     "data": {
      "text/plain": [
       "Index(['ro', 'nr', 'rt', 'bc', 'cc', 'cafd', 'crem', 'crim', 'for', 'not',\n",
       "       'pcif', 'reg', 'total', 'cpr'],\n",
       "      dtype='object')"
      ]
     },
     "execution_count": 232,
     "metadata": {},
     "output_type": "execute_result"
    }
   ],
   "source": [
    "df.columns"
   ]
  },
  {
   "cell_type": "code",
   "execution_count": 259,
   "metadata": {},
   "outputs": [
    {
     "data": {
      "text/html": [
       "<div>\n",
       "<style scoped>\n",
       "    .dataframe tbody tr th:only-of-type {\n",
       "        vertical-align: middle;\n",
       "    }\n",
       "\n",
       "    .dataframe tbody tr th {\n",
       "        vertical-align: top;\n",
       "    }\n",
       "\n",
       "    .dataframe thead th {\n",
       "        text-align: right;\n",
       "    }\n",
       "</style>\n",
       "<table border=\"1\" class=\"dataframe\">\n",
       "  <thead>\n",
       "    <tr style=\"text-align: right;\">\n",
       "      <th></th>\n",
       "      <th>nr</th>\n",
       "      <th>bc</th>\n",
       "      <th>cc</th>\n",
       "      <th>cafd</th>\n",
       "      <th>crem</th>\n",
       "      <th>crim</th>\n",
       "      <th>for</th>\n",
       "      <th>not</th>\n",
       "      <th>pcif</th>\n",
       "      <th>reg</th>\n",
       "      <th>total</th>\n",
       "      <th>cpr</th>\n",
       "    </tr>\n",
       "  </thead>\n",
       "  <tbody>\n",
       "    <tr>\n",
       "      <th>14</th>\n",
       "      <td>1</td>\n",
       "      <td>25000</td>\n",
       "      <td>1300</td>\n",
       "      <td>0</td>\n",
       "      <td>0</td>\n",
       "      <td>20000</td>\n",
       "      <td>120000</td>\n",
       "      <td>2800</td>\n",
       "      <td>75000</td>\n",
       "      <td>280000</td>\n",
       "      <td>524100</td>\n",
       "      <td>524100.0000</td>\n",
       "    </tr>\n",
       "    <tr>\n",
       "      <th>18</th>\n",
       "      <td>10000</td>\n",
       "      <td>50000</td>\n",
       "      <td>6100</td>\n",
       "      <td>650000</td>\n",
       "      <td>5200</td>\n",
       "      <td>35000</td>\n",
       "      <td>120000</td>\n",
       "      <td>15000</td>\n",
       "      <td>380000</td>\n",
       "      <td>280000</td>\n",
       "      <td>1541300</td>\n",
       "      <td>154.1300</td>\n",
       "    </tr>\n",
       "    <tr>\n",
       "      <th>22</th>\n",
       "      <td>100000000</td>\n",
       "      <td>750000</td>\n",
       "      <td>88000000</td>\n",
       "      <td>13000000</td>\n",
       "      <td>98000000</td>\n",
       "      <td>200000</td>\n",
       "      <td>1500000</td>\n",
       "      <td>56000000</td>\n",
       "      <td>400000000</td>\n",
       "      <td>20000000</td>\n",
       "      <td>677450000</td>\n",
       "      <td>6.7745</td>\n",
       "    </tr>\n",
       "  </tbody>\n",
       "</table>\n",
       "</div>"
      ],
      "text/plain": [
       "           nr      bc        cc      cafd      crem    crim      for  \\\n",
       "14          1   25000      1300         0         0   20000   120000   \n",
       "18      10000   50000      6100    650000      5200   35000   120000   \n",
       "22  100000000  750000  88000000  13000000  98000000  200000  1500000   \n",
       "\n",
       "         not       pcif       reg      total          cpr  \n",
       "14      2800      75000    280000     524100  524100.0000  \n",
       "18     15000     380000    280000    1541300     154.1300  \n",
       "22  56000000  400000000  20000000  677450000       6.7745  "
      ]
     },
     "execution_count": 259,
     "metadata": {},
     "output_type": "execute_result"
    }
   ],
   "source": [
    "ce_pci_df"
   ]
  },
  {
   "cell_type": "code",
   "execution_count": null,
   "metadata": {},
   "outputs": [],
   "source": [
    "\n",
    "def split_and_reshape(df, roval, rtval):\n",
    "    ro_rt_df = df[(df['ro'] == 'customer_and_employee') & (df['rt'] == 'PCI')].drop(columns=['rt','ro'])\n",
    "    roval+rtval_reshaped_df = pd.melt(ro_rt_df, id_vars=['nr'], var_name='val')"
   ]
  },
  {
   "cell_type": "code",
   "execution_count": 269,
   "metadata": {},
   "outputs": [],
   "source": [
    "reshaped_df = pd.melt(df, id_vars=['nr','ro','rt'], var_name='column_name')"
   ]
  },
  {
   "cell_type": "code",
   "execution_count": 271,
   "metadata": {},
   "outputs": [
    {
     "data": {
      "text/html": [
       "<div>\n",
       "<style scoped>\n",
       "    .dataframe tbody tr th:only-of-type {\n",
       "        vertical-align: middle;\n",
       "    }\n",
       "\n",
       "    .dataframe tbody tr th {\n",
       "        vertical-align: top;\n",
       "    }\n",
       "\n",
       "    .dataframe thead th {\n",
       "        text-align: right;\n",
       "    }\n",
       "</style>\n",
       "<table border=\"1\" class=\"dataframe\">\n",
       "  <thead>\n",
       "    <tr style=\"text-align: right;\">\n",
       "      <th></th>\n",
       "      <th>nr</th>\n",
       "      <th>ro</th>\n",
       "      <th>rt</th>\n",
       "      <th>column_name</th>\n",
       "      <th>value</th>\n",
       "    </tr>\n",
       "  </thead>\n",
       "  <tbody>\n",
       "    <tr>\n",
       "      <th>0</th>\n",
       "      <td>1</td>\n",
       "      <td>employee_only</td>\n",
       "      <td>PII</td>\n",
       "      <td>bc</td>\n",
       "      <td>25000.0</td>\n",
       "    </tr>\n",
       "    <tr>\n",
       "      <th>1</th>\n",
       "      <td>1</td>\n",
       "      <td>employee_only</td>\n",
       "      <td>PHI</td>\n",
       "      <td>bc</td>\n",
       "      <td>25000.0</td>\n",
       "    </tr>\n",
       "    <tr>\n",
       "      <th>2</th>\n",
       "      <td>1</td>\n",
       "      <td>employee_only</td>\n",
       "      <td>PCI</td>\n",
       "      <td>bc</td>\n",
       "      <td>25000.0</td>\n",
       "    </tr>\n",
       "    <tr>\n",
       "      <th>3</th>\n",
       "      <td>1</td>\n",
       "      <td>employee_only</td>\n",
       "      <td>PHI-PCI</td>\n",
       "      <td>bc</td>\n",
       "      <td>25000.0</td>\n",
       "    </tr>\n",
       "    <tr>\n",
       "      <th>4</th>\n",
       "      <td>10000</td>\n",
       "      <td>employee_only</td>\n",
       "      <td>PII</td>\n",
       "      <td>bc</td>\n",
       "      <td>50000.0</td>\n",
       "    </tr>\n",
       "  </tbody>\n",
       "</table>\n",
       "</div>"
      ],
      "text/plain": [
       "      nr             ro       rt column_name    value\n",
       "0      1  employee_only      PII          bc  25000.0\n",
       "1      1  employee_only      PHI          bc  25000.0\n",
       "2      1  employee_only      PCI          bc  25000.0\n",
       "3      1  employee_only  PHI-PCI          bc  25000.0\n",
       "4  10000  employee_only      PII          bc  50000.0"
      ]
     },
     "execution_count": 271,
     "metadata": {},
     "output_type": "execute_result"
    }
   ],
   "source": [
    "reshaped_df.head()"
   ]
  },
  {
   "cell_type": "code",
   "execution_count": 267,
   "metadata": {},
   "outputs": [],
   "source": [
    "ce_pci_df = df[(df['ro'] == 'customer_and_employee') & (df['rt'] == 'PCI')].drop(columns=['rt','ro'])\n",
    "ce_pci_reshaped_df = pd.melt(ce_pci_df, id_vars=['nr'], var_name='column_name')"
   ]
  },
  {
   "cell_type": "code",
   "execution_count": 261,
   "metadata": {},
   "outputs": [
    {
     "data": {
      "text/html": [
       "<div>\n",
       "<style scoped>\n",
       "    .dataframe tbody tr th:only-of-type {\n",
       "        vertical-align: middle;\n",
       "    }\n",
       "\n",
       "    .dataframe tbody tr th {\n",
       "        vertical-align: top;\n",
       "    }\n",
       "\n",
       "    .dataframe thead th {\n",
       "        text-align: right;\n",
       "    }\n",
       "</style>\n",
       "<table border=\"1\" class=\"dataframe\">\n",
       "  <thead>\n",
       "    <tr style=\"text-align: right;\">\n",
       "      <th></th>\n",
       "      <th>nr</th>\n",
       "      <th>val</th>\n",
       "      <th>value</th>\n",
       "    </tr>\n",
       "  </thead>\n",
       "  <tbody>\n",
       "    <tr>\n",
       "      <th>0</th>\n",
       "      <td>1</td>\n",
       "      <td>bc</td>\n",
       "      <td>2.500000e+04</td>\n",
       "    </tr>\n",
       "    <tr>\n",
       "      <th>1</th>\n",
       "      <td>10000</td>\n",
       "      <td>bc</td>\n",
       "      <td>5.000000e+04</td>\n",
       "    </tr>\n",
       "    <tr>\n",
       "      <th>2</th>\n",
       "      <td>100000000</td>\n",
       "      <td>bc</td>\n",
       "      <td>7.500000e+05</td>\n",
       "    </tr>\n",
       "    <tr>\n",
       "      <th>3</th>\n",
       "      <td>1</td>\n",
       "      <td>cc</td>\n",
       "      <td>1.300000e+03</td>\n",
       "    </tr>\n",
       "    <tr>\n",
       "      <th>4</th>\n",
       "      <td>10000</td>\n",
       "      <td>cc</td>\n",
       "      <td>6.100000e+03</td>\n",
       "    </tr>\n",
       "    <tr>\n",
       "      <th>5</th>\n",
       "      <td>100000000</td>\n",
       "      <td>cc</td>\n",
       "      <td>8.800000e+07</td>\n",
       "    </tr>\n",
       "    <tr>\n",
       "      <th>6</th>\n",
       "      <td>1</td>\n",
       "      <td>cafd</td>\n",
       "      <td>0.000000e+00</td>\n",
       "    </tr>\n",
       "    <tr>\n",
       "      <th>7</th>\n",
       "      <td>10000</td>\n",
       "      <td>cafd</td>\n",
       "      <td>6.500000e+05</td>\n",
       "    </tr>\n",
       "    <tr>\n",
       "      <th>8</th>\n",
       "      <td>100000000</td>\n",
       "      <td>cafd</td>\n",
       "      <td>1.300000e+07</td>\n",
       "    </tr>\n",
       "    <tr>\n",
       "      <th>9</th>\n",
       "      <td>1</td>\n",
       "      <td>crem</td>\n",
       "      <td>0.000000e+00</td>\n",
       "    </tr>\n",
       "    <tr>\n",
       "      <th>10</th>\n",
       "      <td>10000</td>\n",
       "      <td>crem</td>\n",
       "      <td>5.200000e+03</td>\n",
       "    </tr>\n",
       "    <tr>\n",
       "      <th>11</th>\n",
       "      <td>100000000</td>\n",
       "      <td>crem</td>\n",
       "      <td>9.800000e+07</td>\n",
       "    </tr>\n",
       "    <tr>\n",
       "      <th>12</th>\n",
       "      <td>1</td>\n",
       "      <td>crim</td>\n",
       "      <td>2.000000e+04</td>\n",
       "    </tr>\n",
       "    <tr>\n",
       "      <th>13</th>\n",
       "      <td>10000</td>\n",
       "      <td>crim</td>\n",
       "      <td>3.500000e+04</td>\n",
       "    </tr>\n",
       "    <tr>\n",
       "      <th>14</th>\n",
       "      <td>100000000</td>\n",
       "      <td>crim</td>\n",
       "      <td>2.000000e+05</td>\n",
       "    </tr>\n",
       "    <tr>\n",
       "      <th>15</th>\n",
       "      <td>1</td>\n",
       "      <td>for</td>\n",
       "      <td>1.200000e+05</td>\n",
       "    </tr>\n",
       "    <tr>\n",
       "      <th>16</th>\n",
       "      <td>10000</td>\n",
       "      <td>for</td>\n",
       "      <td>1.200000e+05</td>\n",
       "    </tr>\n",
       "    <tr>\n",
       "      <th>17</th>\n",
       "      <td>100000000</td>\n",
       "      <td>for</td>\n",
       "      <td>1.500000e+06</td>\n",
       "    </tr>\n",
       "    <tr>\n",
       "      <th>18</th>\n",
       "      <td>1</td>\n",
       "      <td>not</td>\n",
       "      <td>2.800000e+03</td>\n",
       "    </tr>\n",
       "    <tr>\n",
       "      <th>19</th>\n",
       "      <td>10000</td>\n",
       "      <td>not</td>\n",
       "      <td>1.500000e+04</td>\n",
       "    </tr>\n",
       "    <tr>\n",
       "      <th>20</th>\n",
       "      <td>100000000</td>\n",
       "      <td>not</td>\n",
       "      <td>5.600000e+07</td>\n",
       "    </tr>\n",
       "    <tr>\n",
       "      <th>21</th>\n",
       "      <td>1</td>\n",
       "      <td>pcif</td>\n",
       "      <td>7.500000e+04</td>\n",
       "    </tr>\n",
       "    <tr>\n",
       "      <th>22</th>\n",
       "      <td>10000</td>\n",
       "      <td>pcif</td>\n",
       "      <td>3.800000e+05</td>\n",
       "    </tr>\n",
       "    <tr>\n",
       "      <th>23</th>\n",
       "      <td>100000000</td>\n",
       "      <td>pcif</td>\n",
       "      <td>4.000000e+08</td>\n",
       "    </tr>\n",
       "    <tr>\n",
       "      <th>24</th>\n",
       "      <td>1</td>\n",
       "      <td>reg</td>\n",
       "      <td>2.800000e+05</td>\n",
       "    </tr>\n",
       "    <tr>\n",
       "      <th>25</th>\n",
       "      <td>10000</td>\n",
       "      <td>reg</td>\n",
       "      <td>2.800000e+05</td>\n",
       "    </tr>\n",
       "    <tr>\n",
       "      <th>26</th>\n",
       "      <td>100000000</td>\n",
       "      <td>reg</td>\n",
       "      <td>2.000000e+07</td>\n",
       "    </tr>\n",
       "    <tr>\n",
       "      <th>27</th>\n",
       "      <td>1</td>\n",
       "      <td>total</td>\n",
       "      <td>5.241000e+05</td>\n",
       "    </tr>\n",
       "    <tr>\n",
       "      <th>28</th>\n",
       "      <td>10000</td>\n",
       "      <td>total</td>\n",
       "      <td>1.541300e+06</td>\n",
       "    </tr>\n",
       "    <tr>\n",
       "      <th>29</th>\n",
       "      <td>100000000</td>\n",
       "      <td>total</td>\n",
       "      <td>6.774500e+08</td>\n",
       "    </tr>\n",
       "    <tr>\n",
       "      <th>30</th>\n",
       "      <td>1</td>\n",
       "      <td>cpr</td>\n",
       "      <td>5.241000e+05</td>\n",
       "    </tr>\n",
       "    <tr>\n",
       "      <th>31</th>\n",
       "      <td>10000</td>\n",
       "      <td>cpr</td>\n",
       "      <td>1.541300e+02</td>\n",
       "    </tr>\n",
       "    <tr>\n",
       "      <th>32</th>\n",
       "      <td>100000000</td>\n",
       "      <td>cpr</td>\n",
       "      <td>6.774500e+00</td>\n",
       "    </tr>\n",
       "  </tbody>\n",
       "</table>\n",
       "</div>"
      ],
      "text/plain": [
       "           nr    val         value\n",
       "0           1     bc  2.500000e+04\n",
       "1       10000     bc  5.000000e+04\n",
       "2   100000000     bc  7.500000e+05\n",
       "3           1     cc  1.300000e+03\n",
       "4       10000     cc  6.100000e+03\n",
       "5   100000000     cc  8.800000e+07\n",
       "6           1   cafd  0.000000e+00\n",
       "7       10000   cafd  6.500000e+05\n",
       "8   100000000   cafd  1.300000e+07\n",
       "9           1   crem  0.000000e+00\n",
       "10      10000   crem  5.200000e+03\n",
       "11  100000000   crem  9.800000e+07\n",
       "12          1   crim  2.000000e+04\n",
       "13      10000   crim  3.500000e+04\n",
       "14  100000000   crim  2.000000e+05\n",
       "15          1    for  1.200000e+05\n",
       "16      10000    for  1.200000e+05\n",
       "17  100000000    for  1.500000e+06\n",
       "18          1    not  2.800000e+03\n",
       "19      10000    not  1.500000e+04\n",
       "20  100000000    not  5.600000e+07\n",
       "21          1   pcif  7.500000e+04\n",
       "22      10000   pcif  3.800000e+05\n",
       "23  100000000   pcif  4.000000e+08\n",
       "24          1    reg  2.800000e+05\n",
       "25      10000    reg  2.800000e+05\n",
       "26  100000000    reg  2.000000e+07\n",
       "27          1  total  5.241000e+05\n",
       "28      10000  total  1.541300e+06\n",
       "29  100000000  total  6.774500e+08\n",
       "30          1    cpr  5.241000e+05\n",
       "31      10000    cpr  1.541300e+02\n",
       "32  100000000    cpr  6.774500e+00"
      ]
     },
     "execution_count": 261,
     "metadata": {},
     "output_type": "execute_result"
    }
   ],
   "source": [
    "ce_pci_reshaped_df"
   ]
  },
  {
   "cell_type": "code",
   "execution_count": 272,
   "metadata": {},
   "outputs": [
    {
     "data": {
      "application/vnd.vegalite.v2+json": {
       "$schema": "https://vega.github.io/schema/vega-lite/v2.6.0.json",
       "config": {
        "view": {
         "height": 300,
         "width": 400
        }
       },
       "data": {
        "name": "data-eb088b3181a05ce45354219a6146bc1a"
       },
       "datasets": {
        "data-eb088b3181a05ce45354219a6146bc1a": [
         {
          "column_name": "bc",
          "nr": 1,
          "ro": "employee_only",
          "rt": "PII",
          "value": 25000
         },
         {
          "column_name": "bc",
          "nr": 1,
          "ro": "employee_only",
          "rt": "PHI",
          "value": 25000
         },
         {
          "column_name": "bc",
          "nr": 1,
          "ro": "employee_only",
          "rt": "PCI",
          "value": 25000
         },
         {
          "column_name": "bc",
          "nr": 1,
          "ro": "employee_only",
          "rt": "PHI-PCI",
          "value": 25000
         },
         {
          "column_name": "bc",
          "nr": 10000,
          "ro": "employee_only",
          "rt": "PII",
          "value": 50000
         },
         {
          "column_name": "bc",
          "nr": 10000,
          "ro": "employee_only",
          "rt": "PHI",
          "value": 50000
         },
         {
          "column_name": "bc",
          "nr": 10000,
          "ro": "employee_only",
          "rt": "PCI",
          "value": 50000
         },
         {
          "column_name": "bc",
          "nr": 10000,
          "ro": "employee_only",
          "rt": "PHI-PCI",
          "value": 50000
         },
         {
          "column_name": "bc",
          "nr": 100000000,
          "ro": "employee_only",
          "rt": "PII",
          "value": 750000
         },
         {
          "column_name": "bc",
          "nr": 100000000,
          "ro": "employee_only",
          "rt": "PHI",
          "value": 750000
         },
         {
          "column_name": "bc",
          "nr": 100000000,
          "ro": "employee_only",
          "rt": "PCI",
          "value": 750000
         },
         {
          "column_name": "bc",
          "nr": 100000000,
          "ro": "employee_only",
          "rt": "PHI-PCI",
          "value": 750000
         },
         {
          "column_name": "bc",
          "nr": 1,
          "ro": "customer_and_employee",
          "rt": "PII",
          "value": 25000
         },
         {
          "column_name": "bc",
          "nr": 1,
          "ro": "customer_and_employee",
          "rt": "PHI",
          "value": 25000
         },
         {
          "column_name": "bc",
          "nr": 1,
          "ro": "customer_and_employee",
          "rt": "PCI",
          "value": 25000
         },
         {
          "column_name": "bc",
          "nr": 1,
          "ro": "customer_and_employee",
          "rt": "PHI-PCI",
          "value": 25000
         },
         {
          "column_name": "bc",
          "nr": 10000,
          "ro": "customer_and_employee",
          "rt": "PII",
          "value": 50000
         },
         {
          "column_name": "bc",
          "nr": 10000,
          "ro": "customer_and_employee",
          "rt": "PHI",
          "value": 50000
         },
         {
          "column_name": "bc",
          "nr": 10000,
          "ro": "customer_and_employee",
          "rt": "PCI",
          "value": 50000
         },
         {
          "column_name": "bc",
          "nr": 10000,
          "ro": "customer_and_employee",
          "rt": "PHI-PCI",
          "value": 50000
         },
         {
          "column_name": "bc",
          "nr": 100000000,
          "ro": "customer_and_employee",
          "rt": "PII",
          "value": 750000
         },
         {
          "column_name": "bc",
          "nr": 100000000,
          "ro": "customer_and_employee",
          "rt": "PHI",
          "value": 750000
         },
         {
          "column_name": "bc",
          "nr": 100000000,
          "ro": "customer_and_employee",
          "rt": "PCI",
          "value": 750000
         },
         {
          "column_name": "bc",
          "nr": 100000000,
          "ro": "customer_and_employee",
          "rt": "PHI-PCI",
          "value": 750000
         },
         {
          "column_name": "cc",
          "nr": 1,
          "ro": "employee_only",
          "rt": "PII",
          "value": 1300
         },
         {
          "column_name": "cc",
          "nr": 1,
          "ro": "employee_only",
          "rt": "PHI",
          "value": 1300
         },
         {
          "column_name": "cc",
          "nr": 1,
          "ro": "employee_only",
          "rt": "PCI",
          "value": 1300
         },
         {
          "column_name": "cc",
          "nr": 1,
          "ro": "employee_only",
          "rt": "PHI-PCI",
          "value": 1300
         },
         {
          "column_name": "cc",
          "nr": 10000,
          "ro": "employee_only",
          "rt": "PII",
          "value": 6100
         },
         {
          "column_name": "cc",
          "nr": 10000,
          "ro": "employee_only",
          "rt": "PHI",
          "value": 6100
         },
         {
          "column_name": "cc",
          "nr": 10000,
          "ro": "employee_only",
          "rt": "PCI",
          "value": 6100
         },
         {
          "column_name": "cc",
          "nr": 10000,
          "ro": "employee_only",
          "rt": "PHI-PCI",
          "value": 6100
         },
         {
          "column_name": "cc",
          "nr": 100000000,
          "ro": "employee_only",
          "rt": "PII",
          "value": 88000000
         },
         {
          "column_name": "cc",
          "nr": 100000000,
          "ro": "employee_only",
          "rt": "PHI",
          "value": 88000000
         },
         {
          "column_name": "cc",
          "nr": 100000000,
          "ro": "employee_only",
          "rt": "PCI",
          "value": 88000000
         },
         {
          "column_name": "cc",
          "nr": 100000000,
          "ro": "employee_only",
          "rt": "PHI-PCI",
          "value": 88000000
         },
         {
          "column_name": "cc",
          "nr": 1,
          "ro": "customer_and_employee",
          "rt": "PII",
          "value": 1300
         },
         {
          "column_name": "cc",
          "nr": 1,
          "ro": "customer_and_employee",
          "rt": "PHI",
          "value": 1300
         },
         {
          "column_name": "cc",
          "nr": 1,
          "ro": "customer_and_employee",
          "rt": "PCI",
          "value": 1300
         },
         {
          "column_name": "cc",
          "nr": 1,
          "ro": "customer_and_employee",
          "rt": "PHI-PCI",
          "value": 1300
         },
         {
          "column_name": "cc",
          "nr": 10000,
          "ro": "customer_and_employee",
          "rt": "PII",
          "value": 6100
         },
         {
          "column_name": "cc",
          "nr": 10000,
          "ro": "customer_and_employee",
          "rt": "PHI",
          "value": 6100
         },
         {
          "column_name": "cc",
          "nr": 10000,
          "ro": "customer_and_employee",
          "rt": "PCI",
          "value": 6100
         },
         {
          "column_name": "cc",
          "nr": 10000,
          "ro": "customer_and_employee",
          "rt": "PHI-PCI",
          "value": 6100
         },
         {
          "column_name": "cc",
          "nr": 100000000,
          "ro": "customer_and_employee",
          "rt": "PII",
          "value": 88000000
         },
         {
          "column_name": "cc",
          "nr": 100000000,
          "ro": "customer_and_employee",
          "rt": "PHI",
          "value": 88000000
         },
         {
          "column_name": "cc",
          "nr": 100000000,
          "ro": "customer_and_employee",
          "rt": "PCI",
          "value": 88000000
         },
         {
          "column_name": "cc",
          "nr": 100000000,
          "ro": "customer_and_employee",
          "rt": "PHI-PCI",
          "value": 88000000
         },
         {
          "column_name": "cafd",
          "nr": 1,
          "ro": "employee_only",
          "rt": "PII",
          "value": 0
         },
         {
          "column_name": "cafd",
          "nr": 1,
          "ro": "employee_only",
          "rt": "PHI",
          "value": 0
         },
         {
          "column_name": "cafd",
          "nr": 1,
          "ro": "employee_only",
          "rt": "PCI",
          "value": 0
         },
         {
          "column_name": "cafd",
          "nr": 1,
          "ro": "employee_only",
          "rt": "PHI-PCI",
          "value": 0
         },
         {
          "column_name": "cafd",
          "nr": 10000,
          "ro": "employee_only",
          "rt": "PII",
          "value": 650000
         },
         {
          "column_name": "cafd",
          "nr": 10000,
          "ro": "employee_only",
          "rt": "PHI",
          "value": 880000
         },
         {
          "column_name": "cafd",
          "nr": 10000,
          "ro": "employee_only",
          "rt": "PCI",
          "value": 650000
         },
         {
          "column_name": "cafd",
          "nr": 10000,
          "ro": "employee_only",
          "rt": "PHI-PCI",
          "value": 880000
         },
         {
          "column_name": "cafd",
          "nr": 100000000,
          "ro": "employee_only",
          "rt": "PII",
          "value": 18000000
         },
         {
          "column_name": "cafd",
          "nr": 100000000,
          "ro": "employee_only",
          "rt": "PHI",
          "value": 18000000
         },
         {
          "column_name": "cafd",
          "nr": 100000000,
          "ro": "employee_only",
          "rt": "PCI",
          "value": 13000000
         },
         {
          "column_name": "cafd",
          "nr": 100000000,
          "ro": "employee_only",
          "rt": "PHI-PCI",
          "value": 18000000
         },
         {
          "column_name": "cafd",
          "nr": 1,
          "ro": "customer_and_employee",
          "rt": "PII",
          "value": 0
         },
         {
          "column_name": "cafd",
          "nr": 1,
          "ro": "customer_and_employee",
          "rt": "PHI",
          "value": 0
         },
         {
          "column_name": "cafd",
          "nr": 1,
          "ro": "customer_and_employee",
          "rt": "PCI",
          "value": 0
         },
         {
          "column_name": "cafd",
          "nr": 1,
          "ro": "customer_and_employee",
          "rt": "PHI-PCI",
          "value": 0
         },
         {
          "column_name": "cafd",
          "nr": 10000,
          "ro": "customer_and_employee",
          "rt": "PII",
          "value": 650000
         },
         {
          "column_name": "cafd",
          "nr": 10000,
          "ro": "customer_and_employee",
          "rt": "PHI",
          "value": 880000
         },
         {
          "column_name": "cafd",
          "nr": 10000,
          "ro": "customer_and_employee",
          "rt": "PCI",
          "value": 650000
         },
         {
          "column_name": "cafd",
          "nr": 10000,
          "ro": "customer_and_employee",
          "rt": "PHI-PCI",
          "value": 880000
         },
         {
          "column_name": "cafd",
          "nr": 100000000,
          "ro": "customer_and_employee",
          "rt": "PII",
          "value": 18000000
         },
         {
          "column_name": "cafd",
          "nr": 100000000,
          "ro": "customer_and_employee",
          "rt": "PHI",
          "value": 18000000
         },
         {
          "column_name": "cafd",
          "nr": 100000000,
          "ro": "customer_and_employee",
          "rt": "PCI",
          "value": 13000000
         },
         {
          "column_name": "cafd",
          "nr": 100000000,
          "ro": "customer_and_employee",
          "rt": "PHI-PCI",
          "value": 18000000
         },
         {
          "column_name": "crem",
          "nr": 1,
          "ro": "employee_only",
          "rt": "PII",
          "value": 10
         },
         {
          "column_name": "crem",
          "nr": 1,
          "ro": "employee_only",
          "rt": "PHI",
          "value": 10
         },
         {
          "column_name": "crem",
          "nr": 1,
          "ro": "employee_only",
          "rt": "PCI",
          "value": 10
         },
         {
          "column_name": "crem",
          "nr": 1,
          "ro": "employee_only",
          "rt": "PHI-PCI",
          "value": 10
         },
         {
          "column_name": "crem",
          "nr": 10000,
          "ro": "employee_only",
          "rt": "PII",
          "value": 74000
         },
         {
          "column_name": "crem",
          "nr": 10000,
          "ro": "employee_only",
          "rt": "PHI",
          "value": 89000
         },
         {
          "column_name": "crem",
          "nr": 10000,
          "ro": "employee_only",
          "rt": "PCI",
          "value": 59000
         },
         {
          "column_name": "crem",
          "nr": 10000,
          "ro": "employee_only",
          "rt": "PHI-PCI",
          "value": 89000
         },
         {
          "column_name": "crem",
          "nr": 100000000,
          "ro": "employee_only",
          "rt": "PII",
          "value": 490000000
         },
         {
          "column_name": "crem",
          "nr": 100000000,
          "ro": "employee_only",
          "rt": "PHI",
          "value": 490000000
         },
         {
          "column_name": "crem",
          "nr": 100000000,
          "ro": "employee_only",
          "rt": "PCI",
          "value": 490000000
         },
         {
          "column_name": "crem",
          "nr": 100000000,
          "ro": "employee_only",
          "rt": "PHI-PCI",
          "value": 490000000
         },
         {
          "column_name": "crem",
          "nr": 1,
          "ro": "customer_and_employee",
          "rt": "PII",
          "value": 0
         },
         {
          "column_name": "crem",
          "nr": 1,
          "ro": "customer_and_employee",
          "rt": "PHI",
          "value": 0
         },
         {
          "column_name": "crem",
          "nr": 1,
          "ro": "customer_and_employee",
          "rt": "PCI",
          "value": 0
         },
         {
          "column_name": "crem",
          "nr": 1,
          "ro": "customer_and_employee",
          "rt": "PHI-PCI",
          "value": 0
         },
         {
          "column_name": "crem",
          "nr": 10000,
          "ro": "customer_and_employee",
          "rt": "PII",
          "value": 8200
         },
         {
          "column_name": "crem",
          "nr": 10000,
          "ro": "customer_and_employee",
          "rt": "PHI",
          "value": 11000
         },
         {
          "column_name": "crem",
          "nr": 10000,
          "ro": "customer_and_employee",
          "rt": "PCI",
          "value": 5200
         },
         {
          "column_name": "crem",
          "nr": 10000,
          "ro": "customer_and_employee",
          "rt": "PHI-PCI",
          "value": 11000
         },
         {
          "column_name": "crem",
          "nr": 100000000,
          "ro": "customer_and_employee",
          "rt": "PII",
          "value": 98000000
         },
         {
          "column_name": "crem",
          "nr": 100000000,
          "ro": "customer_and_employee",
          "rt": "PHI",
          "value": 98000000
         },
         {
          "column_name": "crem",
          "nr": 100000000,
          "ro": "customer_and_employee",
          "rt": "PCI",
          "value": 98000000
         },
         {
          "column_name": "crem",
          "nr": 100000000,
          "ro": "customer_and_employee",
          "rt": "PHI-PCI",
          "value": 98000000
         },
         {
          "column_name": "crim",
          "nr": 1,
          "ro": "employee_only",
          "rt": "PII",
          "value": 30000
         },
         {
          "column_name": "crim",
          "nr": 1,
          "ro": "employee_only",
          "rt": "PHI",
          "value": 40000
         },
         {
          "column_name": "crim",
          "nr": 1,
          "ro": "employee_only",
          "rt": "PCI",
          "value": 20000
         },
         {
          "column_name": "crim",
          "nr": 1,
          "ro": "employee_only",
          "rt": "PHI-PCI",
          "value": 40000
         },
         {
          "column_name": "crim",
          "nr": 10000,
          "ro": "employee_only",
          "rt": "PII",
          "value": 53000
         },
         {
          "column_name": "crim",
          "nr": 10000,
          "ro": "employee_only",
          "rt": "PHI",
          "value": 70000
         },
         {
          "column_name": "crim",
          "nr": 10000,
          "ro": "employee_only",
          "rt": "PCI",
          "value": 35000
         },
         {
          "column_name": "crim",
          "nr": 10000,
          "ro": "employee_only",
          "rt": "PHI-PCI",
          "value": 70000
         },
         {
          "column_name": "crim",
          "nr": 100000000,
          "ro": "employee_only",
          "rt": "PII",
          "value": 300000
         },
         {
          "column_name": "crim",
          "nr": 100000000,
          "ro": "employee_only",
          "rt": "PHI",
          "value": 400000
         },
         {
          "column_name": "crim",
          "nr": 100000000,
          "ro": "employee_only",
          "rt": "PCI",
          "value": 200000
         },
         {
          "column_name": "crim",
          "nr": 100000000,
          "ro": "employee_only",
          "rt": "PHI-PCI",
          "value": 400000
         },
         {
          "column_name": "crim",
          "nr": 1,
          "ro": "customer_and_employee",
          "rt": "PII",
          "value": 30000
         },
         {
          "column_name": "crim",
          "nr": 1,
          "ro": "customer_and_employee",
          "rt": "PHI",
          "value": 40000
         },
         {
          "column_name": "crim",
          "nr": 1,
          "ro": "customer_and_employee",
          "rt": "PCI",
          "value": 20000
         },
         {
          "column_name": "crim",
          "nr": 1,
          "ro": "customer_and_employee",
          "rt": "PHI-PCI",
          "value": 40000
         },
         {
          "column_name": "crim",
          "nr": 10000,
          "ro": "customer_and_employee",
          "rt": "PII",
          "value": 53000
         },
         {
          "column_name": "crim",
          "nr": 10000,
          "ro": "customer_and_employee",
          "rt": "PHI",
          "value": 70000
         },
         {
          "column_name": "crim",
          "nr": 10000,
          "ro": "customer_and_employee",
          "rt": "PCI",
          "value": 35000
         },
         {
          "column_name": "crim",
          "nr": 10000,
          "ro": "customer_and_employee",
          "rt": "PHI-PCI",
          "value": 70000
         },
         {
          "column_name": "crim",
          "nr": 100000000,
          "ro": "customer_and_employee",
          "rt": "PII",
          "value": 300000
         },
         {
          "column_name": "crim",
          "nr": 100000000,
          "ro": "customer_and_employee",
          "rt": "PHI",
          "value": 400000
         },
         {
          "column_name": "crim",
          "nr": 100000000,
          "ro": "customer_and_employee",
          "rt": "PCI",
          "value": 200000
         },
         {
          "column_name": "crim",
          "nr": 100000000,
          "ro": "customer_and_employee",
          "rt": "PHI-PCI",
          "value": 400000
         },
         {
          "column_name": "for",
          "nr": 1,
          "ro": "employee_only",
          "rt": "PII",
          "value": 60000
         },
         {
          "column_name": "for",
          "nr": 1,
          "ro": "employee_only",
          "rt": "PHI",
          "value": 60000
         },
         {
          "column_name": "for",
          "nr": 1,
          "ro": "employee_only",
          "rt": "PCI",
          "value": 120000
         },
         {
          "column_name": "for",
          "nr": 1,
          "ro": "employee_only",
          "rt": "PHI-PCI",
          "value": 120000
         },
         {
          "column_name": "for",
          "nr": 10000,
          "ro": "employee_only",
          "rt": "PII",
          "value": 60000
         },
         {
          "column_name": "for",
          "nr": 10000,
          "ro": "employee_only",
          "rt": "PHI",
          "value": 60000
         },
         {
          "column_name": "for",
          "nr": 10000,
          "ro": "employee_only",
          "rt": "PCI",
          "value": 120000
         },
         {
          "column_name": "for",
          "nr": 10000,
          "ro": "employee_only",
          "rt": "PHI-PCI",
          "value": 120000
         },
         {
          "column_name": "for",
          "nr": 100000000,
          "ro": "employee_only",
          "rt": "PII",
          "value": 750000
         },
         {
          "column_name": "for",
          "nr": 100000000,
          "ro": "employee_only",
          "rt": "PHI",
          "value": 750000
         },
         {
          "column_name": "for",
          "nr": 100000000,
          "ro": "employee_only",
          "rt": "PCI",
          "value": 1500000
         },
         {
          "column_name": "for",
          "nr": 100000000,
          "ro": "employee_only",
          "rt": "PHI-PCI",
          "value": 1500000
         },
         {
          "column_name": "for",
          "nr": 1,
          "ro": "customer_and_employee",
          "rt": "PII",
          "value": 60000
         },
         {
          "column_name": "for",
          "nr": 1,
          "ro": "customer_and_employee",
          "rt": "PHI",
          "value": 60000
         },
         {
          "column_name": "for",
          "nr": 1,
          "ro": "customer_and_employee",
          "rt": "PCI",
          "value": 120000
         },
         {
          "column_name": "for",
          "nr": 1,
          "ro": "customer_and_employee",
          "rt": "PHI-PCI",
          "value": 120000
         },
         {
          "column_name": "for",
          "nr": 10000,
          "ro": "customer_and_employee",
          "rt": "PII",
          "value": 60000
         },
         {
          "column_name": "for",
          "nr": 10000,
          "ro": "customer_and_employee",
          "rt": "PHI",
          "value": 60000
         },
         {
          "column_name": "for",
          "nr": 10000,
          "ro": "customer_and_employee",
          "rt": "PCI",
          "value": 120000
         },
         {
          "column_name": "for",
          "nr": 10000,
          "ro": "customer_and_employee",
          "rt": "PHI-PCI",
          "value": 120000
         },
         {
          "column_name": "for",
          "nr": 100000000,
          "ro": "customer_and_employee",
          "rt": "PII",
          "value": 750000
         },
         {
          "column_name": "for",
          "nr": 100000000,
          "ro": "customer_and_employee",
          "rt": "PHI",
          "value": 750000
         },
         {
          "column_name": "for",
          "nr": 100000000,
          "ro": "customer_and_employee",
          "rt": "PCI",
          "value": 1500000
         },
         {
          "column_name": "for",
          "nr": 100000000,
          "ro": "customer_and_employee",
          "rt": "PHI-PCI",
          "value": 1500000
         },
         {
          "column_name": "not",
          "nr": 1,
          "ro": "employee_only",
          "rt": "PII",
          "value": 2800
         },
         {
          "column_name": "not",
          "nr": 1,
          "ro": "employee_only",
          "rt": "PHI",
          "value": 2800
         },
         {
          "column_name": "not",
          "nr": 1,
          "ro": "employee_only",
          "rt": "PCI",
          "value": 2800
         },
         {
          "column_name": "not",
          "nr": 1,
          "ro": "employee_only",
          "rt": "PHI-PCI",
          "value": 2800
         },
         {
          "column_name": "not",
          "nr": 10000,
          "ro": "employee_only",
          "rt": "PII",
          "value": 15000
         },
         {
          "column_name": "not",
          "nr": 10000,
          "ro": "employee_only",
          "rt": "PHI",
          "value": 15000
         },
         {
          "column_name": "not",
          "nr": 10000,
          "ro": "employee_only",
          "rt": "PCI",
          "value": 15000
         },
         {
          "column_name": "not",
          "nr": 10000,
          "ro": "employee_only",
          "rt": "PHI-PCI",
          "value": 15000
         },
         {
          "column_name": "not",
          "nr": 100000000,
          "ro": "employee_only",
          "rt": "PII",
          "value": 56000000
         },
         {
          "column_name": "not",
          "nr": 100000000,
          "ro": "employee_only",
          "rt": "PHI",
          "value": 56000000
         },
         {
          "column_name": "not",
          "nr": 100000000,
          "ro": "employee_only",
          "rt": "PCI",
          "value": 56000000
         },
         {
          "column_name": "not",
          "nr": 100000000,
          "ro": "employee_only",
          "rt": "PHI-PCI",
          "value": 56000000
         },
         {
          "column_name": "not",
          "nr": 1,
          "ro": "customer_and_employee",
          "rt": "PII",
          "value": 2800
         },
         {
          "column_name": "not",
          "nr": 1,
          "ro": "customer_and_employee",
          "rt": "PHI",
          "value": 2800
         },
         {
          "column_name": "not",
          "nr": 1,
          "ro": "customer_and_employee",
          "rt": "PCI",
          "value": 2800
         },
         {
          "column_name": "not",
          "nr": 1,
          "ro": "customer_and_employee",
          "rt": "PHI-PCI",
          "value": 2800
         },
         {
          "column_name": "not",
          "nr": 10000,
          "ro": "customer_and_employee",
          "rt": "PII",
          "value": 15000
         },
         {
          "column_name": "not",
          "nr": 10000,
          "ro": "customer_and_employee",
          "rt": "PHI",
          "value": 15000
         },
         {
          "column_name": "not",
          "nr": 10000,
          "ro": "customer_and_employee",
          "rt": "PCI",
          "value": 15000
         },
         {
          "column_name": "not",
          "nr": 10000,
          "ro": "customer_and_employee",
          "rt": "PHI-PCI",
          "value": 15000
         },
         {
          "column_name": "not",
          "nr": 100000000,
          "ro": "customer_and_employee",
          "rt": "PII",
          "value": 56000000
         },
         {
          "column_name": "not",
          "nr": 100000000,
          "ro": "customer_and_employee",
          "rt": "PHI",
          "value": 56000000
         },
         {
          "column_name": "not",
          "nr": 100000000,
          "ro": "customer_and_employee",
          "rt": "PCI",
          "value": 56000000
         },
         {
          "column_name": "not",
          "nr": 100000000,
          "ro": "customer_and_employee",
          "rt": "PHI-PCI",
          "value": 56000000
         },
         {
          "column_name": "pcif",
          "nr": 1,
          "ro": "employee_only",
          "rt": "PII",
          "value": 0
         },
         {
          "column_name": "pcif",
          "nr": 1,
          "ro": "employee_only",
          "rt": "PHI",
          "value": 0
         },
         {
          "column_name": "pcif",
          "nr": 1,
          "ro": "employee_only",
          "rt": "PCI",
          "value": 75000
         },
         {
          "column_name": "pcif",
          "nr": 1,
          "ro": "employee_only",
          "rt": "PHI-PCI",
          "value": 75000
         },
         {
          "column_name": "pcif",
          "nr": 10000,
          "ro": "employee_only",
          "rt": "PII",
          "value": 0
         },
         {
          "column_name": "pcif",
          "nr": 10000,
          "ro": "employee_only",
          "rt": "PHI",
          "value": 0
         },
         {
          "column_name": "pcif",
          "nr": 10000,
          "ro": "employee_only",
          "rt": "PCI",
          "value": 380000
         },
         {
          "column_name": "pcif",
          "nr": 10000,
          "ro": "employee_only",
          "rt": "PHI-PCI",
          "value": 380000
         },
         {
          "column_name": "pcif",
          "nr": 100000000,
          "ro": "employee_only",
          "rt": "PII",
          "value": 0
         },
         {
          "column_name": "pcif",
          "nr": 100000000,
          "ro": "employee_only",
          "rt": "PHI",
          "value": 0
         },
         {
          "column_name": "pcif",
          "nr": 100000000,
          "ro": "employee_only",
          "rt": "PCI",
          "value": 400000000
         },
         {
          "column_name": "pcif",
          "nr": 100000000,
          "ro": "employee_only",
          "rt": "PHI-PCI",
          "value": 400000000
         },
         {
          "column_name": "pcif",
          "nr": 1,
          "ro": "customer_and_employee",
          "rt": "PII",
          "value": 0
         },
         {
          "column_name": "pcif",
          "nr": 1,
          "ro": "customer_and_employee",
          "rt": "PHI",
          "value": 0
         },
         {
          "column_name": "pcif",
          "nr": 1,
          "ro": "customer_and_employee",
          "rt": "PCI",
          "value": 75000
         },
         {
          "column_name": "pcif",
          "nr": 1,
          "ro": "customer_and_employee",
          "rt": "PHI-PCI",
          "value": 75000
         },
         {
          "column_name": "pcif",
          "nr": 10000,
          "ro": "customer_and_employee",
          "rt": "PII",
          "value": 0
         },
         {
          "column_name": "pcif",
          "nr": 10000,
          "ro": "customer_and_employee",
          "rt": "PHI",
          "value": 0
         },
         {
          "column_name": "pcif",
          "nr": 10000,
          "ro": "customer_and_employee",
          "rt": "PCI",
          "value": 380000
         },
         {
          "column_name": "pcif",
          "nr": 10000,
          "ro": "customer_and_employee",
          "rt": "PHI-PCI",
          "value": 380000
         },
         {
          "column_name": "pcif",
          "nr": 100000000,
          "ro": "customer_and_employee",
          "rt": "PII",
          "value": 0
         },
         {
          "column_name": "pcif",
          "nr": 100000000,
          "ro": "customer_and_employee",
          "rt": "PHI",
          "value": 0
         },
         {
          "column_name": "pcif",
          "nr": 100000000,
          "ro": "customer_and_employee",
          "rt": "PCI",
          "value": 400000000
         },
         {
          "column_name": "pcif",
          "nr": 100000000,
          "ro": "customer_and_employee",
          "rt": "PHI-PCI",
          "value": 400000000
         },
         {
          "column_name": "reg",
          "nr": 1,
          "ro": "employee_only",
          "rt": "PII",
          "value": 280000
         },
         {
          "column_name": "reg",
          "nr": 1,
          "ro": "employee_only",
          "rt": "PHI",
          "value": 530000
         },
         {
          "column_name": "reg",
          "nr": 1,
          "ro": "employee_only",
          "rt": "PCI",
          "value": 280000
         },
         {
          "column_name": "reg",
          "nr": 1,
          "ro": "employee_only",
          "rt": "PHI-PCI",
          "value": 530000
         },
         {
          "column_name": "reg",
          "nr": 10000,
          "ro": "employee_only",
          "rt": "PII",
          "value": 280000
         },
         {
          "column_name": "reg",
          "nr": 10000,
          "ro": "employee_only",
          "rt": "PHI",
          "value": 530000
         },
         {
          "column_name": "reg",
          "nr": 10000,
          "ro": "employee_only",
          "rt": "PCI",
          "value": 280000
         },
         {
          "column_name": "reg",
          "nr": 10000,
          "ro": "employee_only",
          "rt": "PHI-PCI",
          "value": 530000
         },
         {
          "column_name": "reg",
          "nr": 100000000,
          "ro": "employee_only",
          "rt": "PII",
          "value": 20000000
         },
         {
          "column_name": "reg",
          "nr": 100000000,
          "ro": "employee_only",
          "rt": "PHI",
          "value": 41000000
         },
         {
          "column_name": "reg",
          "nr": 100000000,
          "ro": "employee_only",
          "rt": "PCI",
          "value": 20000000
         },
         {
          "column_name": "reg",
          "nr": 100000000,
          "ro": "employee_only",
          "rt": "PHI-PCI",
          "value": 41000000
         },
         {
          "column_name": "reg",
          "nr": 1,
          "ro": "customer_and_employee",
          "rt": "PII",
          "value": 280000
         },
         {
          "column_name": "reg",
          "nr": 1,
          "ro": "customer_and_employee",
          "rt": "PHI",
          "value": 530000
         },
         {
          "column_name": "reg",
          "nr": 1,
          "ro": "customer_and_employee",
          "rt": "PCI",
          "value": 280000
         },
         {
          "column_name": "reg",
          "nr": 1,
          "ro": "customer_and_employee",
          "rt": "PHI-PCI",
          "value": 530000
         },
         {
          "column_name": "reg",
          "nr": 10000,
          "ro": "customer_and_employee",
          "rt": "PII",
          "value": 280000
         },
         {
          "column_name": "reg",
          "nr": 10000,
          "ro": "customer_and_employee",
          "rt": "PHI",
          "value": 530000
         },
         {
          "column_name": "reg",
          "nr": 10000,
          "ro": "customer_and_employee",
          "rt": "PCI",
          "value": 280000
         },
         {
          "column_name": "reg",
          "nr": 10000,
          "ro": "customer_and_employee",
          "rt": "PHI-PCI",
          "value": 530000
         },
         {
          "column_name": "reg",
          "nr": 100000000,
          "ro": "customer_and_employee",
          "rt": "PII",
          "value": 20000000
         },
         {
          "column_name": "reg",
          "nr": 100000000,
          "ro": "customer_and_employee",
          "rt": "PHI",
          "value": 41000000
         },
         {
          "column_name": "reg",
          "nr": 100000000,
          "ro": "customer_and_employee",
          "rt": "PCI",
          "value": 20000000
         },
         {
          "column_name": "reg",
          "nr": 100000000,
          "ro": "customer_and_employee",
          "rt": "PHI-PCI",
          "value": 41000000
         },
         {
          "column_name": "total",
          "nr": 1,
          "ro": "employee_only",
          "rt": "PII",
          "value": 399110
         },
         {
          "column_name": "total",
          "nr": 1,
          "ro": "employee_only",
          "rt": "PHI",
          "value": 659110
         },
         {
          "column_name": "total",
          "nr": 1,
          "ro": "employee_only",
          "rt": "PCI",
          "value": 524110
         },
         {
          "column_name": "total",
          "nr": 1,
          "ro": "employee_only",
          "rt": "PHI-PCI",
          "value": 794110
         },
         {
          "column_name": "total",
          "nr": 10000,
          "ro": "employee_only",
          "rt": "PII",
          "value": 1188100
         },
         {
          "column_name": "total",
          "nr": 10000,
          "ro": "employee_only",
          "rt": "PHI",
          "value": 1700100
         },
         {
          "column_name": "total",
          "nr": 10000,
          "ro": "employee_only",
          "rt": "PCI",
          "value": 1595100
         },
         {
          "column_name": "total",
          "nr": 10000,
          "ro": "employee_only",
          "rt": "PHI-PCI",
          "value": 2140100
         },
         {
          "column_name": "total",
          "nr": 100000000,
          "ro": "employee_only",
          "rt": "PII",
          "value": 673800000
         },
         {
          "column_name": "total",
          "nr": 100000000,
          "ro": "employee_only",
          "rt": "PHI",
          "value": 694900000
         },
         {
          "column_name": "total",
          "nr": 100000000,
          "ro": "employee_only",
          "rt": "PCI",
          "value": 1069450000
         },
         {
          "column_name": "total",
          "nr": 100000000,
          "ro": "employee_only",
          "rt": "PHI-PCI",
          "value": 1095650000
         },
         {
          "column_name": "total",
          "nr": 1,
          "ro": "customer_and_employee",
          "rt": "PII",
          "value": 399100
         },
         {
          "column_name": "total",
          "nr": 1,
          "ro": "customer_and_employee",
          "rt": "PHI",
          "value": 659100
         },
         {
          "column_name": "total",
          "nr": 1,
          "ro": "customer_and_employee",
          "rt": "PCI",
          "value": 524100
         },
         {
          "column_name": "total",
          "nr": 1,
          "ro": "customer_and_employee",
          "rt": "PHI-PCI",
          "value": 794100
         },
         {
          "column_name": "total",
          "nr": 10000,
          "ro": "customer_and_employee",
          "rt": "PII",
          "value": 1122300
         },
         {
          "column_name": "total",
          "nr": 10000,
          "ro": "customer_and_employee",
          "rt": "PHI",
          "value": 1622100
         },
         {
          "column_name": "total",
          "nr": 10000,
          "ro": "customer_and_employee",
          "rt": "PCI",
          "value": 1541300
         },
         {
          "column_name": "total",
          "nr": 10000,
          "ro": "customer_and_employee",
          "rt": "PHI-PCI",
          "value": 2062100
         },
         {
          "column_name": "total",
          "nr": 100000000,
          "ro": "customer_and_employee",
          "rt": "PII",
          "value": 281800000
         },
         {
          "column_name": "total",
          "nr": 100000000,
          "ro": "customer_and_employee",
          "rt": "PHI",
          "value": 302900000
         },
         {
          "column_name": "total",
          "nr": 100000000,
          "ro": "customer_and_employee",
          "rt": "PCI",
          "value": 677450000
         },
         {
          "column_name": "total",
          "nr": 100000000,
          "ro": "customer_and_employee",
          "rt": "PHI-PCI",
          "value": 703650000
         },
         {
          "column_name": "cpr",
          "nr": 1,
          "ro": "employee_only",
          "rt": "PII",
          "value": 399110
         },
         {
          "column_name": "cpr",
          "nr": 1,
          "ro": "employee_only",
          "rt": "PHI",
          "value": 659110
         },
         {
          "column_name": "cpr",
          "nr": 1,
          "ro": "employee_only",
          "rt": "PCI",
          "value": 524110
         },
         {
          "column_name": "cpr",
          "nr": 1,
          "ro": "employee_only",
          "rt": "PHI-PCI",
          "value": 794110
         },
         {
          "column_name": "cpr",
          "nr": 10000,
          "ro": "employee_only",
          "rt": "PII",
          "value": 118.81
         },
         {
          "column_name": "cpr",
          "nr": 10000,
          "ro": "employee_only",
          "rt": "PHI",
          "value": 170.01
         },
         {
          "column_name": "cpr",
          "nr": 10000,
          "ro": "employee_only",
          "rt": "PCI",
          "value": 159.51
         },
         {
          "column_name": "cpr",
          "nr": 10000,
          "ro": "employee_only",
          "rt": "PHI-PCI",
          "value": 214.01
         },
         {
          "column_name": "cpr",
          "nr": 100000000,
          "ro": "employee_only",
          "rt": "PII",
          "value": 6.7379999999999995
         },
         {
          "column_name": "cpr",
          "nr": 100000000,
          "ro": "employee_only",
          "rt": "PHI",
          "value": 6.949
         },
         {
          "column_name": "cpr",
          "nr": 100000000,
          "ro": "employee_only",
          "rt": "PCI",
          "value": 10.6945
         },
         {
          "column_name": "cpr",
          "nr": 100000000,
          "ro": "employee_only",
          "rt": "PHI-PCI",
          "value": 10.9565
         },
         {
          "column_name": "cpr",
          "nr": 1,
          "ro": "customer_and_employee",
          "rt": "PII",
          "value": 399100
         },
         {
          "column_name": "cpr",
          "nr": 1,
          "ro": "customer_and_employee",
          "rt": "PHI",
          "value": 659100
         },
         {
          "column_name": "cpr",
          "nr": 1,
          "ro": "customer_and_employee",
          "rt": "PCI",
          "value": 524100
         },
         {
          "column_name": "cpr",
          "nr": 1,
          "ro": "customer_and_employee",
          "rt": "PHI-PCI",
          "value": 794100
         },
         {
          "column_name": "cpr",
          "nr": 10000,
          "ro": "customer_and_employee",
          "rt": "PII",
          "value": 112.23
         },
         {
          "column_name": "cpr",
          "nr": 10000,
          "ro": "customer_and_employee",
          "rt": "PHI",
          "value": 162.21
         },
         {
          "column_name": "cpr",
          "nr": 10000,
          "ro": "customer_and_employee",
          "rt": "PCI",
          "value": 154.13
         },
         {
          "column_name": "cpr",
          "nr": 10000,
          "ro": "customer_and_employee",
          "rt": "PHI-PCI",
          "value": 206.21
         },
         {
          "column_name": "cpr",
          "nr": 100000000,
          "ro": "customer_and_employee",
          "rt": "PII",
          "value": 2.818
         },
         {
          "column_name": "cpr",
          "nr": 100000000,
          "ro": "customer_and_employee",
          "rt": "PHI",
          "value": 3.029
         },
         {
          "column_name": "cpr",
          "nr": 100000000,
          "ro": "customer_and_employee",
          "rt": "PCI",
          "value": 6.7745
         },
         {
          "column_name": "cpr",
          "nr": 100000000,
          "ro": "customer_and_employee",
          "rt": "PHI-PCI",
          "value": 7.0365
         }
        ]
       },
       "facet": {
        "column": {
         "field": "rt",
         "type": "nominal"
        },
        "row": {
         "field": "ro",
         "type": "nominal"
        }
       },
       "spec": {
        "encoding": {
         "color": {
          "field": "column_name",
          "type": "nominal"
         },
         "x": {
          "field": "nr",
          "scale": {
           "type": "log"
          },
          "type": "quantitative"
         },
         "y": {
          "field": "value",
          "scale": {
           "zero": false
          },
          "type": "quantitative"
         }
        },
        "height": 180,
        "mark": "point",
        "width": 180
       }
      },
      "image/png": "[encoded data removed]",
      "text/plain": [
       "<VegaLite 2 object>\n",
       "\n",
       "If you see this message, it means the renderer has not been properly enabled\n",
       "for the frontend that you are using. For more information, see\n",
       "https://altair-viz.github.io/user_guide/troubleshooting.html\n"
      ]
     },
     "execution_count": 272,
     "metadata": {},
     "output_type": "execute_result"
    }
   ],
   "source": [
    "alt.Chart(reshaped_df).mark_point().encode(\n",
    "    alt.X('nr:Q', scale=alt.Scale(type='log')),\n",
    "    alt.Y('value:Q', scale=alt.Scale(zero=False)),\n",
    "    color='column_name:N'\n",
    ").properties(\n",
    "    width=180,\n",
    "    height=180\n",
    ").facet(\n",
    "    column='rt:N',\n",
    "    row='ro:N'\n",
    ")"
   ]
  },
  {
   "cell_type": "code",
   "execution_count": null,
   "metadata": {},
   "outputs": [],
   "source": []
  },
  {
   "cell_type": "code",
   "execution_count": 248,
   "metadata": {},
   "outputs": [
    {
     "data": {
      "text/html": [
       "<div>\n",
       "<style scoped>\n",
       "    .dataframe tbody tr th:only-of-type {\n",
       "        vertical-align: middle;\n",
       "    }\n",
       "\n",
       "    .dataframe tbody tr th {\n",
       "        vertical-align: top;\n",
       "    }\n",
       "\n",
       "    .dataframe thead th {\n",
       "        text-align: right;\n",
       "    }\n",
       "</style>\n",
       "<table border=\"1\" class=\"dataframe\">\n",
       "  <thead>\n",
       "    <tr style=\"text-align: right;\">\n",
       "      <th></th>\n",
       "      <th>symbol</th>\n",
       "      <th>date</th>\n",
       "      <th>price</th>\n",
       "    </tr>\n",
       "  </thead>\n",
       "  <tbody>\n",
       "    <tr>\n",
       "      <th>0</th>\n",
       "      <td>MSFT</td>\n",
       "      <td>2000-01-01</td>\n",
       "      <td>39.81</td>\n",
       "    </tr>\n",
       "    <tr>\n",
       "      <th>1</th>\n",
       "      <td>MSFT</td>\n",
       "      <td>2000-02-01</td>\n",
       "      <td>36.35</td>\n",
       "    </tr>\n",
       "    <tr>\n",
       "      <th>2</th>\n",
       "      <td>MSFT</td>\n",
       "      <td>2000-03-01</td>\n",
       "      <td>43.22</td>\n",
       "    </tr>\n",
       "    <tr>\n",
       "      <th>3</th>\n",
       "      <td>MSFT</td>\n",
       "      <td>2000-04-01</td>\n",
       "      <td>28.37</td>\n",
       "    </tr>\n",
       "    <tr>\n",
       "      <th>4</th>\n",
       "      <td>MSFT</td>\n",
       "      <td>2000-05-01</td>\n",
       "      <td>25.45</td>\n",
       "    </tr>\n",
       "  </tbody>\n",
       "</table>\n",
       "</div>"
      ],
      "text/plain": [
       "  symbol       date  price\n",
       "0   MSFT 2000-01-01  39.81\n",
       "1   MSFT 2000-02-01  36.35\n",
       "2   MSFT 2000-03-01  43.22\n",
       "3   MSFT 2000-04-01  28.37\n",
       "4   MSFT 2000-05-01  25.45"
      ]
     },
     "execution_count": 248,
     "metadata": {},
     "output_type": "execute_result"
    }
   ],
   "source": [
    "source.head()"
   ]
  },
  {
   "cell_type": "code",
   "execution_count": 246,
   "metadata": {},
   "outputs": [
    {
     "data": {
      "application/vnd.vegalite.v2+json": {
       "$schema": "https://vega.github.io/schema/vega-lite/v2.6.0.json",
       "config": {
        "view": {
         "height": 300,
         "width": 400
        }
       },
       "data": {
        "name": "data-96e857a61c6b623bafe23440d582a500"
       },
       "datasets": {
        "data-96e857a61c6b623bafe23440d582a500": [
         {
          "date": "2000-01-01T00:00:00",
          "price": 39.81,
          "symbol": "MSFT"
         },
         {
          "date": "2000-02-01T00:00:00",
          "price": 36.35,
          "symbol": "MSFT"
         },
         {
          "date": "2000-03-01T00:00:00",
          "price": 43.22,
          "symbol": "MSFT"
         },
         {
          "date": "2000-04-01T00:00:00",
          "price": 28.37,
          "symbol": "MSFT"
         },
         {
          "date": "2000-05-01T00:00:00",
          "price": 25.45,
          "symbol": "MSFT"
         },
         {
          "date": "2000-06-01T00:00:00",
          "price": 32.54,
          "symbol": "MSFT"
         },
         {
          "date": "2000-07-01T00:00:00",
          "price": 28.4,
          "symbol": "MSFT"
         },
         {
          "date": "2000-08-01T00:00:00",
          "price": 28.4,
          "symbol": "MSFT"
         },
         {
          "date": "2000-09-01T00:00:00",
          "price": 24.53,
          "symbol": "MSFT"
         },
         {
          "date": "2000-10-01T00:00:00",
          "price": 28.02,
          "symbol": "MSFT"
         },
         {
          "date": "2000-11-01T00:00:00",
          "price": 23.34,
          "symbol": "MSFT"
         },
         {
          "date": "2000-12-01T00:00:00",
          "price": 17.65,
          "symbol": "MSFT"
         },
         {
          "date": "2001-01-01T00:00:00",
          "price": 24.84,
          "symbol": "MSFT"
         },
         {
          "date": "2001-02-01T00:00:00",
          "price": 24,
          "symbol": "MSFT"
         },
         {
          "date": "2001-03-01T00:00:00",
          "price": 22.25,
          "symbol": "MSFT"
         },
         {
          "date": "2001-04-01T00:00:00",
          "price": 27.56,
          "symbol": "MSFT"
         },
         {
          "date": "2001-05-01T00:00:00",
          "price": 28.14,
          "symbol": "MSFT"
         },
         {
          "date": "2001-06-01T00:00:00",
          "price": 29.7,
          "symbol": "MSFT"
         },
         {
          "date": "2001-07-01T00:00:00",
          "price": 26.93,
          "symbol": "MSFT"
         },
         {
          "date": "2001-08-01T00:00:00",
          "price": 23.21,
          "symbol": "MSFT"
         },
         {
          "date": "2001-09-01T00:00:00",
          "price": 20.82,
          "symbol": "MSFT"
         },
         {
          "date": "2001-10-01T00:00:00",
          "price": 23.65,
          "symbol": "MSFT"
         },
         {
          "date": "2001-11-01T00:00:00",
          "price": 26.12,
          "symbol": "MSFT"
         },
         {
          "date": "2001-12-01T00:00:00",
          "price": 26.95,
          "symbol": "MSFT"
         },
         {
          "date": "2002-01-01T00:00:00",
          "price": 25.92,
          "symbol": "MSFT"
         },
         {
          "date": "2002-02-01T00:00:00",
          "price": 23.73,
          "symbol": "MSFT"
         },
         {
          "date": "2002-03-01T00:00:00",
          "price": 24.53,
          "symbol": "MSFT"
         },
         {
          "date": "2002-04-01T00:00:00",
          "price": 21.26,
          "symbol": "MSFT"
         },
         {
          "date": "2002-05-01T00:00:00",
          "price": 20.71,
          "symbol": "MSFT"
         },
         {
          "date": "2002-06-01T00:00:00",
          "price": 22.25,
          "symbol": "MSFT"
         },
         {
          "date": "2002-07-01T00:00:00",
          "price": 19.52,
          "symbol": "MSFT"
         },
         {
          "date": "2002-08-01T00:00:00",
          "price": 19.97,
          "symbol": "MSFT"
         },
         {
          "date": "2002-09-01T00:00:00",
          "price": 17.79,
          "symbol": "MSFT"
         },
         {
          "date": "2002-10-01T00:00:00",
          "price": 21.75,
          "symbol": "MSFT"
         },
         {
          "date": "2002-11-01T00:00:00",
          "price": 23.46,
          "symbol": "MSFT"
         },
         {
          "date": "2002-12-01T00:00:00",
          "price": 21.03,
          "symbol": "MSFT"
         },
         {
          "date": "2003-01-01T00:00:00",
          "price": 19.31,
          "symbol": "MSFT"
         },
         {
          "date": "2003-02-01T00:00:00",
          "price": 19.34,
          "symbol": "MSFT"
         },
         {
          "date": "2003-03-01T00:00:00",
          "price": 19.76,
          "symbol": "MSFT"
         },
         {
          "date": "2003-04-01T00:00:00",
          "price": 20.87,
          "symbol": "MSFT"
         },
         {
          "date": "2003-05-01T00:00:00",
          "price": 20.09,
          "symbol": "MSFT"
         },
         {
          "date": "2003-06-01T00:00:00",
          "price": 20.93,
          "symbol": "MSFT"
         },
         {
          "date": "2003-07-01T00:00:00",
          "price": 21.56,
          "symbol": "MSFT"
         },
         {
          "date": "2003-08-01T00:00:00",
          "price": 21.65,
          "symbol": "MSFT"
         },
         {
          "date": "2003-09-01T00:00:00",
          "price": 22.69,
          "symbol": "MSFT"
         },
         {
          "date": "2003-10-01T00:00:00",
          "price": 21.45,
          "symbol": "MSFT"
         },
         {
          "date": "2003-11-01T00:00:00",
          "price": 21.1,
          "symbol": "MSFT"
         },
         {
          "date": "2003-12-01T00:00:00",
          "price": 22.46,
          "symbol": "MSFT"
         },
         {
          "date": "2004-01-01T00:00:00",
          "price": 22.69,
          "symbol": "MSFT"
         },
         {
          "date": "2004-02-01T00:00:00",
          "price": 21.77,
          "symbol": "MSFT"
         },
         {
          "date": "2004-03-01T00:00:00",
          "price": 20.46,
          "symbol": "MSFT"
         },
         {
          "date": "2004-04-01T00:00:00",
          "price": 21.45,
          "symbol": "MSFT"
         },
         {
          "date": "2004-05-01T00:00:00",
          "price": 21.53,
          "symbol": "MSFT"
         },
         {
          "date": "2004-06-01T00:00:00",
          "price": 23.44,
          "symbol": "MSFT"
         },
         {
          "date": "2004-07-01T00:00:00",
          "price": 23.38,
          "symbol": "MSFT"
         },
         {
          "date": "2004-08-01T00:00:00",
          "price": 22.47,
          "symbol": "MSFT"
         },
         {
          "date": "2004-09-01T00:00:00",
          "price": 22.76,
          "symbol": "MSFT"
         },
         {
          "date": "2004-10-01T00:00:00",
          "price": 23.02,
          "symbol": "MSFT"
         },
         {
          "date": "2004-11-01T00:00:00",
          "price": 24.6,
          "symbol": "MSFT"
         },
         {
          "date": "2004-12-01T00:00:00",
          "price": 24.52,
          "symbol": "MSFT"
         },
         {
          "date": "2005-01-01T00:00:00",
          "price": 24.11,
          "symbol": "MSFT"
         },
         {
          "date": "2005-02-01T00:00:00",
          "price": 23.15,
          "symbol": "MSFT"
         },
         {
          "date": "2005-03-01T00:00:00",
          "price": 22.24,
          "symbol": "MSFT"
         },
         {
          "date": "2005-04-01T00:00:00",
          "price": 23.28,
          "symbol": "MSFT"
         },
         {
          "date": "2005-05-01T00:00:00",
          "price": 23.82,
          "symbol": "MSFT"
         },
         {
          "date": "2005-06-01T00:00:00",
          "price": 22.93,
          "symbol": "MSFT"
         },
         {
          "date": "2005-07-01T00:00:00",
          "price": 23.64,
          "symbol": "MSFT"
         },
         {
          "date": "2005-08-01T00:00:00",
          "price": 25.35,
          "symbol": "MSFT"
         },
         {
          "date": "2005-09-01T00:00:00",
          "price": 23.83,
          "symbol": "MSFT"
         },
         {
          "date": "2005-10-01T00:00:00",
          "price": 23.8,
          "symbol": "MSFT"
         },
         {
          "date": "2005-11-01T00:00:00",
          "price": 25.71,
          "symbol": "MSFT"
         },
         {
          "date": "2005-12-01T00:00:00",
          "price": 24.29,
          "symbol": "MSFT"
         },
         {
          "date": "2006-01-01T00:00:00",
          "price": 26.14,
          "symbol": "MSFT"
         },
         {
          "date": "2006-02-01T00:00:00",
          "price": 25.04,
          "symbol": "MSFT"
         },
         {
          "date": "2006-03-01T00:00:00",
          "price": 25.36,
          "symbol": "MSFT"
         },
         {
          "date": "2006-04-01T00:00:00",
          "price": 22.5,
          "symbol": "MSFT"
         },
         {
          "date": "2006-05-01T00:00:00",
          "price": 21.19,
          "symbol": "MSFT"
         },
         {
          "date": "2006-06-01T00:00:00",
          "price": 21.8,
          "symbol": "MSFT"
         },
         {
          "date": "2006-07-01T00:00:00",
          "price": 22.51,
          "symbol": "MSFT"
         },
         {
          "date": "2006-08-01T00:00:00",
          "price": 24.13,
          "symbol": "MSFT"
         },
         {
          "date": "2006-09-01T00:00:00",
          "price": 25.68,
          "symbol": "MSFT"
         },
         {
          "date": "2006-10-01T00:00:00",
          "price": 26.96,
          "symbol": "MSFT"
         },
         {
          "date": "2006-11-01T00:00:00",
          "price": 27.66,
          "symbol": "MSFT"
         },
         {
          "date": "2006-12-01T00:00:00",
          "price": 28.13,
          "symbol": "MSFT"
         },
         {
          "date": "2007-01-01T00:00:00",
          "price": 29.07,
          "symbol": "MSFT"
         },
         {
          "date": "2007-02-01T00:00:00",
          "price": 26.63,
          "symbol": "MSFT"
         },
         {
          "date": "2007-03-01T00:00:00",
          "price": 26.35,
          "symbol": "MSFT"
         },
         {
          "date": "2007-04-01T00:00:00",
          "price": 28.3,
          "symbol": "MSFT"
         },
         {
          "date": "2007-05-01T00:00:00",
          "price": 29.11,
          "symbol": "MSFT"
         },
         {
          "date": "2007-06-01T00:00:00",
          "price": 27.95,
          "symbol": "MSFT"
         },
         {
          "date": "2007-07-01T00:00:00",
          "price": 27.5,
          "symbol": "MSFT"
         },
         {
          "date": "2007-08-01T00:00:00",
          "price": 27.34,
          "symbol": "MSFT"
         },
         {
          "date": "2007-09-01T00:00:00",
          "price": 28.04,
          "symbol": "MSFT"
         },
         {
          "date": "2007-10-01T00:00:00",
          "price": 35.03,
          "symbol": "MSFT"
         },
         {
          "date": "2007-11-01T00:00:00",
          "price": 32.09,
          "symbol": "MSFT"
         },
         {
          "date": "2007-12-01T00:00:00",
          "price": 34,
          "symbol": "MSFT"
         },
         {
          "date": "2008-01-01T00:00:00",
          "price": 31.13,
          "symbol": "MSFT"
         },
         {
          "date": "2008-02-01T00:00:00",
          "price": 26.07,
          "symbol": "MSFT"
         },
         {
          "date": "2008-03-01T00:00:00",
          "price": 27.21,
          "symbol": "MSFT"
         },
         {
          "date": "2008-04-01T00:00:00",
          "price": 27.34,
          "symbol": "MSFT"
         },
         {
          "date": "2008-05-01T00:00:00",
          "price": 27.25,
          "symbol": "MSFT"
         },
         {
          "date": "2008-06-01T00:00:00",
          "price": 26.47,
          "symbol": "MSFT"
         },
         {
          "date": "2008-07-01T00:00:00",
          "price": 24.75,
          "symbol": "MSFT"
         },
         {
          "date": "2008-08-01T00:00:00",
          "price": 26.36,
          "symbol": "MSFT"
         },
         {
          "date": "2008-09-01T00:00:00",
          "price": 25.78,
          "symbol": "MSFT"
         },
         {
          "date": "2008-10-01T00:00:00",
          "price": 21.57,
          "symbol": "MSFT"
         },
         {
          "date": "2008-11-01T00:00:00",
          "price": 19.66,
          "symbol": "MSFT"
         },
         {
          "date": "2008-12-01T00:00:00",
          "price": 18.91,
          "symbol": "MSFT"
         },
         {
          "date": "2009-01-01T00:00:00",
          "price": 16.63,
          "symbol": "MSFT"
         },
         {
          "date": "2009-02-01T00:00:00",
          "price": 15.81,
          "symbol": "MSFT"
         },
         {
          "date": "2009-03-01T00:00:00",
          "price": 17.99,
          "symbol": "MSFT"
         },
         {
          "date": "2009-04-01T00:00:00",
          "price": 19.84,
          "symbol": "MSFT"
         },
         {
          "date": "2009-05-01T00:00:00",
          "price": 20.59,
          "symbol": "MSFT"
         },
         {
          "date": "2009-06-01T00:00:00",
          "price": 23.42,
          "symbol": "MSFT"
         },
         {
          "date": "2009-07-01T00:00:00",
          "price": 23.18,
          "symbol": "MSFT"
         },
         {
          "date": "2009-08-01T00:00:00",
          "price": 24.43,
          "symbol": "MSFT"
         },
         {
          "date": "2009-09-01T00:00:00",
          "price": 25.49,
          "symbol": "MSFT"
         },
         {
          "date": "2009-10-01T00:00:00",
          "price": 27.48,
          "symbol": "MSFT"
         },
         {
          "date": "2009-11-01T00:00:00",
          "price": 29.27,
          "symbol": "MSFT"
         },
         {
          "date": "2009-12-01T00:00:00",
          "price": 30.34,
          "symbol": "MSFT"
         },
         {
          "date": "2010-01-01T00:00:00",
          "price": 28.05,
          "symbol": "MSFT"
         },
         {
          "date": "2010-02-01T00:00:00",
          "price": 28.67,
          "symbol": "MSFT"
         },
         {
          "date": "2010-03-01T00:00:00",
          "price": 28.8,
          "symbol": "MSFT"
         },
         {
          "date": "2000-01-01T00:00:00",
          "price": 64.56,
          "symbol": "AMZN"
         },
         {
          "date": "2000-02-01T00:00:00",
          "price": 68.87,
          "symbol": "AMZN"
         },
         {
          "date": "2000-03-01T00:00:00",
          "price": 67,
          "symbol": "AMZN"
         },
         {
          "date": "2000-04-01T00:00:00",
          "price": 55.19,
          "symbol": "AMZN"
         },
         {
          "date": "2000-05-01T00:00:00",
          "price": 48.31,
          "symbol": "AMZN"
         },
         {
          "date": "2000-06-01T00:00:00",
          "price": 36.31,
          "symbol": "AMZN"
         },
         {
          "date": "2000-07-01T00:00:00",
          "price": 30.12,
          "symbol": "AMZN"
         },
         {
          "date": "2000-08-01T00:00:00",
          "price": 41.5,
          "symbol": "AMZN"
         },
         {
          "date": "2000-09-01T00:00:00",
          "price": 38.44,
          "symbol": "AMZN"
         },
         {
          "date": "2000-10-01T00:00:00",
          "price": 36.62,
          "symbol": "AMZN"
         },
         {
          "date": "2000-11-01T00:00:00",
          "price": 24.69,
          "symbol": "AMZN"
         },
         {
          "date": "2000-12-01T00:00:00",
          "price": 15.56,
          "symbol": "AMZN"
         },
         {
          "date": "2001-01-01T00:00:00",
          "price": 17.31,
          "symbol": "AMZN"
         },
         {
          "date": "2001-02-01T00:00:00",
          "price": 10.19,
          "symbol": "AMZN"
         },
         {
          "date": "2001-03-01T00:00:00",
          "price": 10.23,
          "symbol": "AMZN"
         },
         {
          "date": "2001-04-01T00:00:00",
          "price": 15.78,
          "symbol": "AMZN"
         },
         {
          "date": "2001-05-01T00:00:00",
          "price": 16.69,
          "symbol": "AMZN"
         },
         {
          "date": "2001-06-01T00:00:00",
          "price": 14.15,
          "symbol": "AMZN"
         },
         {
          "date": "2001-07-01T00:00:00",
          "price": 12.49,
          "symbol": "AMZN"
         },
         {
          "date": "2001-08-01T00:00:00",
          "price": 8.94,
          "symbol": "AMZN"
         },
         {
          "date": "2001-09-01T00:00:00",
          "price": 5.97,
          "symbol": "AMZN"
         },
         {
          "date": "2001-10-01T00:00:00",
          "price": 6.98,
          "symbol": "AMZN"
         },
         {
          "date": "2001-11-01T00:00:00",
          "price": 11.32,
          "symbol": "AMZN"
         },
         {
          "date": "2001-12-01T00:00:00",
          "price": 10.82,
          "symbol": "AMZN"
         },
         {
          "date": "2002-01-01T00:00:00",
          "price": 14.19,
          "symbol": "AMZN"
         },
         {
          "date": "2002-02-01T00:00:00",
          "price": 14.1,
          "symbol": "AMZN"
         },
         {
          "date": "2002-03-01T00:00:00",
          "price": 14.3,
          "symbol": "AMZN"
         },
         {
          "date": "2002-04-01T00:00:00",
          "price": 16.69,
          "symbol": "AMZN"
         },
         {
          "date": "2002-05-01T00:00:00",
          "price": 18.23,
          "symbol": "AMZN"
         },
         {
          "date": "2002-06-01T00:00:00",
          "price": 16.25,
          "symbol": "AMZN"
         },
         {
          "date": "2002-07-01T00:00:00",
          "price": 14.45,
          "symbol": "AMZN"
         },
         {
          "date": "2002-08-01T00:00:00",
          "price": 14.94,
          "symbol": "AMZN"
         },
         {
          "date": "2002-09-01T00:00:00",
          "price": 15.93,
          "symbol": "AMZN"
         },
         {
          "date": "2002-10-01T00:00:00",
          "price": 19.36,
          "symbol": "AMZN"
         },
         {
          "date": "2002-11-01T00:00:00",
          "price": 23.35,
          "symbol": "AMZN"
         },
         {
          "date": "2002-12-01T00:00:00",
          "price": 18.89,
          "symbol": "AMZN"
         },
         {
          "date": "2003-01-01T00:00:00",
          "price": 21.85,
          "symbol": "AMZN"
         },
         {
          "date": "2003-02-01T00:00:00",
          "price": 22.01,
          "symbol": "AMZN"
         },
         {
          "date": "2003-03-01T00:00:00",
          "price": 26.03,
          "symbol": "AMZN"
         },
         {
          "date": "2003-04-01T00:00:00",
          "price": 28.69,
          "symbol": "AMZN"
         },
         {
          "date": "2003-05-01T00:00:00",
          "price": 35.89,
          "symbol": "AMZN"
         },
         {
          "date": "2003-06-01T00:00:00",
          "price": 36.32,
          "symbol": "AMZN"
         },
         {
          "date": "2003-07-01T00:00:00",
          "price": 41.64,
          "symbol": "AMZN"
         },
         {
          "date": "2003-08-01T00:00:00",
          "price": 46.32,
          "symbol": "AMZN"
         },
         {
          "date": "2003-09-01T00:00:00",
          "price": 48.43,
          "symbol": "AMZN"
         },
         {
          "date": "2003-10-01T00:00:00",
          "price": 54.43,
          "symbol": "AMZN"
         },
         {
          "date": "2003-11-01T00:00:00",
          "price": 53.97,
          "symbol": "AMZN"
         },
         {
          "date": "2003-12-01T00:00:00",
          "price": 52.62,
          "symbol": "AMZN"
         },
         {
          "date": "2004-01-01T00:00:00",
          "price": 50.4,
          "symbol": "AMZN"
         },
         {
          "date": "2004-02-01T00:00:00",
          "price": 43.01,
          "symbol": "AMZN"
         },
         {
          "date": "2004-03-01T00:00:00",
          "price": 43.28,
          "symbol": "AMZN"
         },
         {
          "date": "2004-04-01T00:00:00",
          "price": 43.6,
          "symbol": "AMZN"
         },
         {
          "date": "2004-05-01T00:00:00",
          "price": 48.5,
          "symbol": "AMZN"
         },
         {
          "date": "2004-06-01T00:00:00",
          "price": 54.4,
          "symbol": "AMZN"
         },
         {
          "date": "2004-07-01T00:00:00",
          "price": 38.92,
          "symbol": "AMZN"
         },
         {
          "date": "2004-08-01T00:00:00",
          "price": 38.14,
          "symbol": "AMZN"
         },
         {
          "date": "2004-09-01T00:00:00",
          "price": 40.86,
          "symbol": "AMZN"
         },
         {
          "date": "2004-10-01T00:00:00",
          "price": 34.13,
          "symbol": "AMZN"
         },
         {
          "date": "2004-11-01T00:00:00",
          "price": 39.68,
          "symbol": "AMZN"
         },
         {
          "date": "2004-12-01T00:00:00",
          "price": 44.29,
          "symbol": "AMZN"
         },
         {
          "date": "2005-01-01T00:00:00",
          "price": 43.22,
          "symbol": "AMZN"
         },
         {
          "date": "2005-02-01T00:00:00",
          "price": 35.18,
          "symbol": "AMZN"
         },
         {
          "date": "2005-03-01T00:00:00",
          "price": 34.27,
          "symbol": "AMZN"
         },
         {
          "date": "2005-04-01T00:00:00",
          "price": 32.36,
          "symbol": "AMZN"
         },
         {
          "date": "2005-05-01T00:00:00",
          "price": 35.51,
          "symbol": "AMZN"
         },
         {
          "date": "2005-06-01T00:00:00",
          "price": 33.09,
          "symbol": "AMZN"
         },
         {
          "date": "2005-07-01T00:00:00",
          "price": 45.15,
          "symbol": "AMZN"
         },
         {
          "date": "2005-08-01T00:00:00",
          "price": 42.7,
          "symbol": "AMZN"
         },
         {
          "date": "2005-09-01T00:00:00",
          "price": 45.3,
          "symbol": "AMZN"
         },
         {
          "date": "2005-10-01T00:00:00",
          "price": 39.86,
          "symbol": "AMZN"
         },
         {
          "date": "2005-11-01T00:00:00",
          "price": 48.46,
          "symbol": "AMZN"
         },
         {
          "date": "2005-12-01T00:00:00",
          "price": 47.15,
          "symbol": "AMZN"
         },
         {
          "date": "2006-01-01T00:00:00",
          "price": 44.82,
          "symbol": "AMZN"
         },
         {
          "date": "2006-02-01T00:00:00",
          "price": 37.44,
          "symbol": "AMZN"
         },
         {
          "date": "2006-03-01T00:00:00",
          "price": 36.53,
          "symbol": "AMZN"
         },
         {
          "date": "2006-04-01T00:00:00",
          "price": 35.21,
          "symbol": "AMZN"
         },
         {
          "date": "2006-05-01T00:00:00",
          "price": 34.61,
          "symbol": "AMZN"
         },
         {
          "date": "2006-06-01T00:00:00",
          "price": 38.68,
          "symbol": "AMZN"
         },
         {
          "date": "2006-07-01T00:00:00",
          "price": 26.89,
          "symbol": "AMZN"
         },
         {
          "date": "2006-08-01T00:00:00",
          "price": 30.83,
          "symbol": "AMZN"
         },
         {
          "date": "2006-09-01T00:00:00",
          "price": 32.12,
          "symbol": "AMZN"
         },
         {
          "date": "2006-10-01T00:00:00",
          "price": 38.09,
          "symbol": "AMZN"
         },
         {
          "date": "2006-11-01T00:00:00",
          "price": 40.34,
          "symbol": "AMZN"
         },
         {
          "date": "2006-12-01T00:00:00",
          "price": 39.46,
          "symbol": "AMZN"
         },
         {
          "date": "2007-01-01T00:00:00",
          "price": 37.67,
          "symbol": "AMZN"
         },
         {
          "date": "2007-02-01T00:00:00",
          "price": 39.14,
          "symbol": "AMZN"
         },
         {
          "date": "2007-03-01T00:00:00",
          "price": 39.79,
          "symbol": "AMZN"
         },
         {
          "date": "2007-04-01T00:00:00",
          "price": 61.33,
          "symbol": "AMZN"
         },
         {
          "date": "2007-05-01T00:00:00",
          "price": 69.14,
          "symbol": "AMZN"
         },
         {
          "date": "2007-06-01T00:00:00",
          "price": 68.41,
          "symbol": "AMZN"
         },
         {
          "date": "2007-07-01T00:00:00",
          "price": 78.54,
          "symbol": "AMZN"
         },
         {
          "date": "2007-08-01T00:00:00",
          "price": 79.91,
          "symbol": "AMZN"
         },
         {
          "date": "2007-09-01T00:00:00",
          "price": 93.15,
          "symbol": "AMZN"
         },
         {
          "date": "2007-10-01T00:00:00",
          "price": 89.15,
          "symbol": "AMZN"
         },
         {
          "date": "2007-11-01T00:00:00",
          "price": 90.56,
          "symbol": "AMZN"
         },
         {
          "date": "2007-12-01T00:00:00",
          "price": 92.64,
          "symbol": "AMZN"
         },
         {
          "date": "2008-01-01T00:00:00",
          "price": 77.7,
          "symbol": "AMZN"
         },
         {
          "date": "2008-02-01T00:00:00",
          "price": 64.47,
          "symbol": "AMZN"
         },
         {
          "date": "2008-03-01T00:00:00",
          "price": 71.3,
          "symbol": "AMZN"
         },
         {
          "date": "2008-04-01T00:00:00",
          "price": 78.63,
          "symbol": "AMZN"
         },
         {
          "date": "2008-05-01T00:00:00",
          "price": 81.62,
          "symbol": "AMZN"
         },
         {
          "date": "2008-06-01T00:00:00",
          "price": 73.33,
          "symbol": "AMZN"
         },
         {
          "date": "2008-07-01T00:00:00",
          "price": 76.34,
          "symbol": "AMZN"
         },
         {
          "date": "2008-08-01T00:00:00",
          "price": 80.81,
          "symbol": "AMZN"
         },
         {
          "date": "2008-09-01T00:00:00",
          "price": 72.76,
          "symbol": "AMZN"
         },
         {
          "date": "2008-10-01T00:00:00",
          "price": 57.24,
          "symbol": "AMZN"
         },
         {
          "date": "2008-11-01T00:00:00",
          "price": 42.7,
          "symbol": "AMZN"
         },
         {
          "date": "2008-12-01T00:00:00",
          "price": 51.28,
          "symbol": "AMZN"
         },
         {
          "date": "2009-01-01T00:00:00",
          "price": 58.82,
          "symbol": "AMZN"
         },
         {
          "date": "2009-02-01T00:00:00",
          "price": 64.79,
          "symbol": "AMZN"
         },
         {
          "date": "2009-03-01T00:00:00",
          "price": 73.44,
          "symbol": "AMZN"
         },
         {
          "date": "2009-04-01T00:00:00",
          "price": 80.52,
          "symbol": "AMZN"
         },
         {
          "date": "2009-05-01T00:00:00",
          "price": 77.99,
          "symbol": "AMZN"
         },
         {
          "date": "2009-06-01T00:00:00",
          "price": 83.66,
          "symbol": "AMZN"
         },
         {
          "date": "2009-07-01T00:00:00",
          "price": 85.76,
          "symbol": "AMZN"
         },
         {
          "date": "2009-08-01T00:00:00",
          "price": 81.19,
          "symbol": "AMZN"
         },
         {
          "date": "2009-09-01T00:00:00",
          "price": 93.36,
          "symbol": "AMZN"
         },
         {
          "date": "2009-10-01T00:00:00",
          "price": 118.81,
          "symbol": "AMZN"
         },
         {
          "date": "2009-11-01T00:00:00",
          "price": 135.91,
          "symbol": "AMZN"
         },
         {
          "date": "2009-12-01T00:00:00",
          "price": 134.52,
          "symbol": "AMZN"
         },
         {
          "date": "2010-01-01T00:00:00",
          "price": 125.41,
          "symbol": "AMZN"
         },
         {
          "date": "2010-02-01T00:00:00",
          "price": 118.4,
          "symbol": "AMZN"
         },
         {
          "date": "2010-03-01T00:00:00",
          "price": 128.82,
          "symbol": "AMZN"
         },
         {
          "date": "2000-01-01T00:00:00",
          "price": 100.52,
          "symbol": "IBM"
         },
         {
          "date": "2000-02-01T00:00:00",
          "price": 92.11,
          "symbol": "IBM"
         },
         {
          "date": "2000-03-01T00:00:00",
          "price": 106.11,
          "symbol": "IBM"
         },
         {
          "date": "2000-04-01T00:00:00",
          "price": 99.95,
          "symbol": "IBM"
         },
         {
          "date": "2000-05-01T00:00:00",
          "price": 96.31,
          "symbol": "IBM"
         },
         {
          "date": "2000-06-01T00:00:00",
          "price": 98.33,
          "symbol": "IBM"
         },
         {
          "date": "2000-07-01T00:00:00",
          "price": 100.74,
          "symbol": "IBM"
         },
         {
          "date": "2000-08-01T00:00:00",
          "price": 118.62,
          "symbol": "IBM"
         },
         {
          "date": "2000-09-01T00:00:00",
          "price": 101.19,
          "symbol": "IBM"
         },
         {
          "date": "2000-10-01T00:00:00",
          "price": 88.5,
          "symbol": "IBM"
         },
         {
          "date": "2000-11-01T00:00:00",
          "price": 84.12,
          "symbol": "IBM"
         },
         {
          "date": "2000-12-01T00:00:00",
          "price": 76.47,
          "symbol": "IBM"
         },
         {
          "date": "2001-01-01T00:00:00",
          "price": 100.76,
          "symbol": "IBM"
         },
         {
          "date": "2001-02-01T00:00:00",
          "price": 89.98,
          "symbol": "IBM"
         },
         {
          "date": "2001-03-01T00:00:00",
          "price": 86.63,
          "symbol": "IBM"
         },
         {
          "date": "2001-04-01T00:00:00",
          "price": 103.7,
          "symbol": "IBM"
         },
         {
          "date": "2001-05-01T00:00:00",
          "price": 100.82,
          "symbol": "IBM"
         },
         {
          "date": "2001-06-01T00:00:00",
          "price": 102.35,
          "symbol": "IBM"
         },
         {
          "date": "2001-07-01T00:00:00",
          "price": 94.87,
          "symbol": "IBM"
         },
         {
          "date": "2001-08-01T00:00:00",
          "price": 90.25,
          "symbol": "IBM"
         },
         {
          "date": "2001-09-01T00:00:00",
          "price": 82.82,
          "symbol": "IBM"
         },
         {
          "date": "2001-10-01T00:00:00",
          "price": 97.58,
          "symbol": "IBM"
         },
         {
          "date": "2001-11-01T00:00:00",
          "price": 104.5,
          "symbol": "IBM"
         },
         {
          "date": "2001-12-01T00:00:00",
          "price": 109.36,
          "symbol": "IBM"
         },
         {
          "date": "2002-01-01T00:00:00",
          "price": 97.54,
          "symbol": "IBM"
         },
         {
          "date": "2002-02-01T00:00:00",
          "price": 88.82,
          "symbol": "IBM"
         },
         {
          "date": "2002-03-01T00:00:00",
          "price": 94.15,
          "symbol": "IBM"
         },
         {
          "date": "2002-04-01T00:00:00",
          "price": 75.82,
          "symbol": "IBM"
         },
         {
          "date": "2002-05-01T00:00:00",
          "price": 72.97,
          "symbol": "IBM"
         },
         {
          "date": "2002-06-01T00:00:00",
          "price": 65.31,
          "symbol": "IBM"
         },
         {
          "date": "2002-07-01T00:00:00",
          "price": 63.86,
          "symbol": "IBM"
         },
         {
          "date": "2002-08-01T00:00:00",
          "price": 68.52,
          "symbol": "IBM"
         },
         {
          "date": "2002-09-01T00:00:00",
          "price": 53.01,
          "symbol": "IBM"
         },
         {
          "date": "2002-10-01T00:00:00",
          "price": 71.76,
          "symbol": "IBM"
         },
         {
          "date": "2002-11-01T00:00:00",
          "price": 79.16,
          "symbol": "IBM"
         },
         {
          "date": "2002-12-01T00:00:00",
          "price": 70.58,
          "symbol": "IBM"
         },
         {
          "date": "2003-01-01T00:00:00",
          "price": 71.22,
          "symbol": "IBM"
         },
         {
          "date": "2003-02-01T00:00:00",
          "price": 71.13,
          "symbol": "IBM"
         },
         {
          "date": "2003-03-01T00:00:00",
          "price": 71.57,
          "symbol": "IBM"
         },
         {
          "date": "2003-04-01T00:00:00",
          "price": 77.47,
          "symbol": "IBM"
         },
         {
          "date": "2003-05-01T00:00:00",
          "price": 80.48,
          "symbol": "IBM"
         },
         {
          "date": "2003-06-01T00:00:00",
          "price": 75.42,
          "symbol": "IBM"
         },
         {
          "date": "2003-07-01T00:00:00",
          "price": 74.28,
          "symbol": "IBM"
         },
         {
          "date": "2003-08-01T00:00:00",
          "price": 75.12,
          "symbol": "IBM"
         },
         {
          "date": "2003-09-01T00:00:00",
          "price": 80.91,
          "symbol": "IBM"
         },
         {
          "date": "2003-10-01T00:00:00",
          "price": 81.96,
          "symbol": "IBM"
         },
         {
          "date": "2003-11-01T00:00:00",
          "price": 83.08,
          "symbol": "IBM"
         },
         {
          "date": "2003-12-01T00:00:00",
          "price": 85.05,
          "symbol": "IBM"
         },
         {
          "date": "2004-01-01T00:00:00",
          "price": 91.06,
          "symbol": "IBM"
         },
         {
          "date": "2004-02-01T00:00:00",
          "price": 88.7,
          "symbol": "IBM"
         },
         {
          "date": "2004-03-01T00:00:00",
          "price": 84.41,
          "symbol": "IBM"
         },
         {
          "date": "2004-04-01T00:00:00",
          "price": 81.04,
          "symbol": "IBM"
         },
         {
          "date": "2004-05-01T00:00:00",
          "price": 81.59,
          "symbol": "IBM"
         },
         {
          "date": "2004-06-01T00:00:00",
          "price": 81.19,
          "symbol": "IBM"
         },
         {
          "date": "2004-07-01T00:00:00",
          "price": 80.19,
          "symbol": "IBM"
         },
         {
          "date": "2004-08-01T00:00:00",
          "price": 78.17,
          "symbol": "IBM"
         },
         {
          "date": "2004-09-01T00:00:00",
          "price": 79.13,
          "symbol": "IBM"
         },
         {
          "date": "2004-10-01T00:00:00",
          "price": 82.84,
          "symbol": "IBM"
         },
         {
          "date": "2004-11-01T00:00:00",
          "price": 87.15,
          "symbol": "IBM"
         },
         {
          "date": "2004-12-01T00:00:00",
          "price": 91.16,
          "symbol": "IBM"
         },
         {
          "date": "2005-01-01T00:00:00",
          "price": 86.39,
          "symbol": "IBM"
         },
         {
          "date": "2005-02-01T00:00:00",
          "price": 85.78,
          "symbol": "IBM"
         },
         {
          "date": "2005-03-01T00:00:00",
          "price": 84.66,
          "symbol": "IBM"
         },
         {
          "date": "2005-04-01T00:00:00",
          "price": 70.77,
          "symbol": "IBM"
         },
         {
          "date": "2005-05-01T00:00:00",
          "price": 70.18,
          "symbol": "IBM"
         },
         {
          "date": "2005-06-01T00:00:00",
          "price": 68.93,
          "symbol": "IBM"
         },
         {
          "date": "2005-07-01T00:00:00",
          "price": 77.53,
          "symbol": "IBM"
         },
         {
          "date": "2005-08-01T00:00:00",
          "price": 75.07,
          "symbol": "IBM"
         },
         {
          "date": "2005-09-01T00:00:00",
          "price": 74.7,
          "symbol": "IBM"
         },
         {
          "date": "2005-10-01T00:00:00",
          "price": 76.25,
          "symbol": "IBM"
         },
         {
          "date": "2005-11-01T00:00:00",
          "price": 82.98,
          "symbol": "IBM"
         },
         {
          "date": "2005-12-01T00:00:00",
          "price": 76.73,
          "symbol": "IBM"
         },
         {
          "date": "2006-01-01T00:00:00",
          "price": 75.89,
          "symbol": "IBM"
         },
         {
          "date": "2006-02-01T00:00:00",
          "price": 75.09,
          "symbol": "IBM"
         },
         {
          "date": "2006-03-01T00:00:00",
          "price": 77.17,
          "symbol": "IBM"
         },
         {
          "date": "2006-04-01T00:00:00",
          "price": 77.05,
          "symbol": "IBM"
         },
         {
          "date": "2006-05-01T00:00:00",
          "price": 75.04,
          "symbol": "IBM"
         },
         {
          "date": "2006-06-01T00:00:00",
          "price": 72.15,
          "symbol": "IBM"
         },
         {
          "date": "2006-07-01T00:00:00",
          "price": 72.7,
          "symbol": "IBM"
         },
         {
          "date": "2006-08-01T00:00:00",
          "price": 76.35,
          "symbol": "IBM"
         },
         {
          "date": "2006-09-01T00:00:00",
          "price": 77.26,
          "symbol": "IBM"
         },
         {
          "date": "2006-10-01T00:00:00",
          "price": 87.06,
          "symbol": "IBM"
         },
         {
          "date": "2006-11-01T00:00:00",
          "price": 86.95,
          "symbol": "IBM"
         },
         {
          "date": "2006-12-01T00:00:00",
          "price": 91.9,
          "symbol": "IBM"
         },
         {
          "date": "2007-01-01T00:00:00",
          "price": 93.79,
          "symbol": "IBM"
         },
         {
          "date": "2007-02-01T00:00:00",
          "price": 88.18,
          "symbol": "IBM"
         },
         {
          "date": "2007-03-01T00:00:00",
          "price": 89.44,
          "symbol": "IBM"
         },
         {
          "date": "2007-04-01T00:00:00",
          "price": 96.98,
          "symbol": "IBM"
         },
         {
          "date": "2007-05-01T00:00:00",
          "price": 101.54,
          "symbol": "IBM"
         },
         {
          "date": "2007-06-01T00:00:00",
          "price": 100.25,
          "symbol": "IBM"
         },
         {
          "date": "2007-07-01T00:00:00",
          "price": 105.4,
          "symbol": "IBM"
         },
         {
          "date": "2007-08-01T00:00:00",
          "price": 111.54,
          "symbol": "IBM"
         },
         {
          "date": "2007-09-01T00:00:00",
          "price": 112.6,
          "symbol": "IBM"
         },
         {
          "date": "2007-10-01T00:00:00",
          "price": 111,
          "symbol": "IBM"
         },
         {
          "date": "2007-11-01T00:00:00",
          "price": 100.9,
          "symbol": "IBM"
         },
         {
          "date": "2007-12-01T00:00:00",
          "price": 103.7,
          "symbol": "IBM"
         },
         {
          "date": "2008-01-01T00:00:00",
          "price": 102.75,
          "symbol": "IBM"
         },
         {
          "date": "2008-02-01T00:00:00",
          "price": 109.64,
          "symbol": "IBM"
         },
         {
          "date": "2008-03-01T00:00:00",
          "price": 110.87,
          "symbol": "IBM"
         },
         {
          "date": "2008-04-01T00:00:00",
          "price": 116.23,
          "symbol": "IBM"
         },
         {
          "date": "2008-05-01T00:00:00",
          "price": 125.14,
          "symbol": "IBM"
         },
         {
          "date": "2008-06-01T00:00:00",
          "price": 114.6,
          "symbol": "IBM"
         },
         {
          "date": "2008-07-01T00:00:00",
          "price": 123.74,
          "symbol": "IBM"
         },
         {
          "date": "2008-08-01T00:00:00",
          "price": 118.16,
          "symbol": "IBM"
         },
         {
          "date": "2008-09-01T00:00:00",
          "price": 113.53,
          "symbol": "IBM"
         },
         {
          "date": "2008-10-01T00:00:00",
          "price": 90.24,
          "symbol": "IBM"
         },
         {
          "date": "2008-11-01T00:00:00",
          "price": 79.65,
          "symbol": "IBM"
         },
         {
          "date": "2008-12-01T00:00:00",
          "price": 82.15,
          "symbol": "IBM"
         },
         {
          "date": "2009-01-01T00:00:00",
          "price": 89.46,
          "symbol": "IBM"
         },
         {
          "date": "2009-02-01T00:00:00",
          "price": 90.32,
          "symbol": "IBM"
         },
         {
          "date": "2009-03-01T00:00:00",
          "price": 95.09,
          "symbol": "IBM"
         },
         {
          "date": "2009-04-01T00:00:00",
          "price": 101.29,
          "symbol": "IBM"
         },
         {
          "date": "2009-05-01T00:00:00",
          "price": 104.85,
          "symbol": "IBM"
         },
         {
          "date": "2009-06-01T00:00:00",
          "price": 103.01,
          "symbol": "IBM"
         },
         {
          "date": "2009-07-01T00:00:00",
          "price": 116.34,
          "symbol": "IBM"
         },
         {
          "date": "2009-08-01T00:00:00",
          "price": 117,
          "symbol": "IBM"
         },
         {
          "date": "2009-09-01T00:00:00",
          "price": 118.55,
          "symbol": "IBM"
         },
         {
          "date": "2009-10-01T00:00:00",
          "price": 119.54,
          "symbol": "IBM"
         },
         {
          "date": "2009-11-01T00:00:00",
          "price": 125.79,
          "symbol": "IBM"
         },
         {
          "date": "2009-12-01T00:00:00",
          "price": 130.32,
          "symbol": "IBM"
         },
         {
          "date": "2010-01-01T00:00:00",
          "price": 121.85,
          "symbol": "IBM"
         },
         {
          "date": "2010-02-01T00:00:00",
          "price": 127.16,
          "symbol": "IBM"
         },
         {
          "date": "2010-03-01T00:00:00",
          "price": 125.55,
          "symbol": "IBM"
         },
         {
          "date": "2004-08-01T00:00:00",
          "price": 102.37,
          "symbol": "GOOG"
         },
         {
          "date": "2004-09-01T00:00:00",
          "price": 129.6,
          "symbol": "GOOG"
         },
         {
          "date": "2004-10-01T00:00:00",
          "price": 190.64,
          "symbol": "GOOG"
         },
         {
          "date": "2004-11-01T00:00:00",
          "price": 181.98,
          "symbol": "GOOG"
         },
         {
          "date": "2004-12-01T00:00:00",
          "price": 192.79,
          "symbol": "GOOG"
         },
         {
          "date": "2005-01-01T00:00:00",
          "price": 195.62,
          "symbol": "GOOG"
         },
         {
          "date": "2005-02-01T00:00:00",
          "price": 187.99,
          "symbol": "GOOG"
         },
         {
          "date": "2005-03-01T00:00:00",
          "price": 180.51,
          "symbol": "GOOG"
         },
         {
          "date": "2005-04-01T00:00:00",
          "price": 220,
          "symbol": "GOOG"
         },
         {
          "date": "2005-05-01T00:00:00",
          "price": 277.27,
          "symbol": "GOOG"
         },
         {
          "date": "2005-06-01T00:00:00",
          "price": 294.15,
          "symbol": "GOOG"
         },
         {
          "date": "2005-07-01T00:00:00",
          "price": 287.76,
          "symbol": "GOOG"
         },
         {
          "date": "2005-08-01T00:00:00",
          "price": 286,
          "symbol": "GOOG"
         },
         {
          "date": "2005-09-01T00:00:00",
          "price": 316.46,
          "symbol": "GOOG"
         },
         {
          "date": "2005-10-01T00:00:00",
          "price": 372.14,
          "symbol": "GOOG"
         },
         {
          "date": "2005-11-01T00:00:00",
          "price": 404.91,
          "symbol": "GOOG"
         },
         {
          "date": "2005-12-01T00:00:00",
          "price": 414.86,
          "symbol": "GOOG"
         },
         {
          "date": "2006-01-01T00:00:00",
          "price": 432.66,
          "symbol": "GOOG"
         },
         {
          "date": "2006-02-01T00:00:00",
          "price": 362.62,
          "symbol": "GOOG"
         },
         {
          "date": "2006-03-01T00:00:00",
          "price": 390,
          "symbol": "GOOG"
         },
         {
          "date": "2006-04-01T00:00:00",
          "price": 417.94,
          "symbol": "GOOG"
         },
         {
          "date": "2006-05-01T00:00:00",
          "price": 371.82,
          "symbol": "GOOG"
         },
         {
          "date": "2006-06-01T00:00:00",
          "price": 419.33,
          "symbol": "GOOG"
         },
         {
          "date": "2006-07-01T00:00:00",
          "price": 386.6,
          "symbol": "GOOG"
         },
         {
          "date": "2006-08-01T00:00:00",
          "price": 378.53,
          "symbol": "GOOG"
         },
         {
          "date": "2006-09-01T00:00:00",
          "price": 401.9,
          "symbol": "GOOG"
         },
         {
          "date": "2006-10-01T00:00:00",
          "price": 476.39,
          "symbol": "GOOG"
         },
         {
          "date": "2006-11-01T00:00:00",
          "price": 484.81,
          "symbol": "GOOG"
         },
         {
          "date": "2006-12-01T00:00:00",
          "price": 460.48,
          "symbol": "GOOG"
         },
         {
          "date": "2007-01-01T00:00:00",
          "price": 501.5,
          "symbol": "GOOG"
         },
         {
          "date": "2007-02-01T00:00:00",
          "price": 449.45,
          "symbol": "GOOG"
         },
         {
          "date": "2007-03-01T00:00:00",
          "price": 458.16,
          "symbol": "GOOG"
         },
         {
          "date": "2007-04-01T00:00:00",
          "price": 471.38,
          "symbol": "GOOG"
         },
         {
          "date": "2007-05-01T00:00:00",
          "price": 497.91,
          "symbol": "GOOG"
         },
         {
          "date": "2007-06-01T00:00:00",
          "price": 522.7,
          "symbol": "GOOG"
         },
         {
          "date": "2007-07-01T00:00:00",
          "price": 510,
          "symbol": "GOOG"
         },
         {
          "date": "2007-08-01T00:00:00",
          "price": 515.25,
          "symbol": "GOOG"
         },
         {
          "date": "2007-09-01T00:00:00",
          "price": 567.27,
          "symbol": "GOOG"
         },
         {
          "date": "2007-10-01T00:00:00",
          "price": 707,
          "symbol": "GOOG"
         },
         {
          "date": "2007-11-01T00:00:00",
          "price": 693,
          "symbol": "GOOG"
         },
         {
          "date": "2007-12-01T00:00:00",
          "price": 691.48,
          "symbol": "GOOG"
         },
         {
          "date": "2008-01-01T00:00:00",
          "price": 564.3,
          "symbol": "GOOG"
         },
         {
          "date": "2008-02-01T00:00:00",
          "price": 471.18,
          "symbol": "GOOG"
         },
         {
          "date": "2008-03-01T00:00:00",
          "price": 440.47,
          "symbol": "GOOG"
         },
         {
          "date": "2008-04-01T00:00:00",
          "price": 574.29,
          "symbol": "GOOG"
         },
         {
          "date": "2008-05-01T00:00:00",
          "price": 585.8,
          "symbol": "GOOG"
         },
         {
          "date": "2008-06-01T00:00:00",
          "price": 526.42,
          "symbol": "GOOG"
         },
         {
          "date": "2008-07-01T00:00:00",
          "price": 473.75,
          "symbol": "GOOG"
         },
         {
          "date": "2008-08-01T00:00:00",
          "price": 463.29,
          "symbol": "GOOG"
         },
         {
          "date": "2008-09-01T00:00:00",
          "price": 400.52,
          "symbol": "GOOG"
         },
         {
          "date": "2008-10-01T00:00:00",
          "price": 359.36,
          "symbol": "GOOG"
         },
         {
          "date": "2008-11-01T00:00:00",
          "price": 292.96,
          "symbol": "GOOG"
         },
         {
          "date": "2008-12-01T00:00:00",
          "price": 307.65,
          "symbol": "GOOG"
         },
         {
          "date": "2009-01-01T00:00:00",
          "price": 338.53,
          "symbol": "GOOG"
         },
         {
          "date": "2009-02-01T00:00:00",
          "price": 337.99,
          "symbol": "GOOG"
         },
         {
          "date": "2009-03-01T00:00:00",
          "price": 348.06,
          "symbol": "GOOG"
         },
         {
          "date": "2009-04-01T00:00:00",
          "price": 395.97,
          "symbol": "GOOG"
         },
         {
          "date": "2009-05-01T00:00:00",
          "price": 417.23,
          "symbol": "GOOG"
         },
         {
          "date": "2009-06-01T00:00:00",
          "price": 421.59,
          "symbol": "GOOG"
         },
         {
          "date": "2009-07-01T00:00:00",
          "price": 443.05,
          "symbol": "GOOG"
         },
         {
          "date": "2009-08-01T00:00:00",
          "price": 461.67,
          "symbol": "GOOG"
         },
         {
          "date": "2009-09-01T00:00:00",
          "price": 495.85,
          "symbol": "GOOG"
         },
         {
          "date": "2009-10-01T00:00:00",
          "price": 536.12,
          "symbol": "GOOG"
         },
         {
          "date": "2009-11-01T00:00:00",
          "price": 583,
          "symbol": "GOOG"
         },
         {
          "date": "2009-12-01T00:00:00",
          "price": 619.98,
          "symbol": "GOOG"
         },
         {
          "date": "2010-01-01T00:00:00",
          "price": 529.94,
          "symbol": "GOOG"
         },
         {
          "date": "2010-02-01T00:00:00",
          "price": 526.8,
          "symbol": "GOOG"
         },
         {
          "date": "2010-03-01T00:00:00",
          "price": 560.19,
          "symbol": "GOOG"
         },
         {
          "date": "2000-01-01T00:00:00",
          "price": 25.94,
          "symbol": "AAPL"
         },
         {
          "date": "2000-02-01T00:00:00",
          "price": 28.66,
          "symbol": "AAPL"
         },
         {
          "date": "2000-03-01T00:00:00",
          "price": 33.95,
          "symbol": "AAPL"
         },
         {
          "date": "2000-04-01T00:00:00",
          "price": 31.01,
          "symbol": "AAPL"
         },
         {
          "date": "2000-05-01T00:00:00",
          "price": 21,
          "symbol": "AAPL"
         },
         {
          "date": "2000-06-01T00:00:00",
          "price": 26.19,
          "symbol": "AAPL"
         },
         {
          "date": "2000-07-01T00:00:00",
          "price": 25.41,
          "symbol": "AAPL"
         },
         {
          "date": "2000-08-01T00:00:00",
          "price": 30.47,
          "symbol": "AAPL"
         },
         {
          "date": "2000-09-01T00:00:00",
          "price": 12.88,
          "symbol": "AAPL"
         },
         {
          "date": "2000-10-01T00:00:00",
          "price": 9.78,
          "symbol": "AAPL"
         },
         {
          "date": "2000-11-01T00:00:00",
          "price": 8.25,
          "symbol": "AAPL"
         },
         {
          "date": "2000-12-01T00:00:00",
          "price": 7.44,
          "symbol": "AAPL"
         },
         {
          "date": "2001-01-01T00:00:00",
          "price": 10.81,
          "symbol": "AAPL"
         },
         {
          "date": "2001-02-01T00:00:00",
          "price": 9.12,
          "symbol": "AAPL"
         },
         {
          "date": "2001-03-01T00:00:00",
          "price": 11.03,
          "symbol": "AAPL"
         },
         {
          "date": "2001-04-01T00:00:00",
          "price": 12.74,
          "symbol": "AAPL"
         },
         {
          "date": "2001-05-01T00:00:00",
          "price": 9.98,
          "symbol": "AAPL"
         },
         {
          "date": "2001-06-01T00:00:00",
          "price": 11.62,
          "symbol": "AAPL"
         },
         {
          "date": "2001-07-01T00:00:00",
          "price": 9.4,
          "symbol": "AAPL"
         },
         {
          "date": "2001-08-01T00:00:00",
          "price": 9.27,
          "symbol": "AAPL"
         },
         {
          "date": "2001-09-01T00:00:00",
          "price": 7.76,
          "symbol": "AAPL"
         },
         {
          "date": "2001-10-01T00:00:00",
          "price": 8.78,
          "symbol": "AAPL"
         },
         {
          "date": "2001-11-01T00:00:00",
          "price": 10.65,
          "symbol": "AAPL"
         },
         {
          "date": "2001-12-01T00:00:00",
          "price": 10.95,
          "symbol": "AAPL"
         },
         {
          "date": "2002-01-01T00:00:00",
          "price": 12.36,
          "symbol": "AAPL"
         },
         {
          "date": "2002-02-01T00:00:00",
          "price": 10.85,
          "symbol": "AAPL"
         },
         {
          "date": "2002-03-01T00:00:00",
          "price": 11.84,
          "symbol": "AAPL"
         },
         {
          "date": "2002-04-01T00:00:00",
          "price": 12.14,
          "symbol": "AAPL"
         },
         {
          "date": "2002-05-01T00:00:00",
          "price": 11.65,
          "symbol": "AAPL"
         },
         {
          "date": "2002-06-01T00:00:00",
          "price": 8.86,
          "symbol": "AAPL"
         },
         {
          "date": "2002-07-01T00:00:00",
          "price": 7.63,
          "symbol": "AAPL"
         },
         {
          "date": "2002-08-01T00:00:00",
          "price": 7.38,
          "symbol": "AAPL"
         },
         {
          "date": "2002-09-01T00:00:00",
          "price": 7.25,
          "symbol": "AAPL"
         },
         {
          "date": "2002-10-01T00:00:00",
          "price": 8.03,
          "symbol": "AAPL"
         },
         {
          "date": "2002-11-01T00:00:00",
          "price": 7.75,
          "symbol": "AAPL"
         },
         {
          "date": "2002-12-01T00:00:00",
          "price": 7.16,
          "symbol": "AAPL"
         },
         {
          "date": "2003-01-01T00:00:00",
          "price": 7.18,
          "symbol": "AAPL"
         },
         {
          "date": "2003-02-01T00:00:00",
          "price": 7.51,
          "symbol": "AAPL"
         },
         {
          "date": "2003-03-01T00:00:00",
          "price": 7.07,
          "symbol": "AAPL"
         },
         {
          "date": "2003-04-01T00:00:00",
          "price": 7.11,
          "symbol": "AAPL"
         },
         {
          "date": "2003-05-01T00:00:00",
          "price": 8.98,
          "symbol": "AAPL"
         },
         {
          "date": "2003-06-01T00:00:00",
          "price": 9.53,
          "symbol": "AAPL"
         },
         {
          "date": "2003-07-01T00:00:00",
          "price": 10.54,
          "symbol": "AAPL"
         },
         {
          "date": "2003-08-01T00:00:00",
          "price": 11.31,
          "symbol": "AAPL"
         },
         {
          "date": "2003-09-01T00:00:00",
          "price": 10.36,
          "symbol": "AAPL"
         },
         {
          "date": "2003-10-01T00:00:00",
          "price": 11.44,
          "symbol": "AAPL"
         },
         {
          "date": "2003-11-01T00:00:00",
          "price": 10.45,
          "symbol": "AAPL"
         },
         {
          "date": "2003-12-01T00:00:00",
          "price": 10.69,
          "symbol": "AAPL"
         },
         {
          "date": "2004-01-01T00:00:00",
          "price": 11.28,
          "symbol": "AAPL"
         },
         {
          "date": "2004-02-01T00:00:00",
          "price": 11.96,
          "symbol": "AAPL"
         },
         {
          "date": "2004-03-01T00:00:00",
          "price": 13.52,
          "symbol": "AAPL"
         },
         {
          "date": "2004-04-01T00:00:00",
          "price": 12.89,
          "symbol": "AAPL"
         },
         {
          "date": "2004-05-01T00:00:00",
          "price": 14.03,
          "symbol": "AAPL"
         },
         {
          "date": "2004-06-01T00:00:00",
          "price": 16.27,
          "symbol": "AAPL"
         },
         {
          "date": "2004-07-01T00:00:00",
          "price": 16.17,
          "symbol": "AAPL"
         },
         {
          "date": "2004-08-01T00:00:00",
          "price": 17.25,
          "symbol": "AAPL"
         },
         {
          "date": "2004-09-01T00:00:00",
          "price": 19.38,
          "symbol": "AAPL"
         },
         {
          "date": "2004-10-01T00:00:00",
          "price": 26.2,
          "symbol": "AAPL"
         },
         {
          "date": "2004-11-01T00:00:00",
          "price": 33.53,
          "symbol": "AAPL"
         },
         {
          "date": "2004-12-01T00:00:00",
          "price": 32.2,
          "symbol": "AAPL"
         },
         {
          "date": "2005-01-01T00:00:00",
          "price": 38.45,
          "symbol": "AAPL"
         },
         {
          "date": "2005-02-01T00:00:00",
          "price": 44.86,
          "symbol": "AAPL"
         },
         {
          "date": "2005-03-01T00:00:00",
          "price": 41.67,
          "symbol": "AAPL"
         },
         {
          "date": "2005-04-01T00:00:00",
          "price": 36.06,
          "symbol": "AAPL"
         },
         {
          "date": "2005-05-01T00:00:00",
          "price": 39.76,
          "symbol": "AAPL"
         },
         {
          "date": "2005-06-01T00:00:00",
          "price": 36.81,
          "symbol": "AAPL"
         },
         {
          "date": "2005-07-01T00:00:00",
          "price": 42.65,
          "symbol": "AAPL"
         },
         {
          "date": "2005-08-01T00:00:00",
          "price": 46.89,
          "symbol": "AAPL"
         },
         {
          "date": "2005-09-01T00:00:00",
          "price": 53.61,
          "symbol": "AAPL"
         },
         {
          "date": "2005-10-01T00:00:00",
          "price": 57.59,
          "symbol": "AAPL"
         },
         {
          "date": "2005-11-01T00:00:00",
          "price": 67.82,
          "symbol": "AAPL"
         },
         {
          "date": "2005-12-01T00:00:00",
          "price": 71.89,
          "symbol": "AAPL"
         },
         {
          "date": "2006-01-01T00:00:00",
          "price": 75.51,
          "symbol": "AAPL"
         },
         {
          "date": "2006-02-01T00:00:00",
          "price": 68.49,
          "symbol": "AAPL"
         },
         {
          "date": "2006-03-01T00:00:00",
          "price": 62.72,
          "symbol": "AAPL"
         },
         {
          "date": "2006-04-01T00:00:00",
          "price": 70.39,
          "symbol": "AAPL"
         },
         {
          "date": "2006-05-01T00:00:00",
          "price": 59.77,
          "symbol": "AAPL"
         },
         {
          "date": "2006-06-01T00:00:00",
          "price": 57.27,
          "symbol": "AAPL"
         },
         {
          "date": "2006-07-01T00:00:00",
          "price": 67.96,
          "symbol": "AAPL"
         },
         {
          "date": "2006-08-01T00:00:00",
          "price": 67.85,
          "symbol": "AAPL"
         },
         {
          "date": "2006-09-01T00:00:00",
          "price": 76.98,
          "symbol": "AAPL"
         },
         {
          "date": "2006-10-01T00:00:00",
          "price": 81.08,
          "symbol": "AAPL"
         },
         {
          "date": "2006-11-01T00:00:00",
          "price": 91.66,
          "symbol": "AAPL"
         },
         {
          "date": "2006-12-01T00:00:00",
          "price": 84.84,
          "symbol": "AAPL"
         },
         {
          "date": "2007-01-01T00:00:00",
          "price": 85.73,
          "symbol": "AAPL"
         },
         {
          "date": "2007-02-01T00:00:00",
          "price": 84.61,
          "symbol": "AAPL"
         },
         {
          "date": "2007-03-01T00:00:00",
          "price": 92.91,
          "symbol": "AAPL"
         },
         {
          "date": "2007-04-01T00:00:00",
          "price": 99.8,
          "symbol": "AAPL"
         },
         {
          "date": "2007-05-01T00:00:00",
          "price": 121.19,
          "symbol": "AAPL"
         },
         {
          "date": "2007-06-01T00:00:00",
          "price": 122.04,
          "symbol": "AAPL"
         },
         {
          "date": "2007-07-01T00:00:00",
          "price": 131.76,
          "symbol": "AAPL"
         },
         {
          "date": "2007-08-01T00:00:00",
          "price": 138.48,
          "symbol": "AAPL"
         },
         {
          "date": "2007-09-01T00:00:00",
          "price": 153.47,
          "symbol": "AAPL"
         },
         {
          "date": "2007-10-01T00:00:00",
          "price": 189.95,
          "symbol": "AAPL"
         },
         {
          "date": "2007-11-01T00:00:00",
          "price": 182.22,
          "symbol": "AAPL"
         },
         {
          "date": "2007-12-01T00:00:00",
          "price": 198.08,
          "symbol": "AAPL"
         },
         {
          "date": "2008-01-01T00:00:00",
          "price": 135.36,
          "symbol": "AAPL"
         },
         {
          "date": "2008-02-01T00:00:00",
          "price": 125.02,
          "symbol": "AAPL"
         },
         {
          "date": "2008-03-01T00:00:00",
          "price": 143.5,
          "symbol": "AAPL"
         },
         {
          "date": "2008-04-01T00:00:00",
          "price": 173.95,
          "symbol": "AAPL"
         },
         {
          "date": "2008-05-01T00:00:00",
          "price": 188.75,
          "symbol": "AAPL"
         },
         {
          "date": "2008-06-01T00:00:00",
          "price": 167.44,
          "symbol": "AAPL"
         },
         {
          "date": "2008-07-01T00:00:00",
          "price": 158.95,
          "symbol": "AAPL"
         },
         {
          "date": "2008-08-01T00:00:00",
          "price": 169.53,
          "symbol": "AAPL"
         },
         {
          "date": "2008-09-01T00:00:00",
          "price": 113.66,
          "symbol": "AAPL"
         },
         {
          "date": "2008-10-01T00:00:00",
          "price": 107.59,
          "symbol": "AAPL"
         },
         {
          "date": "2008-11-01T00:00:00",
          "price": 92.67,
          "symbol": "AAPL"
         },
         {
          "date": "2008-12-01T00:00:00",
          "price": 85.35,
          "symbol": "AAPL"
         },
         {
          "date": "2009-01-01T00:00:00",
          "price": 90.13,
          "symbol": "AAPL"
         },
         {
          "date": "2009-02-01T00:00:00",
          "price": 89.31,
          "symbol": "AAPL"
         },
         {
          "date": "2009-03-01T00:00:00",
          "price": 105.12,
          "symbol": "AAPL"
         },
         {
          "date": "2009-04-01T00:00:00",
          "price": 125.83,
          "symbol": "AAPL"
         },
         {
          "date": "2009-05-01T00:00:00",
          "price": 135.81,
          "symbol": "AAPL"
         },
         {
          "date": "2009-06-01T00:00:00",
          "price": 142.43,
          "symbol": "AAPL"
         },
         {
          "date": "2009-07-01T00:00:00",
          "price": 163.39,
          "symbol": "AAPL"
         },
         {
          "date": "2009-08-01T00:00:00",
          "price": 168.21,
          "symbol": "AAPL"
         },
         {
          "date": "2009-09-01T00:00:00",
          "price": 185.35,
          "symbol": "AAPL"
         },
         {
          "date": "2009-10-01T00:00:00",
          "price": 188.5,
          "symbol": "AAPL"
         },
         {
          "date": "2009-11-01T00:00:00",
          "price": 199.91,
          "symbol": "AAPL"
         },
         {
          "date": "2009-12-01T00:00:00",
          "price": 210.73,
          "symbol": "AAPL"
         },
         {
          "date": "2010-01-01T00:00:00",
          "price": 192.06,
          "symbol": "AAPL"
         },
         {
          "date": "2010-02-01T00:00:00",
          "price": 204.62,
          "symbol": "AAPL"
         },
         {
          "date": "2010-03-01T00:00:00",
          "price": 223.02,
          "symbol": "AAPL"
         }
        ]
       },
       "encoding": {
        "color": {
         "field": "symbol",
         "type": "nominal"
        },
        "x": {
         "field": "date",
         "type": "temporal"
        },
        "y": {
         "field": "price",
         "type": "quantitative"
        }
       },
       "mark": "line"
      },
      "image/png": "[encoded data removed]",
      "text/plain": [
       "<VegaLite 2 object>\n",
       "\n",
       "If you see this message, it means the renderer has not been properly enabled\n",
       "for the frontend that you are using. For more information, see\n",
       "https://altair-viz.github.io/user_guide/troubleshooting.html\n"
      ]
     },
     "execution_count": 246,
     "metadata": {},
     "output_type": "execute_result"
    }
   ],
   "source": [
    "import altair as alt\n",
    "from vega_datasets import data\n",
    "\n",
    "source = data.stocks()\n",
    "\n",
    "alt.Chart(source).mark_line().encode(\n",
    "    x='date',\n",
    "    y='price',\n",
    "    color='symbol'\n",
    ")"
   ]
  },
  {
   "cell_type": "code",
   "execution_count": null,
   "metadata": {},
   "outputs": [],
   "source": []
  }
 ],
 "metadata": {
  "kernelspec": {
   "display_name": "Python 3",
   "language": "python",
   "name": "python3"
  },
  "language_info": {
   "codemirror_mode": {
    "name": "ipython",
    "version": 3
   },
   "file_extension": ".py",
   "mimetype": "text/x-python",
   "name": "python",
   "nbconvert_exporter": "python",
   "pygments_lexer": "ipython3",
   "version": "3.6.5"
  }
 },
 "nbformat": 4,
 "nbformat_minor": 2
}
